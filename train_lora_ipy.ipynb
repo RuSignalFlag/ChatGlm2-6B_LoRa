{
 "cells": [
  {
   "cell_type": "code",
   "execution_count": null,
   "id": "635c0748-76d9-4fcd-83c1-6c68132de5e2",
   "metadata": {
    "ExecutionIndicator": {
     "show": true
    },
    "tags": []
   },
   "outputs": [],
   "source": [
    "from datasets import load_from_disk\n",
    "from transformers import (\n",
    "    AutoModel,\n",
    "    BitsAndBytesConfig,\n",
    "    AutoTokenizer,\n",
    "    TrainingArguments,\n",
    "    Trainer,\n",
    "    DataCollatorForSeq2Seq,\n",
    "    HfArgumentParser\n",
    ")\n",
    "import torch\n",
    "from peft import TaskType, LoraConfig, get_peft_model\n",
    "import os\n",
    "import numpy as np\n",
    "from dataclasses import field, dataclass\n",
    "from typing import Union, List, Optional\n",
    "from loguru import logger"
   ]
  },
  {
   "cell_type": "markdown",
   "id": "2aee0673-f1aa-4c1d-a86e-b755349eea81",
   "metadata": {
    "tags": []
   },
   "source": [
    "# prepare arguments "
   ]
  },
  {
   "cell_type": "code",
   "execution_count": 2,
   "id": "b0922627-adb2-49a3-bf13-8f8555a3c65e",
   "metadata": {
    "ExecutionIndicator": {
     "show": true
    },
    "execution": {
     "iopub.execute_input": "2023-07-15T08:44:12.831657Z",
     "iopub.status.busy": "2023-07-15T08:44:12.831247Z",
     "iopub.status.idle": "2023-07-15T08:44:12.836400Z",
     "shell.execute_reply": "2023-07-15T08:44:12.835875Z",
     "shell.execute_reply.started": "2023-07-15T08:44:12.831636Z"
    },
    "tags": []
   },
   "outputs": [],
   "source": [
    "@dataclass\n",
    "class FinetuneArguments():\n",
    "    dataset_path: str = field(default='data/Med_datasets.jsonl')\n",
    "    model_path: str = field(default='THUDM/chatglm2-6b')\n",
    "    label_pad_token_id: int = field(default=-100)\n",
    "    load_in_4bit: bool = field(default=True)\n",
    "    bnb_4bit_quant_type: str = field(default='nf4')\n",
    "    bnb_4bit_compute_dtype: str = field(default='float32')\n",
    "    seed: int = field(default=42)\n",
    "    resume_from_checkpoint: str = field(default=None)\n",
    "    final_model_path: str = field(default='QLora_Adapter_THUDM_chatglm2-6b/finally_adapter')"
   ]
  },
  {
   "cell_type": "code",
   "execution_count": 3,
   "id": "a0a5f146-f571-40ce-a11a-a38499879121",
   "metadata": {
    "ExecutionIndicator": {
     "show": true
    },
    "execution": {
     "iopub.execute_input": "2023-07-15T08:44:12.888293Z",
     "iopub.status.busy": "2023-07-15T08:44:12.887918Z",
     "iopub.status.idle": "2023-07-15T08:44:12.892857Z",
     "shell.execute_reply": "2023-07-15T08:44:12.892302Z",
     "shell.execute_reply.started": "2023-07-15T08:44:12.888274Z"
    },
    "tags": []
   },
   "outputs": [],
   "source": [
    "@dataclass\n",
    "class LoraArguments():\n",
    "    target_modules: Union[List[int], str] = field(default='query_key_value')\n",
    "    r: int = field(default=12)\n",
    "    lora_alpha: int = field(default=12)\n",
    "    lora_dropout: float = field(default=0.05)\n",
    "    bias: str = field(default='none')\n",
    "    inference_mode: bool = field(default=False)\n",
    "    layers_to_transform: List[int] = field(default=None)\n",
    "    layers_pattern: str = field(default=None)\n",
    "    Adapter_name: str = field(default='LoraAdapter')"
   ]
  },
  {
   "cell_type": "code",
   "execution_count": 4,
   "id": "cae1008d-f630-4c5a-9e94-96d7902b0a74",
   "metadata": {
    "ExecutionIndicator": {
     "show": true
    },
    "execution": {
     "iopub.execute_input": "2023-07-15T08:44:22.401684Z",
     "iopub.status.busy": "2023-07-15T08:44:22.401274Z",
     "iopub.status.idle": "2023-07-15T08:44:22.406982Z",
     "shell.execute_reply": "2023-07-15T08:44:22.406253Z",
     "shell.execute_reply.started": "2023-07-15T08:44:22.401659Z"
    },
    "tags": []
   },
   "outputs": [
    {
     "name": "stderr",
     "output_type": "stream",
     "text": [
      "\u001b[32m2023-07-15 08:44:22.404\u001b[0m | \u001b[1mINFO    \u001b[0m | \u001b[36m__main__\u001b[0m:\u001b[36m<module>\u001b[0m:\u001b[36m3\u001b[0m - \u001b[1mcurrent_finetune_args--->FinetuneArguments(dataset_path='data/Med_datasets.jsonl', model_path='THUDM/chatglm2-6b', label_pad_token_id=-100, load_in_4bit=True, bnb_4bit_quant_type='nf4', bnb_4bit_compute_dtype='float32', seed=42, resume_from_checkpoint=None, final_model_path='Lora_Adapter_THUDM_chatglm2-6b/finally_adapter')\u001b[0m\n"
     ]
    }
   ],
   "source": [
    "finetune_args = HfArgumentParser(FinetuneArguments)\n",
    "finetune_args, = finetune_args.parse_json_file(json_file='args_file/finetune_args.json')\n",
    "logger.info(f\"current_finetune_args--->{finetune_args}\")"
   ]
  },
  {
   "cell_type": "code",
   "execution_count": 5,
   "id": "dc78a0d8-d41b-4612-b9f5-3dba719cff3e",
   "metadata": {
    "ExecutionIndicator": {
     "show": true
    },
    "execution": {
     "iopub.execute_input": "2023-07-15T08:44:23.858738Z",
     "iopub.status.busy": "2023-07-15T08:44:23.858026Z",
     "iopub.status.idle": "2023-07-15T08:44:23.868763Z",
     "shell.execute_reply": "2023-07-15T08:44:23.868128Z",
     "shell.execute_reply.started": "2023-07-15T08:44:23.858713Z"
    },
    "tags": []
   },
   "outputs": [
    {
     "name": "stderr",
     "output_type": "stream",
     "text": [
      "\u001b[32m2023-07-15 08:44:23.866\u001b[0m | \u001b[1mINFO    \u001b[0m | \u001b[36m__main__\u001b[0m:\u001b[36m<module>\u001b[0m:\u001b[36m3\u001b[0m - \u001b[1mcurrent_train_args--->TrainingArguments(\n",
      "_n_gpu=1,\n",
      "adafactor=False,\n",
      "adam_beta1=0.9,\n",
      "adam_beta2=0.999,\n",
      "adam_epsilon=1e-08,\n",
      "auto_find_batch_size=False,\n",
      "bf16=False,\n",
      "bf16_full_eval=False,\n",
      "data_seed=None,\n",
      "dataloader_drop_last=False,\n",
      "dataloader_num_workers=0,\n",
      "dataloader_pin_memory=True,\n",
      "ddp_backend=None,\n",
      "ddp_bucket_cap_mb=None,\n",
      "ddp_find_unused_parameters=False,\n",
      "ddp_timeout=1800,\n",
      "debug=[],\n",
      "deepspeed=None,\n",
      "disable_tqdm=False,\n",
      "do_eval=True,\n",
      "do_predict=False,\n",
      "do_train=False,\n",
      "eval_accumulation_steps=None,\n",
      "eval_delay=0,\n",
      "eval_steps=100,\n",
      "evaluation_strategy=IntervalStrategy.STEPS,\n",
      "fp16=False,\n",
      "fp16_backend=auto,\n",
      "fp16_full_eval=False,\n",
      "fp16_opt_level=O1,\n",
      "fsdp=[],\n",
      "fsdp_config={'fsdp_min_num_params': 0, 'xla': False, 'xla_fsdp_grad_ckpt': False},\n",
      "fsdp_min_num_params=0,\n",
      "fsdp_transformer_layer_cls_to_wrap=None,\n",
      "full_determinism=False,\n",
      "gradient_accumulation_steps=1,\n",
      "gradient_checkpointing=False,\n",
      "greater_is_better=None,\n",
      "group_by_length=False,\n",
      "half_precision_backend=auto,\n",
      "hub_model_id=None,\n",
      "hub_private_repo=False,\n",
      "hub_strategy=HubStrategy.EVERY_SAVE,\n",
      "hub_token=<HUB_TOKEN>,\n",
      "ignore_data_skip=False,\n",
      "include_inputs_for_metrics=False,\n",
      "jit_mode_eval=False,\n",
      "label_names=None,\n",
      "label_smoothing_factor=0.0,\n",
      "learning_rate=2e-05,\n",
      "length_column_name=length,\n",
      "load_best_model_at_end=False,\n",
      "local_rank=0,\n",
      "log_level=info,\n",
      "log_level_replica=warning,\n",
      "log_on_each_node=True,\n",
      "logging_dir=Lora_Adapter_THUDM_chatglm2-6b/runs/Jul15_08-44-23_dsw-22712-599bd54987-m788n,\n",
      "logging_first_step=False,\n",
      "logging_nan_inf_filter=True,\n",
      "logging_steps=10,\n",
      "logging_strategy=IntervalStrategy.STEPS,\n",
      "lr_scheduler_type=SchedulerType.LINEAR,\n",
      "max_grad_norm=1.0,\n",
      "max_steps=-1,\n",
      "metric_for_best_model=None,\n",
      "mp_parameters=,\n",
      "no_cuda=False,\n",
      "num_train_epochs=3,\n",
      "optim=OptimizerNames.ADAMW_TORCH,\n",
      "optim_args=None,\n",
      "output_dir=Lora_Adapter_THUDM_chatglm2-6b,\n",
      "overwrite_output_dir=True,\n",
      "past_index=-1,\n",
      "per_device_eval_batch_size=8,\n",
      "per_device_train_batch_size=8,\n",
      "prediction_loss_only=True,\n",
      "push_to_hub=False,\n",
      "push_to_hub_model_id=None,\n",
      "push_to_hub_organization=None,\n",
      "push_to_hub_token=<PUSH_TO_HUB_TOKEN>,\n",
      "ray_scope=last,\n",
      "remove_unused_columns=True,\n",
      "report_to=['tensorboard'],\n",
      "resume_from_checkpoint=None,\n",
      "run_name=Lora_Adapter_THUDM_chatglm2-6b,\n",
      "save_on_each_node=False,\n",
      "save_safetensors=False,\n",
      "save_steps=500,\n",
      "save_strategy=IntervalStrategy.STEPS,\n",
      "save_total_limit=None,\n",
      "seed=42,\n",
      "sharded_ddp=[],\n",
      "skip_memory_metrics=True,\n",
      "tf32=None,\n",
      "torch_compile=False,\n",
      "torch_compile_backend=None,\n",
      "torch_compile_mode=None,\n",
      "torchdynamo=None,\n",
      "tpu_metrics_debug=False,\n",
      "tpu_num_cores=None,\n",
      "use_ipex=False,\n",
      "use_legacy_prediction_loop=False,\n",
      "use_mps_device=False,\n",
      "warmup_ratio=0.0,\n",
      "warmup_steps=0,\n",
      "weight_decay=0.01,\n",
      "xpu_backend=None,\n",
      ")\u001b[0m\n"
     ]
    }
   ],
   "source": [
    "train_args = HfArgumentParser(TrainingArguments)\n",
    "train_args, = train_args.parse_json_file(json_file='args_file/train_args.json')\n",
    "logger.info(f\"current_train_args--->{train_args}\")"
   ]
  },
  {
   "cell_type": "code",
   "execution_count": 6,
   "id": "0f871767-7cb9-402d-bb25-b89f2375059e",
   "metadata": {
    "ExecutionIndicator": {
     "show": true
    },
    "execution": {
     "iopub.execute_input": "2023-07-15T08:44:26.084567Z",
     "iopub.status.busy": "2023-07-15T08:44:26.083871Z",
     "iopub.status.idle": "2023-07-15T08:44:26.089533Z",
     "shell.execute_reply": "2023-07-15T08:44:26.088859Z",
     "shell.execute_reply.started": "2023-07-15T08:44:26.084543Z"
    },
    "tags": []
   },
   "outputs": [
    {
     "name": "stderr",
     "output_type": "stream",
     "text": [
      "\u001b[32m2023-07-15 08:44:26.086\u001b[0m | \u001b[1mINFO    \u001b[0m | \u001b[36m__main__\u001b[0m:\u001b[36m<module>\u001b[0m:\u001b[36m3\u001b[0m - \u001b[1mcurrent_lora_args--->LoraArguments(target_modules=['query_key_value'], r=12, lora_alpha=24, lora_dropout=0.05, bias='none', inference_mode=False, layers_to_transform=None, layers_pattern=None, Adapter_name='LoraAdapter')\u001b[0m\n"
     ]
    }
   ],
   "source": [
    "lora_args = HfArgumentParser(LoraArguments)\n",
    "lora_args, = lora_args.parse_json_file(json_file='args_file/lora_args.json')\n",
    "logger.info(f\"current_lora_args--->{lora_args}\")"
   ]
  },
  {
   "cell_type": "markdown",
   "id": "65fb3b04-7fee-411a-88c7-3476b066601d",
   "metadata": {
    "tags": []
   },
   "source": [
    "# process dataset"
   ]
  },
  {
   "cell_type": "code",
   "execution_count": 7,
   "id": "a38af298-533f-46cc-8330-f7bb57a4b8be",
   "metadata": {
    "ExecutionIndicator": {
     "show": true
    },
    "execution": {
     "iopub.execute_input": "2023-07-15T08:44:28.354734Z",
     "iopub.status.busy": "2023-07-15T08:44:28.354304Z",
     "iopub.status.idle": "2023-07-15T08:44:28.363904Z",
     "shell.execute_reply": "2023-07-15T08:44:28.363367Z",
     "shell.execute_reply.started": "2023-07-15T08:44:28.354707Z"
    },
    "tags": []
   },
   "outputs": [
    {
     "name": "stderr",
     "output_type": "stream",
     "text": [
      "\u001b[32m2023-07-15 08:44:28.355\u001b[0m | \u001b[1mINFO    \u001b[0m | \u001b[36m__main__\u001b[0m:\u001b[36m<module>\u001b[0m:\u001b[36m1\u001b[0m - \u001b[1mfrom data/Med_datasets.jsonl loading datasets and tokenize datasets\u001b[0m\n"
     ]
    }
   ],
   "source": [
    "logger.info(f\"from {finetune_args.dataset_path} loading datasets and tokenize datasets\")\n",
    "datasets = load_from_disk(dataset_path=finetune_args.dataset_path)"
   ]
  },
  {
   "cell_type": "code",
   "execution_count": 8,
   "id": "ee51b7e7-1864-4451-8ef8-8318b5a4d39c",
   "metadata": {
    "execution": {
     "iopub.execute_input": "2023-07-15T08:44:29.283669Z",
     "iopub.status.busy": "2023-07-15T08:44:29.283194Z",
     "iopub.status.idle": "2023-07-15T08:44:29.289437Z",
     "shell.execute_reply": "2023-07-15T08:44:29.288867Z",
     "shell.execute_reply.started": "2023-07-15T08:44:29.283646Z"
    },
    "tags": []
   },
   "outputs": [
    {
     "data": {
      "text/plain": [
       "DatasetDict({\n",
       "    train: Dataset({\n",
       "        features: ['context', 'target'],\n",
       "        num_rows: 6622\n",
       "    })\n",
       "    valid: Dataset({\n",
       "        features: ['context', 'target'],\n",
       "        num_rows: 1000\n",
       "    })\n",
       "})"
      ]
     },
     "execution_count": 8,
     "metadata": {},
     "output_type": "execute_result"
    }
   ],
   "source": [
    "datasets"
   ]
  },
  {
   "cell_type": "code",
   "execution_count": 9,
   "id": "204c7acf-ae52-4154-95d9-63bc8ae0b915",
   "metadata": {
    "ExecutionIndicator": {
     "show": true
    },
    "execution": {
     "iopub.execute_input": "2023-07-15T08:44:29.935087Z",
     "iopub.status.busy": "2023-07-15T08:44:29.934745Z",
     "iopub.status.idle": "2023-07-15T08:44:30.967146Z",
     "shell.execute_reply": "2023-07-15T08:44:30.966534Z",
     "shell.execute_reply.started": "2023-07-15T08:44:29.935066Z"
    },
    "tags": []
   },
   "outputs": [],
   "source": [
    "tokenizer = AutoTokenizer.from_pretrained(finetune_args.model_path,\n",
    "                                          trust_remote_code=True)"
   ]
  },
  {
   "cell_type": "markdown",
   "id": "81da4110-d800-4583-9598-b1717f9ea73b",
   "metadata": {},
   "source": [
    "## tokenize data "
   ]
  },
  {
   "cell_type": "code",
   "execution_count": 10,
   "id": "f7a3a841-5549-42ae-b4a2-abb31000aa6d",
   "metadata": {
    "ExecutionIndicator": {
     "show": true
    },
    "execution": {
     "iopub.execute_input": "2023-07-15T08:44:32.481658Z",
     "iopub.status.busy": "2023-07-15T08:44:32.481246Z",
     "iopub.status.idle": "2023-07-15T08:44:32.488574Z",
     "shell.execute_reply": "2023-07-15T08:44:32.487997Z",
     "shell.execute_reply.started": "2023-07-15T08:44:32.481635Z"
    },
    "tags": []
   },
   "outputs": [],
   "source": [
    "def tokenize_dataset(data, label_pad_token_id=finetune_args.label_pad_token_id):\n",
    "    instruction = data['context']\n",
    "    target = data['target']\n",
    "    instruction_ids = tokenizer.encode(instruction, add_special_tokens=True)\n",
    "    target_ids = tokenizer.encode(target, add_special_tokens=False)\n",
    "    input_ids = instruction_ids + target_ids + [tokenizer.eos_token_id]\n",
    "    labels = ([label_pad_token_id] * len(instruction_ids) + target_ids\n",
    "              + [tokenizer.eos_token_id])\n",
    "    return {'input_ids': input_ids, 'labels': labels}"
   ]
  },
  {
   "cell_type": "code",
   "execution_count": 11,
   "id": "914c0e28-0651-4631-b202-8d5871540e00",
   "metadata": {
    "execution": {
     "iopub.execute_input": "2023-07-15T08:44:33.186662Z",
     "iopub.status.busy": "2023-07-15T08:44:33.186198Z",
     "iopub.status.idle": "2023-07-15T08:44:33.201088Z",
     "shell.execute_reply": "2023-07-15T08:44:33.200577Z",
     "shell.execute_reply.started": "2023-07-15T08:44:33.186640Z"
    },
    "tags": []
   },
   "outputs": [
    {
     "name": "stderr",
     "output_type": "stream",
     "text": [
      "Loading cached processed dataset at /mnt/workspace/chatglm2-6b-AdaLoRA/data/Med_datasets.jsonl/train/cache-b3767ca69873ef7a.arrow\n"
     ]
    }
   ],
   "source": [
    "remove_columns = datasets['train'].column_names\n",
    "datasets_train = datasets['train'].map(tokenize_dataset,\n",
    "                                       remove_columns=remove_columns)"
   ]
  },
  {
   "cell_type": "code",
   "execution_count": 12,
   "id": "67f7a6de-c905-4e21-a0f3-dfff940dfb27",
   "metadata": {
    "execution": {
     "iopub.execute_input": "2023-07-15T08:44:34.312527Z",
     "iopub.status.busy": "2023-07-15T08:44:34.312148Z",
     "iopub.status.idle": "2023-07-15T08:44:34.316799Z",
     "shell.execute_reply": "2023-07-15T08:44:34.316119Z",
     "shell.execute_reply.started": "2023-07-15T08:44:34.312502Z"
    },
    "tags": []
   },
   "outputs": [
    {
     "data": {
      "text/plain": [
       "Dataset({\n",
       "    features: ['input_ids', 'labels'],\n",
       "    num_rows: 6622\n",
       "})"
      ]
     },
     "execution_count": 12,
     "metadata": {},
     "output_type": "execute_result"
    }
   ],
   "source": [
    "datasets_train"
   ]
  },
  {
   "cell_type": "code",
   "execution_count": 13,
   "id": "b86a1e2c-6666-4d0e-b6d0-efd59bad09a2",
   "metadata": {
    "execution": {
     "iopub.execute_input": "2023-07-15T08:44:35.111681Z",
     "iopub.status.busy": "2023-07-15T08:44:35.111235Z",
     "iopub.status.idle": "2023-07-15T08:44:35.124203Z",
     "shell.execute_reply": "2023-07-15T08:44:35.123646Z",
     "shell.execute_reply.started": "2023-07-15T08:44:35.111659Z"
    },
    "tags": []
   },
   "outputs": [
    {
     "name": "stderr",
     "output_type": "stream",
     "text": [
      "Loading cached processed dataset at /mnt/workspace/chatglm2-6b-AdaLoRA/data/Med_datasets.jsonl/valid/cache-fe09c3d2a66d4e85.arrow\n"
     ]
    }
   ],
   "source": [
    "remove_columns = datasets['valid'].column_names\n",
    "datasets_valid = datasets['valid'].map(tokenize_dataset,\n",
    "                                       remove_columns=remove_columns)"
   ]
  },
  {
   "cell_type": "code",
   "execution_count": 14,
   "id": "a65ab94f-b624-4fe2-bfb1-c5e29d668a7c",
   "metadata": {
    "execution": {
     "iopub.execute_input": "2023-07-15T08:44:36.276527Z",
     "iopub.status.busy": "2023-07-15T08:44:36.276148Z",
     "iopub.status.idle": "2023-07-15T08:44:36.280870Z",
     "shell.execute_reply": "2023-07-15T08:44:36.280279Z",
     "shell.execute_reply.started": "2023-07-15T08:44:36.276504Z"
    },
    "tags": []
   },
   "outputs": [
    {
     "data": {
      "text/plain": [
       "Dataset({\n",
       "    features: ['input_ids', 'labels'],\n",
       "    num_rows: 1000\n",
       "})"
      ]
     },
     "execution_count": 14,
     "metadata": {},
     "output_type": "execute_result"
    }
   ],
   "source": [
    "datasets_valid"
   ]
  },
  {
   "cell_type": "code",
   "execution_count": 15,
   "id": "d05e04ed-2f86-4073-89ab-167ccfc69999",
   "metadata": {
    "execution": {
     "iopub.execute_input": "2023-07-15T08:44:36.902043Z",
     "iopub.status.busy": "2023-07-15T08:44:36.901772Z",
     "iopub.status.idle": "2023-07-15T08:44:36.908102Z",
     "shell.execute_reply": "2023-07-15T08:44:36.907549Z",
     "shell.execute_reply.started": "2023-07-15T08:44:36.902024Z"
    },
    "tags": []
   },
   "outputs": [
    {
     "name": "stderr",
     "output_type": "stream",
     "text": [
      "\u001b[32m2023-07-15 08:44:36.905\u001b[0m | \u001b[1mINFO    \u001b[0m | \u001b[36m__main__\u001b[0m:\u001b[36m<module>\u001b[0m:\u001b[36m1\u001b[0m - \u001b[1mdatasets_train--->{'input_ids': [64790, 64792, 30910, 39501, 31211, 33182, 32103, 32834, 31930, 32184, 31123, 55073, 31793, 43021, 32834, 34301, 31788, 31123, 37881, 36266, 54530, 33287, 31123, 38545, 32548, 54567, 33287, 43082, 31123, 54535, 55124, 55643, 55216, 55802, 54820, 31155, 13, 31639, 31211, 31623, 32016, 31699, 32044, 35531, 45331, 31755, 37079, 54706, 31123, 32082, 32066, 31751, 35531, 45331, 55251, 57252, 31123, 31755, 34529, 57194, 54557, 54679, 31123, 31843, 35531, 43114, 31123, 34802, 32066, 54538, 31017, 54831, 54900, 32066, 31751, 36082, 55021, 54629, 31123, 54695, 42693, 31831, 31642, 32222, 31514, 13, 33287, 30954, 30910, 47383, 35531, 45331, 55251, 57252, 31201, 57194, 54557, 54679, 31201, 35531, 43114, 41641, 31123, 31975, 31017, 54831, 54900, 32066, 31951, 31123, 51634, 54541, 35531, 44234, 31155, 2], 'labels': [-100, -100, -100, -100, -100, -100, -100, -100, -100, -100, -100, -100, -100, -100, -100, -100, -100, -100, -100, -100, -100, -100, -100, -100, -100, -100, -100, -100, -100, -100, -100, -100, -100, -100, -100, -100, -100, -100, -100, -100, -100, -100, -100, -100, -100, -100, -100, -100, -100, -100, -100, -100, -100, -100, -100, -100, -100, -100, -100, -100, -100, -100, -100, -100, -100, -100, -100, -100, -100, -100, -100, -100, -100, -100, -100, -100, -100, -100, -100, -100, -100, -100, -100, -100, -100, -100, -100, -100, -100, 47383, 35531, 45331, 55251, 57252, 31201, 57194, 54557, 54679, 31201, 35531, 43114, 41641, 31123, 31975, 31017, 54831, 54900, 32066, 31951, 31123, 51634, 54541, 35531, 44234, 31155, 2]}\u001b[0m\n"
     ]
    }
   ],
   "source": [
    "logger.info(f\"datasets_train--->{datasets_train.select(range(2))[0]}\")"
   ]
  },
  {
   "cell_type": "markdown",
   "id": "ac964850-1537-4f47-a802-7c2c9c22cf6e",
   "metadata": {
    "ExecutionIndicator": {
     "show": true
    },
    "tags": []
   },
   "source": [
    "# load model and quantize"
   ]
  },
  {
   "cell_type": "code",
   "execution_count": 16,
   "id": "b7d8fa28-b945-4b73-a4a0-640261f6dc2f",
   "metadata": {
    "ExecutionIndicator": {
     "show": true
    },
    "execution": {
     "iopub.execute_input": "2023-07-15T08:44:39.399511Z",
     "iopub.status.busy": "2023-07-15T08:44:39.399122Z",
     "iopub.status.idle": "2023-07-15T08:44:39.403970Z",
     "shell.execute_reply": "2023-07-15T08:44:39.403352Z",
     "shell.execute_reply.started": "2023-07-15T08:44:39.399480Z"
    },
    "tags": []
   },
   "outputs": [],
   "source": [
    "quantization_config = BitsAndBytesConfig(\n",
    "    load_in_4bit=finetune_args.load_in_4bit,\n",
    "    bnb_4bit_quant_type=finetune_args.bnb_4bit_quant_type,\n",
    "    bnb_4bit_compute_dtype=finetune_args.bnb_4bit_compute_dtype\n",
    ")"
   ]
  },
  {
   "cell_type": "code",
   "execution_count": 17,
   "id": "d2498b7d-0ee0-4089-b6c7-d2a53e50e9f4",
   "metadata": {
    "ExecutionIndicator": {
     "show": false
    },
    "execution": {
     "iopub.execute_input": "2023-07-15T08:44:40.195889Z",
     "iopub.status.busy": "2023-07-15T08:44:40.195213Z",
     "iopub.status.idle": "2023-07-15T08:45:02.691021Z",
     "shell.execute_reply": "2023-07-15T08:45:02.690354Z",
     "shell.execute_reply.started": "2023-07-15T08:44:40.195866Z"
    },
    "tags": []
   },
   "outputs": [
    {
     "name": "stderr",
     "output_type": "stream",
     "text": [
      "\u001b[32m2023-07-15 08:44:40.197\u001b[0m | \u001b[1mINFO    \u001b[0m | \u001b[36m__main__\u001b[0m:\u001b[36m<module>\u001b[0m:\u001b[36m1\u001b[0m - \u001b[1mfrom THUDM/chatglm2-6b loading model\u001b[0m\n",
      "The model weights are not tied. Please use the `tie_weights` method before using the `infer_auto_device` function.\n",
      "Loading checkpoint shards: 100%|██████████| 7/7 [00:15<00:00,  2.27s/it]\n"
     ]
    }
   ],
   "source": [
    "logger.info(f\"from {finetune_args.model_path} loading model\")\n",
    "model = AutoModel.from_pretrained(finetune_args.model_path,\n",
    "                                  trust_remote_code=True,\n",
    "                                  device_map='auto',\n",
    "                                  quantization_config=quantization_config,\n",
    "                                  )"
   ]
  },
  {
   "cell_type": "code",
   "execution_count": 18,
   "id": "2217742d-540f-46d8-8c9e-ccc8ac23454c",
   "metadata": {
    "execution": {
     "iopub.execute_input": "2023-07-15T08:45:05.022430Z",
     "iopub.status.busy": "2023-07-15T08:45:05.022059Z",
     "iopub.status.idle": "2023-07-15T08:45:05.028241Z",
     "shell.execute_reply": "2023-07-15T08:45:05.027628Z",
     "shell.execute_reply.started": "2023-07-15T08:45:05.022404Z"
    },
    "tags": []
   },
   "outputs": [
    {
     "data": {
      "text/plain": [
       "ChatGLMForConditionalGeneration(\n",
       "  (transformer): ChatGLMModel(\n",
       "    (embedding): Embedding(\n",
       "      (word_embeddings): Embedding(65024, 4096)\n",
       "    )\n",
       "    (rotary_pos_emb): RotaryEmbedding()\n",
       "    (encoder): GLMTransformer(\n",
       "      (layers): ModuleList(\n",
       "        (0-27): 28 x GLMBlock(\n",
       "          (input_layernorm): RMSNorm()\n",
       "          (self_attention): SelfAttention(\n",
       "            (query_key_value): Linear4bit(in_features=4096, out_features=4608, bias=True)\n",
       "            (core_attention): CoreAttention(\n",
       "              (attention_dropout): Dropout(p=0.0, inplace=False)\n",
       "            )\n",
       "            (dense): Linear4bit(in_features=4096, out_features=4096, bias=False)\n",
       "          )\n",
       "          (post_attention_layernorm): RMSNorm()\n",
       "          (mlp): MLP(\n",
       "            (dense_h_to_4h): Linear4bit(in_features=4096, out_features=27392, bias=False)\n",
       "            (dense_4h_to_h): Linear4bit(in_features=13696, out_features=4096, bias=False)\n",
       "          )\n",
       "        )\n",
       "      )\n",
       "      (final_layernorm): RMSNorm()\n",
       "    )\n",
       "    (output_layer): Linear(in_features=4096, out_features=65024, bias=False)\n",
       "  )\n",
       ")"
      ]
     },
     "execution_count": 18,
     "metadata": {},
     "output_type": "execute_result"
    }
   ],
   "source": [
    "model"
   ]
  },
  {
   "cell_type": "markdown",
   "id": "7a723280-2367-4bc4-9735-7c360b214406",
   "metadata": {
    "tags": []
   },
   "source": [
    "#  prepare quantization model for train"
   ]
  },
  {
   "cell_type": "code",
   "execution_count": 19,
   "id": "0eb10ef6-f75e-441d-b744-a04b5e7283ad",
   "metadata": {
    "execution": {
     "iopub.execute_input": "2023-07-15T08:45:08.258301Z",
     "iopub.status.busy": "2023-07-15T08:45:08.257924Z",
     "iopub.status.idle": "2023-07-15T08:45:08.262213Z",
     "shell.execute_reply": "2023-07-15T08:45:08.261647Z",
     "shell.execute_reply.started": "2023-07-15T08:45:08.258278Z"
    },
    "tags": []
   },
   "outputs": [
    {
     "name": "stderr",
     "output_type": "stream",
     "text": [
      "\u001b[32m2023-07-15 08:45:08.259\u001b[0m | \u001b[1mINFO    \u001b[0m | \u001b[36m__main__\u001b[0m:\u001b[36m<module>\u001b[0m:\u001b[36m1\u001b[0m - \u001b[1mprepare model for training\u001b[0m\n"
     ]
    }
   ],
   "source": [
    "logger.info(\"prepare model for training\")"
   ]
  },
  {
   "cell_type": "code",
   "execution_count": 20,
   "id": "24b43840-c3e6-4c86-88f4-961643876a70",
   "metadata": {
    "execution": {
     "iopub.execute_input": "2023-07-15T08:45:09.767155Z",
     "iopub.status.busy": "2023-07-15T08:45:09.766781Z",
     "iopub.status.idle": "2023-07-15T08:45:09.782647Z",
     "shell.execute_reply": "2023-07-15T08:45:09.782112Z",
     "shell.execute_reply.started": "2023-07-15T08:45:09.767134Z"
    },
    "tags": []
   },
   "outputs": [
    {
     "name": "stderr",
     "output_type": "stream",
     "text": [
      "\u001b[32m2023-07-15 08:45:09.779\u001b[0m | \u001b[1mINFO    \u001b[0m | \u001b[36m__main__\u001b[0m:\u001b[36m<module>\u001b[0m:\u001b[36m14\u001b[0m - \u001b[1m`use_cache=True` is incompatible with gradient checkpointing. Setting `use_cache=False`\u001b[0m\n",
      "\u001b[32m2023-07-15 08:45:09.780\u001b[0m | \u001b[1mINFO    \u001b[0m | \u001b[36m__main__\u001b[0m:\u001b[36m<module>\u001b[0m:\u001b[36m18\u001b[0m - \u001b[1mbut during inference make sure to set it back to True\u001b[0m\n"
     ]
    }
   ],
   "source": [
    "for name, param in model.named_parameters():\n",
    "    # freeze model parameters\n",
    "    param.requires_grad = False\n",
    "\n",
    "# cast all non INT8 parameters to fp32\n",
    "for param in model.parameters():\n",
    "    if (param.dtype == torch.float16) or (param.dtype == torch.bfloat16):\n",
    "        param.data = param.data.to(torch.float32)\n",
    "\n",
    "# For backward compatibility\n",
    "model.enable_input_require_grads()\n",
    "# Enable gradient checkpoint\n",
    "model.gradient_checkpointing_enable()\n",
    "logger.info(\"`use_cache=True` is incompatible with gradient checkpointing. Setting `use_cache=False`\")\n",
    "# `use_cache=True` is incompatible with gradient checkpointing. Setting `use_cache=False`\n",
    "model.config.use_cache = False\n",
    "# but during inference make sure to set it back to True\n",
    "logger.info(\"but during inference make sure to set it back to True\")"
   ]
  },
  {
   "cell_type": "markdown",
   "id": "fa4b83c6-b9b3-4d35-8b82-436b731f704b",
   "metadata": {},
   "source": [
    "# Lora Config "
   ]
  },
  {
   "cell_type": "code",
   "execution_count": 21,
   "id": "12dbdd48-d78d-4034-a1ca-44708aaa6ff1",
   "metadata": {
    "execution": {
     "iopub.execute_input": "2023-07-15T08:45:12.080753Z",
     "iopub.status.busy": "2023-07-15T08:45:12.080355Z",
     "iopub.status.idle": "2023-07-15T08:45:12.085538Z",
     "shell.execute_reply": "2023-07-15T08:45:12.084886Z",
     "shell.execute_reply.started": "2023-07-15T08:45:12.080728Z"
    },
    "tags": []
   },
   "outputs": [
    {
     "name": "stderr",
     "output_type": "stream",
     "text": [
      "\u001b[32m2023-07-15 08:45:12.082\u001b[0m | \u001b[1mINFO    \u001b[0m | \u001b[36m__main__\u001b[0m:\u001b[36m<module>\u001b[0m:\u001b[36m12\u001b[0m - \u001b[1mLora_config--->LoraConfig(peft_type=<PeftType.LORA: 'LORA'>, base_model_name_or_path=None, revision=None, task_type=<TaskType.CAUSAL_LM: 'CAUSAL_LM'>, inference_mode=False, r=12, target_modules=['query_key_value'], lora_alpha=24, lora_dropout=0.05, fan_in_fan_out=False, bias='none', modules_to_save=None, init_lora_weights=True, layers_to_transform=None, layers_pattern=None)\u001b[0m\n"
     ]
    }
   ],
   "source": [
    "Lora_config = LoraConfig(\n",
    "    r=lora_args.r,\n",
    "    target_modules=lora_args.target_modules,\n",
    "    lora_alpha=lora_args.lora_alpha,\n",
    "    lora_dropout=lora_args.lora_dropout,\n",
    "    bias=lora_args.bias,\n",
    "    inference_mode=lora_args.inference_mode,\n",
    "    task_type=TaskType.CAUSAL_LM,\n",
    "    layers_to_transform=lora_args.layers_to_transform,\n",
    "    layers_pattern=lora_args.layers_pattern\n",
    ")\n",
    "logger.info(f\"Lora_config--->{Lora_config}\")"
   ]
  },
  {
   "cell_type": "code",
   "execution_count": 22,
   "id": "c96f6503-9505-4295-9b48-3a24a291ccf1",
   "metadata": {
    "execution": {
     "iopub.execute_input": "2023-07-15T08:45:13.069814Z",
     "iopub.status.busy": "2023-07-15T08:45:13.069409Z",
     "iopub.status.idle": "2023-07-15T08:45:17.751053Z",
     "shell.execute_reply": "2023-07-15T08:45:17.750387Z",
     "shell.execute_reply.started": "2023-07-15T08:45:13.069790Z"
    },
    "tags": []
   },
   "outputs": [
    {
     "name": "stderr",
     "output_type": "stream",
     "text": [
      "\u001b[32m2023-07-15 08:45:17.748\u001b[0m | \u001b[1mINFO    \u001b[0m | \u001b[36m__main__\u001b[0m:\u001b[36m<module>\u001b[0m:\u001b[36m2\u001b[0m - \u001b[1mlora_model--->PeftModelForCausalLM(\n",
      "  (base_model): LoraModel(\n",
      "    (model): ChatGLMForConditionalGeneration(\n",
      "      (transformer): ChatGLMModel(\n",
      "        (embedding): Embedding(\n",
      "          (word_embeddings): Embedding(65024, 4096)\n",
      "        )\n",
      "        (rotary_pos_emb): RotaryEmbedding()\n",
      "        (encoder): GLMTransformer(\n",
      "          (layers): ModuleList(\n",
      "            (0-27): 28 x GLMBlock(\n",
      "              (input_layernorm): RMSNorm()\n",
      "              (self_attention): SelfAttention(\n",
      "                (query_key_value): Linear4bit(\n",
      "                  in_features=4096, out_features=4608, bias=True\n",
      "                  (lora_dropout): ModuleDict(\n",
      "                    (LoraAdapter): Dropout(p=0.05, inplace=False)\n",
      "                  )\n",
      "                  (lora_A): ModuleDict(\n",
      "                    (LoraAdapter): Linear(in_features=4096, out_features=12, bias=False)\n",
      "                  )\n",
      "                  (lora_B): ModuleDict(\n",
      "                    (LoraAdapter): Linear(in_features=12, out_features=4608, bias=False)\n",
      "                  )\n",
      "                  (lora_embedding_A): ParameterDict()\n",
      "                  (lora_embedding_B): ParameterDict()\n",
      "                )\n",
      "                (core_attention): CoreAttention(\n",
      "                  (attention_dropout): Dropout(p=0.0, inplace=False)\n",
      "                )\n",
      "                (dense): Linear4bit(in_features=4096, out_features=4096, bias=False)\n",
      "              )\n",
      "              (post_attention_layernorm): RMSNorm()\n",
      "              (mlp): MLP(\n",
      "                (dense_h_to_4h): Linear4bit(in_features=4096, out_features=27392, bias=False)\n",
      "                (dense_4h_to_h): Linear4bit(in_features=13696, out_features=4096, bias=False)\n",
      "              )\n",
      "            )\n",
      "          )\n",
      "          (final_layernorm): RMSNorm()\n",
      "        )\n",
      "        (output_layer): Linear(in_features=4096, out_features=65024, bias=False)\n",
      "      )\n",
      "    )\n",
      "  )\n",
      ")\u001b[0m\n"
     ]
    }
   ],
   "source": [
    "model = get_peft_model(model, Lora_config, lora_args.Adapter_name)\n",
    "logger.info(f\"lora_model--->{model}\")"
   ]
  },
  {
   "cell_type": "code",
   "execution_count": 23,
   "id": "73a24f6c-0869-408e-a32a-03a7388d596a",
   "metadata": {
    "execution": {
     "iopub.execute_input": "2023-07-15T08:45:22.449699Z",
     "iopub.status.busy": "2023-07-15T08:45:22.449297Z",
     "iopub.status.idle": "2023-07-15T08:45:22.456154Z",
     "shell.execute_reply": "2023-07-15T08:45:22.455574Z",
     "shell.execute_reply.started": "2023-07-15T08:45:22.449674Z"
    },
    "tags": []
   },
   "outputs": [
    {
     "name": "stderr",
     "output_type": "stream",
     "text": [
      "\u001b[32m2023-07-15 08:45:22.450\u001b[0m | \u001b[1mINFO    \u001b[0m | \u001b[36m__main__\u001b[0m:\u001b[36m<module>\u001b[0m:\u001b[36m1\u001b[0m - \u001b[1mprint trainable parameters\u001b[0m\n"
     ]
    },
    {
     "name": "stdout",
     "output_type": "stream",
     "text": [
      "trainable params: 2,924,544 || all params: 3,391,236,096 || trainable%: 0.08623828943816479\n"
     ]
    }
   ],
   "source": [
    "logger.info(\"print trainable parameters\")\n",
    "model.print_trainable_parameters()"
   ]
  },
  {
   "cell_type": "markdown",
   "id": "af35b107-0502-46f9-9757-55dd9c89084b",
   "metadata": {
    "tags": []
   },
   "source": [
    "# train "
   ]
  },
  {
   "cell_type": "code",
   "execution_count": 24,
   "id": "c168d00d-e9d8-4ec4-b036-86b04a0fe07e",
   "metadata": {
    "ExecutionIndicator": {
     "show": true
    },
    "execution": {
     "iopub.execute_input": "2023-07-15T08:45:24.445359Z",
     "iopub.status.busy": "2023-07-15T08:45:24.444991Z",
     "iopub.status.idle": "2023-07-15T08:45:24.448803Z",
     "shell.execute_reply": "2023-07-15T08:45:24.448193Z",
     "shell.execute_reply.started": "2023-07-15T08:45:24.445337Z"
    },
    "tags": []
   },
   "outputs": [],
   "source": [
    "# compute model output perplexity\n",
    "def compute_metrics(loss):\n",
    "    loss_mean = loss.mean()\n",
    "    perplexity = np.exp2(loss_mean)\n",
    "    return {\"perplexity\": perplexity}"
   ]
  },
  {
   "cell_type": "code",
   "execution_count": 27,
   "id": "a4ec7623-92c7-4293-963c-26f05235a8f3",
   "metadata": {
    "execution": {
     "iopub.execute_input": "2023-07-15T08:45:37.598409Z",
     "iopub.status.busy": "2023-07-15T08:45:37.598020Z",
     "iopub.status.idle": "2023-07-15T08:45:37.602409Z",
     "shell.execute_reply": "2023-07-15T08:45:37.601824Z",
     "shell.execute_reply.started": "2023-07-15T08:45:37.598386Z"
    },
    "tags": []
   },
   "outputs": [],
   "source": [
    "class LoraTrainer(Trainer):\n",
    "\n",
    "    def save_model(self, output_dir: Optional[str] = None, _internal_call: bool = False):\n",
    "        # only save Lora adapter\n",
    "        if output_dir is None:\n",
    "            output_dir = self.args.output_dir\n",
    "        self.model.save_pretrained(output_dir)\n",
    "        torch.save(self.args, os.path.join(output_dir, \"training_args.bin\"))"
   ]
  },
  {
   "cell_type": "code",
   "execution_count": 28,
   "id": "8ea34b22-adf7-4232-8aa1-0ee551771e97",
   "metadata": {
    "execution": {
     "iopub.execute_input": "2023-07-15T08:45:38.547276Z",
     "iopub.status.busy": "2023-07-15T08:45:38.546909Z",
     "iopub.status.idle": "2023-07-15T08:45:38.550544Z",
     "shell.execute_reply": "2023-07-15T08:45:38.549890Z",
     "shell.execute_reply.started": "2023-07-15T08:45:38.547254Z"
    },
    "tags": []
   },
   "outputs": [],
   "source": [
    "data_collator = DataCollatorForSeq2Seq(\n",
    "        tokenizer,\n",
    "        model=model,\n",
    "        pad_to_multiple_of=8,\n",
    "        padding=True,\n",
    ")"
   ]
  },
  {
   "cell_type": "code",
   "execution_count": 29,
   "id": "c6793690-36fe-4a33-a482-4e0a1ea99d37",
   "metadata": {
    "execution": {
     "iopub.execute_input": "2023-07-15T08:45:39.165149Z",
     "iopub.status.busy": "2023-07-15T08:45:39.164727Z",
     "iopub.status.idle": "2023-07-15T08:45:39.177376Z",
     "shell.execute_reply": "2023-07-15T08:45:39.176883Z",
     "shell.execute_reply.started": "2023-07-15T08:45:39.165129Z"
    },
    "tags": []
   },
   "outputs": [
    {
     "name": "stderr",
     "output_type": "stream",
     "text": [
      "You have loaded a model on multiple GPUs. `is_model_parallel` attribute will be force-set to `True` to avoid any unexpected behavior such as device placement mismatching.\n",
      "The model is loaded in 8-bit precision. To train this model you need to add additional modules inside the model such as adapters using `peft` library and freeze the model weights. Please check  the examples in https://github.com/huggingface/peft for more details.\n"
     ]
    }
   ],
   "source": [
    "trainer = LoraTrainer(\n",
    "    model=model,\n",
    "    args=train_args,\n",
    "    train_dataset=datasets_train,\n",
    "    eval_dataset=datasets_valid,\n",
    "    data_collator=data_collator,\n",
    "    compute_metrics=compute_metrics\n",
    ")"
   ]
  },
  {
   "cell_type": "code",
   "execution_count": 30,
   "id": "c451552d-78a4-49b7-baac-bbfd0b8c020a",
   "metadata": {
    "ExecutionIndicator": {
     "show": false
    },
    "execution": {
     "iopub.execute_input": "2023-07-15T08:45:41.613335Z",
     "iopub.status.busy": "2023-07-15T08:45:41.612792Z",
     "iopub.status.idle": "2023-07-15T08:45:41.616954Z",
     "shell.execute_reply": "2023-07-15T08:45:41.616372Z",
     "shell.execute_reply.started": "2023-07-15T08:45:41.613313Z"
    },
    "tags": []
   },
   "outputs": [],
   "source": [
    "resume_from_checkpoint = finetune_args.resume_from_checkpoint\n",
    "if resume_from_checkpoint is not None:\n",
    "    if os.path.exists(resume_from_checkpoint):\n",
    "        logger.info(f'Restarting from {resume_from_checkpoint}')\n",
    "        model.load_adapter(resume_from_checkpoint, lora_args.Adapter_name, subfolder=lora_args.Adapter_name)\n",
    "    else:\n",
    "        raise Exception(f'{resume_from_checkpoint} is not a correct path!')"
   ]
  },
  {
   "cell_type": "code",
   "execution_count": 31,
   "id": "55bbc057-a33f-4058-9607-f3a9ed8ca53f",
   "metadata": {
    "execution": {
     "iopub.execute_input": "2023-07-15T08:45:43.775063Z",
     "iopub.status.busy": "2023-07-15T08:45:43.774372Z",
     "iopub.status.idle": "2023-07-15T08:45:43.778661Z",
     "shell.execute_reply": "2023-07-15T08:45:43.778121Z",
     "shell.execute_reply.started": "2023-07-15T08:45:43.775039Z"
    },
    "tags": []
   },
   "outputs": [
    {
     "name": "stderr",
     "output_type": "stream",
     "text": [
      "\u001b[32m2023-07-15 08:45:43.776\u001b[0m | \u001b[1mINFO    \u001b[0m | \u001b[36m__main__\u001b[0m:\u001b[36m<module>\u001b[0m:\u001b[36m1\u001b[0m - \u001b[1mstart training from None\u001b[0m\n"
     ]
    }
   ],
   "source": [
    "logger.info(f\"start training from {resume_from_checkpoint}\")"
   ]
  },
  {
   "cell_type": "code",
   "execution_count": 34,
   "id": "97333eeb-e891-4198-bac0-ff4646cf4ffc",
   "metadata": {
    "execution": {
     "iopub.execute_input": "2023-07-15T08:48:35.116390Z",
     "iopub.status.busy": "2023-07-15T08:48:35.116012Z",
     "iopub.status.idle": "2023-07-15T12:10:25.532015Z",
     "shell.execute_reply": "2023-07-15T12:10:25.531277Z",
     "shell.execute_reply.started": "2023-07-15T08:48:35.116367Z"
    },
    "tags": []
   },
   "outputs": [
    {
     "name": "stderr",
     "output_type": "stream",
     "text": [
      "***** Running training *****\n",
      "  Num examples = 6,622\n",
      "  Num Epochs = 3\n",
      "  Instantaneous batch size per device = 8\n",
      "  Total train batch size (w. parallel, distributed & accumulation) = 8\n",
      "  Gradient Accumulation steps = 1\n",
      "  Total optimization steps = 2,484\n",
      "  Number of trainable parameters = 2,924,544\n"
     ]
    },
    {
     "data": {
      "text/html": [
       "\n",
       "    <div>\n",
       "      \n",
       "      <progress value='2484' max='2484' style='width:300px; height:20px; vertical-align: middle;'></progress>\n",
       "      [2484/2484 3:21:46, Epoch 3/3]\n",
       "    </div>\n",
       "    <table border=\"1\" class=\"dataframe\">\n",
       "  <thead>\n",
       " <tr style=\"text-align: left;\">\n",
       "      <th>Step</th>\n",
       "      <th>Training Loss</th>\n",
       "      <th>Validation Loss</th>\n",
       "      <th>Perplexity</th>\n",
       "    </tr>\n",
       "  </thead>\n",
       "  <tbody>\n",
       "    <tr>\n",
       "      <td>100</td>\n",
       "      <td>2.415300</td>\n",
       "      <td>2.321457</td>\n",
       "      <td>4.998368</td>\n",
       "    </tr>\n",
       "    <tr>\n",
       "      <td>200</td>\n",
       "      <td>2.105600</td>\n",
       "      <td>2.183702</td>\n",
       "      <td>4.543180</td>\n",
       "    </tr>\n",
       "    <tr>\n",
       "      <td>300</td>\n",
       "      <td>2.215100</td>\n",
       "      <td>2.144331</td>\n",
       "      <td>4.420872</td>\n",
       "    </tr>\n",
       "    <tr>\n",
       "      <td>400</td>\n",
       "      <td>2.147500</td>\n",
       "      <td>2.121216</td>\n",
       "      <td>4.350604</td>\n",
       "    </tr>\n",
       "    <tr>\n",
       "      <td>500</td>\n",
       "      <td>2.150600</td>\n",
       "      <td>2.105941</td>\n",
       "      <td>4.304783</td>\n",
       "    </tr>\n",
       "    <tr>\n",
       "      <td>600</td>\n",
       "      <td>2.168400</td>\n",
       "      <td>2.093386</td>\n",
       "      <td>4.267486</td>\n",
       "    </tr>\n",
       "    <tr>\n",
       "      <td>700</td>\n",
       "      <td>2.051400</td>\n",
       "      <td>2.083433</td>\n",
       "      <td>4.238144</td>\n",
       "    </tr>\n",
       "    <tr>\n",
       "      <td>800</td>\n",
       "      <td>2.155800</td>\n",
       "      <td>2.074739</td>\n",
       "      <td>4.212681</td>\n",
       "    </tr>\n",
       "    <tr>\n",
       "      <td>900</td>\n",
       "      <td>2.010400</td>\n",
       "      <td>2.067188</td>\n",
       "      <td>4.190691</td>\n",
       "    </tr>\n",
       "    <tr>\n",
       "      <td>1000</td>\n",
       "      <td>2.063800</td>\n",
       "      <td>2.062333</td>\n",
       "      <td>4.176610</td>\n",
       "    </tr>\n",
       "    <tr>\n",
       "      <td>1100</td>\n",
       "      <td>2.052500</td>\n",
       "      <td>2.056552</td>\n",
       "      <td>4.159909</td>\n",
       "    </tr>\n",
       "    <tr>\n",
       "      <td>1200</td>\n",
       "      <td>2.158000</td>\n",
       "      <td>2.052166</td>\n",
       "      <td>4.147283</td>\n",
       "    </tr>\n",
       "    <tr>\n",
       "      <td>1300</td>\n",
       "      <td>2.161100</td>\n",
       "      <td>2.048058</td>\n",
       "      <td>4.135490</td>\n",
       "    </tr>\n",
       "    <tr>\n",
       "      <td>1400</td>\n",
       "      <td>2.031300</td>\n",
       "      <td>2.044391</td>\n",
       "      <td>4.124992</td>\n",
       "    </tr>\n",
       "    <tr>\n",
       "      <td>1500</td>\n",
       "      <td>2.197100</td>\n",
       "      <td>2.041507</td>\n",
       "      <td>4.116752</td>\n",
       "    </tr>\n",
       "    <tr>\n",
       "      <td>1600</td>\n",
       "      <td>1.921100</td>\n",
       "      <td>2.039188</td>\n",
       "      <td>4.110142</td>\n",
       "    </tr>\n",
       "    <tr>\n",
       "      <td>1700</td>\n",
       "      <td>2.043900</td>\n",
       "      <td>2.036696</td>\n",
       "      <td>4.103047</td>\n",
       "    </tr>\n",
       "    <tr>\n",
       "      <td>1800</td>\n",
       "      <td>1.923300</td>\n",
       "      <td>2.034618</td>\n",
       "      <td>4.097142</td>\n",
       "    </tr>\n",
       "    <tr>\n",
       "      <td>1900</td>\n",
       "      <td>2.039500</td>\n",
       "      <td>2.033114</td>\n",
       "      <td>4.092873</td>\n",
       "    </tr>\n",
       "    <tr>\n",
       "      <td>2000</td>\n",
       "      <td>2.017900</td>\n",
       "      <td>2.031943</td>\n",
       "      <td>4.089551</td>\n",
       "    </tr>\n",
       "    <tr>\n",
       "      <td>2100</td>\n",
       "      <td>2.016100</td>\n",
       "      <td>2.030931</td>\n",
       "      <td>4.086683</td>\n",
       "    </tr>\n",
       "    <tr>\n",
       "      <td>2200</td>\n",
       "      <td>2.017300</td>\n",
       "      <td>2.030051</td>\n",
       "      <td>4.084194</td>\n",
       "    </tr>\n",
       "    <tr>\n",
       "      <td>2300</td>\n",
       "      <td>2.139200</td>\n",
       "      <td>2.029422</td>\n",
       "      <td>4.082413</td>\n",
       "    </tr>\n",
       "    <tr>\n",
       "      <td>2400</td>\n",
       "      <td>1.958700</td>\n",
       "      <td>2.029137</td>\n",
       "      <td>4.081606</td>\n",
       "    </tr>\n",
       "  </tbody>\n",
       "</table><p>"
      ],
      "text/plain": [
       "<IPython.core.display.HTML object>"
      ]
     },
     "metadata": {},
     "output_type": "display_data"
    },
    {
     "name": "stderr",
     "output_type": "stream",
     "text": [
      "***** Running Evaluation *****\n",
      "  Num examples = 1000\n",
      "  Batch size = 8\n",
      "***** Running Evaluation *****\n",
      "  Num examples = 1000\n",
      "  Batch size = 8\n",
      "***** Running Evaluation *****\n",
      "  Num examples = 1000\n",
      "  Batch size = 8\n",
      "***** Running Evaluation *****\n",
      "  Num examples = 1000\n",
      "  Batch size = 8\n",
      "***** Running Evaluation *****\n",
      "  Num examples = 1000\n",
      "  Batch size = 8\n",
      "***** Running Evaluation *****\n",
      "  Num examples = 1000\n",
      "  Batch size = 8\n",
      "***** Running Evaluation *****\n",
      "  Num examples = 1000\n",
      "  Batch size = 8\n",
      "***** Running Evaluation *****\n",
      "  Num examples = 1000\n",
      "  Batch size = 8\n",
      "***** Running Evaluation *****\n",
      "  Num examples = 1000\n",
      "  Batch size = 8\n",
      "***** Running Evaluation *****\n",
      "  Num examples = 1000\n",
      "  Batch size = 8\n",
      "***** Running Evaluation *****\n",
      "  Num examples = 1000\n",
      "  Batch size = 8\n",
      "***** Running Evaluation *****\n",
      "  Num examples = 1000\n",
      "  Batch size = 8\n",
      "***** Running Evaluation *****\n",
      "  Num examples = 1000\n",
      "  Batch size = 8\n",
      "***** Running Evaluation *****\n",
      "  Num examples = 1000\n",
      "  Batch size = 8\n",
      "***** Running Evaluation *****\n",
      "  Num examples = 1000\n",
      "  Batch size = 8\n",
      "***** Running Evaluation *****\n",
      "  Num examples = 1000\n",
      "  Batch size = 8\n",
      "***** Running Evaluation *****\n",
      "  Num examples = 1000\n",
      "  Batch size = 8\n",
      "***** Running Evaluation *****\n",
      "  Num examples = 1000\n",
      "  Batch size = 8\n",
      "***** Running Evaluation *****\n",
      "  Num examples = 1000\n",
      "  Batch size = 8\n",
      "***** Running Evaluation *****\n",
      "  Num examples = 1000\n",
      "  Batch size = 8\n",
      "***** Running Evaluation *****\n",
      "  Num examples = 1000\n",
      "  Batch size = 8\n",
      "***** Running Evaluation *****\n",
      "  Num examples = 1000\n",
      "  Batch size = 8\n",
      "***** Running Evaluation *****\n",
      "  Num examples = 1000\n",
      "  Batch size = 8\n",
      "***** Running Evaluation *****\n",
      "  Num examples = 1000\n",
      "  Batch size = 8\n",
      "\n",
      "\n",
      "Training completed. Do not forget to share your model on huggingface.co/models =)\n",
      "\n",
      "\n"
     ]
    },
    {
     "data": {
      "text/plain": [
       "TrainOutput(global_step=2484, training_loss=2.0947799682617188, metrics={'train_runtime': 12110.1361, 'train_samples_per_second': 1.64, 'train_steps_per_second': 0.205, 'total_flos': 5.549398492328755e+16, 'train_loss': 2.0947799682617188, 'epoch': 3.0})"
      ]
     },
     "execution_count": 34,
     "metadata": {},
     "output_type": "execute_result"
    }
   ],
   "source": [
    "trainer.train(resume_from_checkpoint=resume_from_checkpoint)"
   ]
  },
  {
   "cell_type": "code",
   "execution_count": 35,
   "id": "9bfb8dc3-72d5-4e66-b322-aff22f39ed7a",
   "metadata": {
    "execution": {
     "iopub.execute_input": "2023-07-15T12:11:32.991383Z",
     "iopub.status.busy": "2023-07-15T12:11:32.990994Z",
     "iopub.status.idle": "2023-07-15T12:11:32.995732Z",
     "shell.execute_reply": "2023-07-15T12:11:32.995152Z",
     "shell.execute_reply.started": "2023-07-15T12:11:32.991360Z"
    }
   },
   "outputs": [
    {
     "name": "stderr",
     "output_type": "stream",
     "text": [
      "\u001b[32m2023-07-15 12:11:32.992\u001b[0m | \u001b[1mINFO    \u001b[0m | \u001b[36m__main__\u001b[0m:\u001b[36m<module>\u001b[0m:\u001b[36m1\u001b[0m - \u001b[1mtraining finished, save model to Lora_Adapter_THUDM_chatglm2-6b/finally_adapter\u001b[0m\n"
     ]
    }
   ],
   "source": [
    "logger.info(f\"training finished, save model to {finetune_args.final_model_path}\")"
   ]
  },
  {
   "cell_type": "code",
   "execution_count": 36,
   "id": "0ded0a0b-ec2e-4979-81f3-bb8812974611",
   "metadata": {
    "execution": {
     "iopub.execute_input": "2023-07-15T12:12:07.853546Z",
     "iopub.status.busy": "2023-07-15T12:12:07.852856Z",
     "iopub.status.idle": "2023-07-15T12:12:07.887266Z",
     "shell.execute_reply": "2023-07-15T12:12:07.886712Z",
     "shell.execute_reply.started": "2023-07-15T12:12:07.853523Z"
    }
   },
   "outputs": [],
   "source": [
    "trainer.model.save_pretrained(finetune_args.final_model_path)"
   ]
  },
  {
   "cell_type": "code",
   "execution_count": 37,
   "id": "6ae68b9a-6bda-4895-9aeb-c1192e9312ed",
   "metadata": {
    "execution": {
     "iopub.execute_input": "2023-07-15T12:12:28.446073Z",
     "iopub.status.busy": "2023-07-15T12:12:28.445678Z",
     "iopub.status.idle": "2023-07-15T12:12:28.450202Z",
     "shell.execute_reply": "2023-07-15T12:12:28.449615Z",
     "shell.execute_reply.started": "2023-07-15T12:12:28.446049Z"
    }
   },
   "outputs": [],
   "source": [
    "torch.save(trainer.args, os.path.join(finetune_args.final_model_path, \"training_args.bin\"))"
   ]
  }
 ],
 "metadata": {
  "kernelspec": {
   "display_name": "llm",
   "language": "python",
   "name": "llm"
  },
  "language_info": {
   "codemirror_mode": {
    "name": "ipython",
    "version": 3
   },
   "file_extension": ".py",
   "mimetype": "text/x-python",
   "name": "python",
   "nbconvert_exporter": "python",
   "pygments_lexer": "ipython3",
   "version": "3.11.3"
  }
 },
 "nbformat": 4,
 "nbformat_minor": 5
}
