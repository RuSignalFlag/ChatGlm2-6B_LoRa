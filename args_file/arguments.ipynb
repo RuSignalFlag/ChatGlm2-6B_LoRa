{
 "cells": [
  {
   "cell_type": "code",
   "execution_count": 3,
   "id": "7fc0d26e-bddc-48e0-9099-c2c075a40a5f",
   "metadata": {
    "ExecutionIndicator": {
     "show": true
    },
    "execution": {
     "iopub.execute_input": "2023-07-13T11:38:36.812913Z",
     "iopub.status.busy": "2023-07-13T11:38:36.812226Z",
     "iopub.status.idle": "2023-07-13T11:38:36.815996Z",
     "shell.execute_reply": "2023-07-13T11:38:36.815252Z",
     "shell.execute_reply.started": "2023-07-13T11:38:36.812888Z"
    },
    "tags": []
   },
   "outputs": [],
   "source": [
    "import json"
   ]
  },
  {
   "cell_type": "code",
   "execution_count": 4,
   "id": "1e976e11-4a21-4990-b079-f631c1d23439",
   "metadata": {
    "execution": {
     "iopub.execute_input": "2023-07-13T11:38:38.798544Z",
     "iopub.status.busy": "2023-07-13T11:38:38.798174Z",
     "iopub.status.idle": "2023-07-13T11:38:38.803162Z",
     "shell.execute_reply": "2023-07-13T11:38:38.802059Z",
     "shell.execute_reply.started": "2023-07-13T11:38:38.798520Z"
    },
    "tags": []
   },
   "outputs": [],
   "source": [
    "finetune_args = {\n",
    "    \"dataset_path\": \"data/Med_datasets.jsonl\",\n",
    "    \"model_path\": \"THUDM/chatglm2-6b\",\n",
    "    \"label_pad_token_id\": -100,\n",
    "    \"load_in_4bit\": True,\n",
    "    \"bnb_4bit_quant_type\": \"nf4\",\n",
    "    \"bnb_4bit_compute_dtype\": \"float32\",\n",
    "    \"seed\": 42,\n",
    "    \"resume_from_checkpoint\": None,\n",
    "    \"final_model_path\": \"QLora_Adapter_THUDM_chatglm2-6b/finally_adapter\"\n",
    "}"
   ]
  },
  {
   "cell_type": "code",
   "execution_count": 5,
   "id": "03392227-7267-4e05-912f-6284a29d52e9",
   "metadata": {
    "execution": {
     "iopub.execute_input": "2023-07-13T11:39:09.847015Z",
     "iopub.status.busy": "2023-07-13T11:39:09.846634Z",
     "iopub.status.idle": "2023-07-13T11:39:09.851453Z",
     "shell.execute_reply": "2023-07-13T11:39:09.850643Z",
     "shell.execute_reply.started": "2023-07-13T11:39:09.846985Z"
    }
   },
   "outputs": [],
   "source": [
    "with open('finetune_args.json', 'w', encoding='utf-8') as f:\n",
    "    f.write(json.dumps(finetune_args, ensure_ascii=False))\n",
    "    f.close()"
   ]
  },
  {
   "cell_type": "code",
   "execution_count": 6,
   "id": "b18979e8-fbfe-447c-b156-719295771fdb",
   "metadata": {
    "execution": {
     "iopub.execute_input": "2023-07-13T11:40:57.139850Z",
     "iopub.status.busy": "2023-07-13T11:40:57.139465Z",
     "iopub.status.idle": "2023-07-13T11:40:57.144046Z",
     "shell.execute_reply": "2023-07-13T11:40:57.143136Z",
     "shell.execute_reply.started": "2023-07-13T11:40:57.139824Z"
    }
   },
   "outputs": [],
   "source": [
    "lora_args = {\n",
    "    \"r\": 12,\n",
    "    \"target_modules\": \"query_key_value\",\n",
    "    \"lora_alpha\": 24,\n",
    "    \"lora_dropout\": 0.05,\n",
    "    \"bias\": \"none\",\n",
    "    \"inference_mode\": False,\n",
    "    \"layers_to_transform\": None,\n",
    "    \"layers_pattern\": None,\n",
    "    \"Adapter_name\": \"LoraAdapter\"\n",
    "}"
   ]
  },
  {
   "cell_type": "code",
   "execution_count": 7,
   "id": "cdade8ea-c667-4412-9951-0442e8c89c97",
   "metadata": {
    "execution": {
     "iopub.execute_input": "2023-07-13T11:41:55.810179Z",
     "iopub.status.busy": "2023-07-13T11:41:55.809608Z",
     "iopub.status.idle": "2023-07-13T11:41:55.814689Z",
     "shell.execute_reply": "2023-07-13T11:41:55.813803Z",
     "shell.execute_reply.started": "2023-07-13T11:41:55.810153Z"
    }
   },
   "outputs": [],
   "source": [
    "with open('lora_args.json', 'w', encoding='utf-8') as f:\n",
    "    f.write(json.dumps(lora_args, ensure_ascii=False))\n",
    "    f.close()"
   ]
  },
  {
   "cell_type": "code",
   "execution_count": 8,
   "id": "8ae912cb-a487-4895-a0d2-6e4fa4d31d23",
   "metadata": {
    "execution": {
     "iopub.execute_input": "2023-07-13T11:43:29.861104Z",
     "iopub.status.busy": "2023-07-13T11:43:29.860664Z",
     "iopub.status.idle": "2023-07-13T11:43:29.865906Z",
     "shell.execute_reply": "2023-07-13T11:43:29.865001Z",
     "shell.execute_reply.started": "2023-07-13T11:43:29.861066Z"
    }
   },
   "outputs": [],
   "source": [
    "train_args = {\n",
    "    \"output_dir\": \"QLora_Adapter_THUDM_chatglm2-6b\",\n",
    "    \"per_device_train_batch_size\": 8,\n",
    "    \"per_device_eval_batch_size\": 8,\n",
    "    \"num_train_epochs\": 3,\n",
    "    \"overwrite_output_dir\": True,\n",
    "    \"learning_rate\": 2e-05,\n",
    "    \"weight_decay\": 0.01,\n",
    "    \"lr_scheduler_type\": \"linear\",\n",
    "    \"fp16\": False,\n",
    "    \"optim\": \"adamw_torch\",\n",
    "    \"log_level\": \"info\",\n",
    "    \"logging_strategy\": \"steps\",\n",
    "    \"logging_steps\": 500,\n",
    "    \"evaluation_strategy\": \"steps\",\n",
    "    \"eval_steps\": 500,\n",
    "    \"save_strategy\": \"steps\",\n",
    "    \"save_steps\": 500,\n",
    "    \"ddp_find_unused_parameters\": False\n",
    "}"
   ]
  },
  {
   "cell_type": "code",
   "execution_count": 9,
   "id": "f721dde7-d776-441e-9475-44f6ae904285",
   "metadata": {
    "execution": {
     "iopub.execute_input": "2023-07-13T11:44:36.114057Z",
     "iopub.status.busy": "2023-07-13T11:44:36.113660Z",
     "iopub.status.idle": "2023-07-13T11:44:36.118274Z",
     "shell.execute_reply": "2023-07-13T11:44:36.117495Z",
     "shell.execute_reply.started": "2023-07-13T11:44:36.114017Z"
    }
   },
   "outputs": [],
   "source": [
    "with open('train_args.json', 'w', encoding='utf-8') as f:\n",
    "    f.write(json.dumps(train_args, ensure_ascii=False))\n",
    "    f.close()"
   ]
  },
  {
   "cell_type": "code",
   "execution_count": null,
   "id": "13d13065-2822-4b07-ab2b-4b89aeca3b1f",
   "metadata": {},
   "outputs": [],
   "source": []
  }
 ],
 "metadata": {
  "kernelspec": {
   "display_name": "llm",
   "language": "python",
   "name": "llm"
  },
  "language_info": {
   "codemirror_mode": {
    "name": "ipython",
    "version": 3
   },
   "file_extension": ".py",
   "mimetype": "text/x-python",
   "name": "python",
   "nbconvert_exporter": "python",
   "pygments_lexer": "ipython3",
   "version": "3.11.3"
  }
 },
 "nbformat": 4,
 "nbformat_minor": 5
}
