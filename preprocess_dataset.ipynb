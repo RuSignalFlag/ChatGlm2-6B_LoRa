{
 "cells": [
  {
   "cell_type": "code",
   "execution_count": 88,
   "id": "e6a00c89-dc90-4c34-a3c8-1cab16873d15",
   "metadata": {},
   "outputs": [],
   "source": [
    "# load train.txt dataset\n",
    "with open('data/train.txt', 'r', encoding='utf-8') as f:\n",
    "    content = f.readlines()\n",
    "    f.close()"
   ]
  },
  {
   "cell_type": "code",
   "execution_count": 92,
   "id": "842a0620-3574-4533-814d-132188dc5c08",
   "metadata": {},
   "outputs": [],
   "source": [
    "# strip str\n",
    "content = list(map(lambda x: x.strip(), content))"
   ]
  },
  {
   "cell_type": "code",
   "execution_count": 93,
   "id": "206f52d2-b04b-47c7-9009-63b1a337456b",
   "metadata": {},
   "outputs": [],
   "source": [
    "data = content[0]"
   ]
  },
  {
   "cell_type": "code",
   "execution_count": 94,
   "id": "96b08e14-54a5-4c93-ba01-84da0355045c",
   "metadata": {},
   "outputs": [
    {
     "data": {
      "text/plain": [
       "'{\"context\": \"问题：患者反复出现反酸、烧心等症状，考虑为Barrett食管，需要注意哪些并发症？\\\\n回答: \", \"target\": \"根据知识，Barrett食管的并发症包括消化性溃疡、反流食管炎、胃肠道出血、贫血、肿瘤等，需要引起注意。\"}'"
      ]
     },
     "execution_count": 94,
     "metadata": {},
     "output_type": "execute_result"
    }
   ],
   "source": [
    "data"
   ]
  },
  {
   "cell_type": "code",
   "execution_count": 22,
   "id": "294274bd-baca-49bb-9948-77a414a42617",
   "metadata": {},
   "outputs": [],
   "source": [
    "import json"
   ]
  },
  {
   "cell_type": "code",
   "execution_count": 95,
   "id": "67a8c328-8c44-4a10-8567-6780445da4b3",
   "metadata": {},
   "outputs": [],
   "source": [
    "# cast str to dict\n",
    "content = list(map(lambda x: json.loads(x), content))"
   ]
  },
  {
   "cell_type": "code",
   "execution_count": 96,
   "id": "0203467c-0dc6-41eb-9eb8-61ddd5c9b8f6",
   "metadata": {},
   "outputs": [
    {
     "data": {
      "text/plain": [
       "dict"
      ]
     },
     "execution_count": 96,
     "metadata": {},
     "output_type": "execute_result"
    }
   ],
   "source": [
    "type(content[0])"
   ]
  },
  {
   "cell_type": "code",
   "execution_count": 97,
   "id": "f2e74ba1-1423-44e6-ac32-aa6416c6084a",
   "metadata": {},
   "outputs": [
    {
     "data": {
      "text/plain": [
       "{'context': '问题：患者反复出现反酸、烧心等症状，考虑为Barrett食管，需要注意哪些并发症？\\n回答: ',\n",
       " 'target': '根据知识，Barrett食管的并发症包括消化性溃疡、反流食管炎、胃肠道出血、贫血、肿瘤等，需要引起注意。'}"
      ]
     },
     "execution_count": 97,
     "metadata": {},
     "output_type": "execute_result"
    }
   ],
   "source": [
    "content[0]"
   ]
  },
  {
   "cell_type": "code",
   "execution_count": 98,
   "id": "8d88e21f-8ff2-40d8-8774-90f58790a730",
   "metadata": {
    "ExecutionIndicator": {
     "show": false
    },
    "tags": []
   },
   "outputs": [],
   "source": [
    "#add a instruction\n",
    "instruction = '下面是一个医学领域的问题，请根据你对医学领域的了解，严谨细致的回答，如果不清楚就回答不清楚，不许胡编乱造。'"
   ]
  },
  {
   "cell_type": "code",
   "execution_count": 99,
   "id": "b746864b-4629-40ae-992d-06ffd79d009c",
   "metadata": {},
   "outputs": [],
   "source": [
    "#add a instruction to context\n",
    "def add_instruction(data):\n",
    "    inputs = \"指令：{instruction}\\n{query}\".format(instruction=instruction, query=data['context'])\n",
    "    data['context']=inputs\n",
    "    return data"
   ]
  },
  {
   "cell_type": "code",
   "execution_count": 101,
   "id": "b92f4966-060b-448d-9824-50a2db8afd18",
   "metadata": {},
   "outputs": [],
   "source": [
    "content = list(map(add_instruction, content))"
   ]
  },
  {
   "cell_type": "code",
   "execution_count": 109,
   "id": "681244f3-1de8-4719-a2cd-169e99919bee",
   "metadata": {},
   "outputs": [
    {
     "data": {
      "text/plain": [
       "{'context': '指令：下面是一个医学领域的问题，请根据你对医学领域的了解，严谨细致的回答，如果不清楚就回答不清楚，不许胡编乱造。\\n问题：患者反复出现反酸、烧心等症状，考虑为Barrett食管，需要注意哪些并发症？\\n回答: ',\n",
       " 'target': '根据知识，Barrett食管的并发症包括消化性溃疡、反流食管炎、胃肠道出血、贫血、肿瘤等，需要引起注意。'}"
      ]
     },
     "execution_count": 109,
     "metadata": {},
     "output_type": "execute_result"
    }
   ],
   "source": [
    "content[0]"
   ]
  },
  {
   "cell_type": "code",
   "execution_count": 108,
   "id": "47cdcade-6e80-4263-a2d6-d150855e04c4",
   "metadata": {},
   "outputs": [],
   "source": [
    "#store dataset file as jsonl\n",
    "with open('data/train.jsonl', 'w', encoding='utf-8') as f:\n",
    "    for data in content:\n",
    "        f.write(json.dumps(data, ensure_ascii=False))\n",
    "        f.write('\\n')"
   ]
  },
  {
   "cell_type": "code",
   "execution_count": 37,
   "id": "1f5fa553-11f4-4533-b1d5-93d32019268d",
   "metadata": {},
   "outputs": [],
   "source": [
    "from datasets import load_dataset, load_from_disk"
   ]
  },
  {
   "cell_type": "code",
   "execution_count": 10,
   "id": "92deaf40-d0c8-45c2-9912-cfc33128303e",
   "metadata": {},
   "outputs": [
    {
     "name": "stdout",
     "output_type": "stream",
     "text": [
      "Downloading and preparing dataset json/default to /Users/shuaiqiduan/.cache/huggingface/datasets/json/default-a1c08c7776f433c3/0.0.0/8bb11242116d547c741b2e8a1f18598ffdd40a1d4f2a2872c7a28b697434bc96...\n"
     ]
    },
    {
     "name": "stderr",
     "output_type": "stream",
     "text": [
      "Downloading data files: 100%|███████████████████| 1/1 [00:00<00:00, 4032.98it/s]\n",
      "Extracting data files: 100%|█████████████████████| 1/1 [00:00<00:00, 460.41it/s]\n",
      "                                                        \r"
     ]
    },
    {
     "name": "stdout",
     "output_type": "stream",
     "text": [
      "Dataset json downloaded and prepared to /Users/shuaiqiduan/.cache/huggingface/datasets/json/default-a1c08c7776f433c3/0.0.0/8bb11242116d547c741b2e8a1f18598ffdd40a1d4f2a2872c7a28b697434bc96. Subsequent calls will reuse this data.\n"
     ]
    },
    {
     "name": "stderr",
     "output_type": "stream",
     "text": [
      "100%|████████████████████████████████████████████| 1/1 [00:00<00:00, 596.29it/s]\n"
     ]
    }
   ],
   "source": [
    "Med_dataset = load_dataset('json', data_files='./data/train.jsonl')"
   ]
  },
  {
   "cell_type": "code",
   "execution_count": 11,
   "id": "5f049141-9824-4206-9b45-032ac2f36301",
   "metadata": {},
   "outputs": [
    {
     "data": {
      "text/plain": [
       "DatasetDict({\n",
       "    train: Dataset({\n",
       "        features: ['context', 'target'],\n",
       "        num_rows: 7622\n",
       "    })\n",
       "})"
      ]
     },
     "execution_count": 11,
     "metadata": {},
     "output_type": "execute_result"
    }
   ],
   "source": [
    "Med_dataset"
   ]
  },
  {
   "cell_type": "code",
   "execution_count": 15,
   "id": "937d8acc-1fa6-447f-8a5c-cd049121b83b",
   "metadata": {},
   "outputs": [
    {
     "data": {
      "text/plain": [
       "'指令：下面是一个医学领域的问题，请根据你对医学领域的了解，严谨细致的回答，如果不清楚就回答不清楚，不许胡编乱造。\\n问题：患者反复出现反酸、烧心等症状，考虑为Barrett食管，需要注意哪些并发症？\\n回答: '"
      ]
     },
     "execution_count": 15,
     "metadata": {},
     "output_type": "execute_result"
    }
   ],
   "source": [
    "Med_dataset['train']['context'][0]"
   ]
  },
  {
   "cell_type": "code",
   "execution_count": 16,
   "id": "adf20289-fd67-497f-ab14-420b7b48daa5",
   "metadata": {},
   "outputs": [],
   "source": [
    "seed = 42"
   ]
  },
  {
   "cell_type": "code",
   "execution_count": 19,
   "id": "d5543646-af42-415c-be89-6bf54b04eb7a",
   "metadata": {},
   "outputs": [
    {
     "name": "stderr",
     "output_type": "stream",
     "text": [
      "Loading cached shuffled indices for dataset at /Users/shuaiqiduan/.cache/huggingface/datasets/json/default-a1c08c7776f433c3/0.0.0/8bb11242116d547c741b2e8a1f18598ffdd40a1d4f2a2872c7a28b697434bc96/cache-b4ea38f397688be9.arrow\n"
     ]
    }
   ],
   "source": [
    "Med_dataset = Med_dataset.shuffle(seed=seed)"
   ]
  },
  {
   "cell_type": "code",
   "execution_count": 20,
   "id": "a3f250c3-b5f8-4543-a900-c35024bb71d4",
   "metadata": {},
   "outputs": [
    {
     "data": {
      "text/plain": [
       "'指令：下面是一个医学领域的问题，请根据你对医学领域的了解，严谨细致的回答，如果不清楚就回答不清楚，不许胡编乱造。\\n问题：一名60岁女性患者出现外阴肿物和瘙痒，经过病理检查发现是基底细胞癌，请问有哪些并发症？\\n回答: '"
      ]
     },
     "execution_count": 20,
     "metadata": {},
     "output_type": "execute_result"
    }
   ],
   "source": [
    "Med_dataset['train']['context'][0]"
   ]
  },
  {
   "cell_type": "code",
   "execution_count": 25,
   "id": "f43d0b78-c97a-4948-8aa4-64e68784566d",
   "metadata": {
    "ExecutionIndicator": {
     "show": false
    },
    "tags": []
   },
   "outputs": [],
   "source": [
    "#split dataset as train and valid\n",
    "split_dataset = Med_dataset['train'].train_test_split(train_size=6622, test_size=1000, seed=seed)"
   ]
  },
  {
   "cell_type": "code",
   "execution_count": 26,
   "id": "28ddda74-5971-46bd-be8b-5fe9da7c7636",
   "metadata": {
    "ExecutionIndicator": {
     "show": false
    },
    "tags": []
   },
   "outputs": [
    {
     "data": {
      "text/plain": [
       "DatasetDict({\n",
       "    train: Dataset({\n",
       "        features: ['context', 'target'],\n",
       "        num_rows: 6622\n",
       "    })\n",
       "    test: Dataset({\n",
       "        features: ['context', 'target'],\n",
       "        num_rows: 1000\n",
       "    })\n",
       "})"
      ]
     },
     "execution_count": 26,
     "metadata": {},
     "output_type": "execute_result"
    }
   ],
   "source": [
    "split_dataset"
   ]
  },
  {
   "cell_type": "code",
   "execution_count": 27,
   "id": "77fbbf2b-3416-427d-9556-439f8910354a",
   "metadata": {
    "ExecutionIndicator": {
     "show": false
    },
    "tags": []
   },
   "outputs": [],
   "source": [
    "split_dataset['valid'] =split_dataset['test']"
   ]
  },
  {
   "cell_type": "code",
   "execution_count": 28,
   "id": "dc435107-eb99-4446-a79e-d5b6f270e5ec",
   "metadata": {
    "ExecutionIndicator": {
     "show": false
    },
    "tags": []
   },
   "outputs": [
    {
     "data": {
      "text/plain": [
       "DatasetDict({\n",
       "    train: Dataset({\n",
       "        features: ['context', 'target'],\n",
       "        num_rows: 6622\n",
       "    })\n",
       "    test: Dataset({\n",
       "        features: ['context', 'target'],\n",
       "        num_rows: 1000\n",
       "    })\n",
       "    valid: Dataset({\n",
       "        features: ['context', 'target'],\n",
       "        num_rows: 1000\n",
       "    })\n",
       "})"
      ]
     },
     "execution_count": 28,
     "metadata": {},
     "output_type": "execute_result"
    }
   ],
   "source": [
    "split_dataset"
   ]
  },
  {
   "cell_type": "code",
   "execution_count": 29,
   "id": "42921b53-95e5-4ff9-8fca-c5c26764ac7c",
   "metadata": {
    "ExecutionIndicator": {
     "show": false
    },
    "tags": []
   },
   "outputs": [
    {
     "data": {
      "text/plain": [
       "Dataset({\n",
       "    features: ['context', 'target'],\n",
       "    num_rows: 1000\n",
       "})"
      ]
     },
     "execution_count": 29,
     "metadata": {},
     "output_type": "execute_result"
    }
   ],
   "source": [
    "#remove test dataset\n",
    "split_dataset.pop('test')"
   ]
  },
  {
   "cell_type": "code",
   "execution_count": 30,
   "id": "35d56ed8-689a-45de-9a76-1d1b5756d7c8",
   "metadata": {
    "ExecutionIndicator": {
     "show": false
    },
    "tags": []
   },
   "outputs": [
    {
     "data": {
      "text/plain": [
       "DatasetDict({\n",
       "    train: Dataset({\n",
       "        features: ['context', 'target'],\n",
       "        num_rows: 6622\n",
       "    })\n",
       "    valid: Dataset({\n",
       "        features: ['context', 'target'],\n",
       "        num_rows: 1000\n",
       "    })\n",
       "})"
      ]
     },
     "execution_count": 30,
     "metadata": {},
     "output_type": "execute_result"
    }
   ],
   "source": [
    "split_dataset"
   ]
  },
  {
   "cell_type": "code",
   "execution_count": 35,
   "id": "13f01f68-d395-4c37-88de-1afc7d8581ea",
   "metadata": {
    "ExecutionIndicator": {
     "show": false
    },
    "tags": []
   },
   "outputs": [
    {
     "name": "stderr",
     "output_type": "stream",
     "text": [
      "                                                                                \r"
     ]
    }
   ],
   "source": [
    "# save datasets to disk\n",
    "split_dataset.save_to_disk('data/Med_datasets')"
   ]
  },
  {
   "cell_type": "code",
   "execution_count": 39,
   "id": "40ed39f1-d945-42e4-bf54-3066eae65b30",
   "metadata": {},
   "outputs": [],
   "source": [
    "datasets = load_from_disk(dataset_path='data/Med_datasets.jsonl')"
   ]
  },
  {
   "cell_type": "code",
   "execution_count": 40,
   "id": "17d462ea-f0ff-417b-bc13-c2bfaa0e4e59",
   "metadata": {},
   "outputs": [
    {
     "data": {
      "text/plain": [
       "DatasetDict({\n",
       "    train: Dataset({\n",
       "        features: ['context', 'target'],\n",
       "        num_rows: 6622\n",
       "    })\n",
       "    valid: Dataset({\n",
       "        features: ['context', 'target'],\n",
       "        num_rows: 1000\n",
       "    })\n",
       "})"
      ]
     },
     "execution_count": 40,
     "metadata": {},
     "output_type": "execute_result"
    }
   ],
   "source": [
    "datasets"
   ]
  },
  {
   "cell_type": "code",
   "execution_count": 42,
   "id": "181248e5-e8a6-4cfc-a094-f1e9536e63af",
   "metadata": {},
   "outputs": [
    {
     "data": {
      "text/plain": [
       "{'context': '指令：下面是一个医学领域的问题，请根据你对医学领域的了解，严谨细致的回答，如果不清楚就回答不清楚，不许胡编乱造。\\n问题：一个患者开始感觉口腔黏膜出现不适感，经过检查发现口腔黏膜破溃，出现了一些渗出物，还有口腔结节，辅助检查中X线片检查发现病情较重，想请问这是什么疾病？\\n回答: ',\n",
       " 'target': '根据口腔黏膜破溃、渗出物、口腔结节等症状，结合X线片检查结果，可疑为口腔结核。'}"
      ]
     },
     "execution_count": 42,
     "metadata": {},
     "output_type": "execute_result"
    }
   ],
   "source": [
    "datasets['train'][0]"
   ]
  },
  {
   "cell_type": "code",
   "execution_count": 43,
   "id": "01f6642c-1b6a-45eb-991a-13e742d323b8",
   "metadata": {},
   "outputs": [],
   "source": [
    "from transformers import AutoTokenizer"
   ]
  },
  {
   "cell_type": "code",
   "execution_count": 46,
   "id": "649b513c-9b59-4cc4-b44c-9697f39c8395",
   "metadata": {},
   "outputs": [
    {
     "name": "stderr",
     "output_type": "stream",
     "text": [
      "Downloading tokenizer.model: 100%|█████████| 1.02M/1.02M [00:00<00:00, 3.19MB/s]\n"
     ]
    }
   ],
   "source": [
    "tokenizer = AutoTokenizer.from_pretrained('THUDM/chatglm2-6b', trust_remote_code=True)"
   ]
  },
  {
   "cell_type": "code",
   "execution_count": 294,
   "id": "8d6ab582-c7ed-4211-88f7-07b17f843e2b",
   "metadata": {},
   "outputs": [],
   "source": [
    "from typing import List, Union, Dict, Tuple\n",
    "import torch\n",
    "from transformers import DataCollatorForSeq2Seq"
   ]
  },
  {
   "cell_type": "code",
   "execution_count": 462,
   "id": "be33e154-9b7b-4901-950f-0f80e4bfcd7a",
   "metadata": {},
   "outputs": [],
   "source": [
    "class DataCollatorForChatGlm2():\n",
    "    def __init__(self, pad_token_id: int, label_pad_id: int=-100):\n",
    "        self.pad_token_id = pad_token_id\n",
    "        self.label_pad_id = label_pad_id\n",
    "\n",
    "    def __call__(self, batch_data: List[Dict[str, List]]) -> Dict[str, torch.Tensor]:\n",
    "        #dynamic padding\n",
    "        len_list = [len(data['input_ids']) for data in batch_data]\n",
    "        batch_max_len = max(len_list)\n",
    "        input_ids = []\n",
    "        attention_mask = []\n",
    "        position_ids = []\n",
    "        labels_list = []\n",
    "        for len_ids, data in zip(len_list, batch_data):\n",
    "            #left padding\n",
    "            pad_len = batch_max_len - len_ids\n",
    "            ids = torch.cat((torch.tensor([self.pad_token_id] * pad_len),data['input_ids']))\n",
    "            label = torch.cat((torch.tensor([self.label_pad_id] * pad_len), data['labels']))\n",
    "            attention = [0] * pad_len + [1] * len_ids \n",
    "            position = [0] * pad_len + list(range(len_ids))\n",
    "            input_ids.append(ids)\n",
    "            attention_mask.append(torch.FloatTensor(attention))\n",
    "            position_ids.append(torch.FloatTensor(position))\n",
    "            labels_list.append(label)\n",
    "        input_ids = torch.stack(input_ids)\n",
    "        attention_mask = torch.stack(attention_mask)\n",
    "        position_ids = torch.stack(position_ids)\n",
    "        labels = torch.stack(labels_list)\n",
    "        return {'input_ids': input_ids,\n",
    "                'attention_mask': attention_mask,\n",
    "                'position_ids': position_ids,\n",
    "                'labels': labels}"
   ]
  },
  {
   "cell_type": "code",
   "execution_count": null,
   "id": "11c62fb6-eb6c-47c7-8f33-5ae7e4c894b2",
   "metadata": {},
   "outputs": [],
   "source": [
    "datacollatorforchatglm2 = DataCollatorForChatGlm2(tokenizer.pad_token_id)"
   ]
  },
  {
   "cell_type": "code",
   "execution_count": 385,
   "id": "33fcfebe-e023-461e-a7a2-4efabd2f12dc",
   "metadata": {},
   "outputs": [],
   "source": [
    "from torch.utils.data.dataset import Dataset\n",
    "from torch.utils.data.dataloader import DataLoader"
   ]
  },
  {
   "cell_type": "code",
   "execution_count": 387,
   "id": "98780ea3-d35d-4e66-a4f8-feb6a3733239",
   "metadata": {},
   "outputs": [],
   "source": [
    "tokenized_datasets_train.set_format('torch')"
   ]
  },
  {
   "cell_type": "code",
   "execution_count": 472,
   "id": "3802ce48-f793-4b2f-8ffb-75e064624ae0",
   "metadata": {},
   "outputs": [
    {
     "data": {
      "text/plain": [
       "torch.int64"
      ]
     },
     "execution_count": 472,
     "metadata": {},
     "output_type": "execute_result"
    }
   ],
   "source": [
    "tokenized_datasets_train['labels'][0].dtype"
   ]
  },
  {
   "cell_type": "code",
   "execution_count": 465,
   "id": "e7bbdd72-e3fa-4285-b70a-d16cc8425351",
   "metadata": {
    "ExecutionIndicator": {
     "show": false
    },
    "tags": []
   },
   "outputs": [],
   "source": [
    "train_dataloader = DataLoader(tokenized_datasets_train, batch_size=8, collate_fn=datacollatorforchatglm2, shuffle=True)"
   ]
  },
  {
   "cell_type": "code",
   "execution_count": 466,
   "id": "7424dc86-f842-471e-8c6f-ba1e4cbb00a5",
   "metadata": {},
   "outputs": [
    {
     "data": {
      "text/plain": [
       "<torch.utils.data.dataloader.DataLoader at 0x2a1014410>"
      ]
     },
     "execution_count": 466,
     "metadata": {},
     "output_type": "execute_result"
    }
   ],
   "source": [
    "train_dataloader"
   ]
  },
  {
   "cell_type": "code",
   "execution_count": 471,
   "id": "cc70f249-511e-4068-a90c-7f6d50cba957",
   "metadata": {},
   "outputs": [
    {
     "name": "stdout",
     "output_type": "stream",
     "text": [
      "torch.Size([160])\n",
      "torch.Size([160])\n",
      "该患者可能患有副流行性感冒，且病情较为严重。建议进行病毒分离鉴定、血清学检查等实验室检查，以确定诊断。治疗上可使用干扰素、克仑特罗、利巴韦林等药物。建议前往呼吸科或感染内科进行诊治。同时要注意预防并发症，如肺炎。\n"
     ]
    }
   ],
   "source": [
    "for data in train_dataloader:\n",
    "    print(data['input_ids'][1].shape)\n",
    "    print(data['input_ids'][2].shape)\n",
    "    print(tokenizer.decode(data['labels'][1]))\n",
    "    break"
   ]
  }
 ],
 "metadata": {
  "kernelspec": {
   "display_name": "llm",
   "language": "python",
   "name": "llm"
  },
  "language_info": {
   "codemirror_mode": {
    "name": "ipython",
    "version": 3
   },
   "file_extension": ".py",
   "mimetype": "text/x-python",
   "name": "python",
   "nbconvert_exporter": "python",
   "pygments_lexer": "ipython3",
   "version": "3.11.3"
  }
 },
 "nbformat": 4,
 "nbformat_minor": 5
}
