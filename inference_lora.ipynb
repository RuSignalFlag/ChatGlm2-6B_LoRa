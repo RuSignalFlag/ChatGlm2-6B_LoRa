{
 "cells": [
  {
   "cell_type": "code",
   "execution_count": null,
   "id": "5d1895e9-75aa-47a1-a7c3-732d583e09f1",
   "metadata": {
    "ExecutionIndicator": {
     "show": true
    },
    "tags": []
   },
   "outputs": [],
   "source": [
    "from transformers import AutoModel, AutoTokenizer, BitsAndBytesConfig\n",
    "import torch\n",
    "from peft import LoraConfig, PeftModelForCausalLM\n",
    "from datasets import load_from_disk"
   ]
  },
  {
   "cell_type": "code",
   "execution_count": 2,
   "id": "2ef578d6-79ff-4e76-847e-cff7a98b77ad",
   "metadata": {
    "execution": {
     "iopub.execute_input": "2023-07-15T13:12:45.316476Z",
     "iopub.status.busy": "2023-07-15T13:12:45.315866Z",
     "iopub.status.idle": "2023-07-15T13:12:45.320817Z",
     "shell.execute_reply": "2023-07-15T13:12:45.320266Z",
     "shell.execute_reply.started": "2023-07-15T13:12:45.316446Z"
    },
    "tags": []
   },
   "outputs": [],
   "source": [
    "quantization_config = BitsAndBytesConfig(\n",
    "    load_in_4bit=True,\n",
    "    bnb_4bit_quant_type='nf4',\n",
    "    bnb_4bit_compute_dtype=torch.float16\n",
    ")"
   ]
  },
  {
   "cell_type": "code",
   "execution_count": 3,
   "id": "f929a68c-1419-4f47-aa81-fea9ae00e778",
   "metadata": {
    "ExecutionIndicator": {
     "show": true
    },
    "execution": {
     "iopub.execute_input": "2023-07-15T13:12:52.627437Z",
     "iopub.status.busy": "2023-07-15T13:12:52.627048Z",
     "iopub.status.idle": "2023-07-15T13:13:15.302227Z",
     "shell.execute_reply": "2023-07-15T13:13:15.301668Z",
     "shell.execute_reply.started": "2023-07-15T13:12:52.627411Z"
    },
    "tags": []
   },
   "outputs": [
    {
     "name": "stderr",
     "output_type": "stream",
     "text": [
      "The model weights are not tied. Please use the `tie_weights` method before using the `infer_auto_device` function.\n",
      "Loading checkpoint shards: 100%|██████████| 7/7 [00:15<00:00,  2.26s/it]\n"
     ]
    }
   ],
   "source": [
    "base_model = AutoModel.from_pretrained('THUDM/chatglm2-6b', trust_remote_code=True, device_map='auto', quantization_config=quantization_config)"
   ]
  },
  {
   "cell_type": "code",
   "execution_count": 4,
   "id": "0d6fb4b9-1403-463d-b737-1c1715d96106",
   "metadata": {
    "execution": {
     "iopub.execute_input": "2023-07-15T13:13:36.990438Z",
     "iopub.status.busy": "2023-07-15T13:13:36.990032Z",
     "iopub.status.idle": "2023-07-15T13:13:36.998108Z",
     "shell.execute_reply": "2023-07-15T13:13:36.997552Z",
     "shell.execute_reply.started": "2023-07-15T13:13:36.990411Z"
    },
    "tags": []
   },
   "outputs": [
    {
     "data": {
      "text/plain": [
       "ChatGLMForConditionalGeneration(\n",
       "  (transformer): ChatGLMModel(\n",
       "    (embedding): Embedding(\n",
       "      (word_embeddings): Embedding(65024, 4096)\n",
       "    )\n",
       "    (rotary_pos_emb): RotaryEmbedding()\n",
       "    (encoder): GLMTransformer(\n",
       "      (layers): ModuleList(\n",
       "        (0-27): 28 x GLMBlock(\n",
       "          (input_layernorm): RMSNorm()\n",
       "          (self_attention): SelfAttention(\n",
       "            (query_key_value): Linear4bit(in_features=4096, out_features=4608, bias=True)\n",
       "            (core_attention): CoreAttention(\n",
       "              (attention_dropout): Dropout(p=0.0, inplace=False)\n",
       "            )\n",
       "            (dense): Linear4bit(in_features=4096, out_features=4096, bias=False)\n",
       "          )\n",
       "          (post_attention_layernorm): RMSNorm()\n",
       "          (mlp): MLP(\n",
       "            (dense_h_to_4h): Linear4bit(in_features=4096, out_features=27392, bias=False)\n",
       "            (dense_4h_to_h): Linear4bit(in_features=13696, out_features=4096, bias=False)\n",
       "          )\n",
       "        )\n",
       "      )\n",
       "      (final_layernorm): RMSNorm()\n",
       "    )\n",
       "    (output_layer): Linear(in_features=4096, out_features=65024, bias=False)\n",
       "  )\n",
       ")"
      ]
     },
     "execution_count": 4,
     "metadata": {},
     "output_type": "execute_result"
    }
   ],
   "source": [
    "base_model"
   ]
  },
  {
   "cell_type": "code",
   "execution_count": 5,
   "id": "85e05fee-b56d-4ff9-86ac-c5b94ef3fb0e",
   "metadata": {
    "execution": {
     "iopub.execute_input": "2023-07-15T13:13:40.707273Z",
     "iopub.status.busy": "2023-07-15T13:13:40.706872Z",
     "iopub.status.idle": "2023-07-15T13:13:41.198388Z",
     "shell.execute_reply": "2023-07-15T13:13:41.197776Z",
     "shell.execute_reply.started": "2023-07-15T13:13:40.707247Z"
    },
    "tags": []
   },
   "outputs": [],
   "source": [
    "tokenizer = AutoTokenizer.from_pretrained('THUDM/chatglm2-6b', trust_remote_code=True)"
   ]
  },
  {
   "cell_type": "code",
   "execution_count": 6,
   "id": "3bc19b57-9986-4fde-8ecc-bcfdf1f6b4af",
   "metadata": {
    "execution": {
     "iopub.execute_input": "2023-07-15T13:13:42.934875Z",
     "iopub.status.busy": "2023-07-15T13:13:42.934484Z",
     "iopub.status.idle": "2023-07-15T13:13:42.941989Z",
     "shell.execute_reply": "2023-07-15T13:13:42.941404Z",
     "shell.execute_reply.started": "2023-07-15T13:13:42.934848Z"
    },
    "tags": []
   },
   "outputs": [
    {
     "data": {
      "text/plain": [
       "ChatGLMForConditionalGeneration(\n",
       "  (transformer): ChatGLMModel(\n",
       "    (embedding): Embedding(\n",
       "      (word_embeddings): Embedding(65024, 4096)\n",
       "    )\n",
       "    (rotary_pos_emb): RotaryEmbedding()\n",
       "    (encoder): GLMTransformer(\n",
       "      (layers): ModuleList(\n",
       "        (0-27): 28 x GLMBlock(\n",
       "          (input_layernorm): RMSNorm()\n",
       "          (self_attention): SelfAttention(\n",
       "            (query_key_value): Linear4bit(in_features=4096, out_features=4608, bias=True)\n",
       "            (core_attention): CoreAttention(\n",
       "              (attention_dropout): Dropout(p=0.0, inplace=False)\n",
       "            )\n",
       "            (dense): Linear4bit(in_features=4096, out_features=4096, bias=False)\n",
       "          )\n",
       "          (post_attention_layernorm): RMSNorm()\n",
       "          (mlp): MLP(\n",
       "            (dense_h_to_4h): Linear4bit(in_features=4096, out_features=27392, bias=False)\n",
       "            (dense_4h_to_h): Linear4bit(in_features=13696, out_features=4096, bias=False)\n",
       "          )\n",
       "        )\n",
       "      )\n",
       "      (final_layernorm): RMSNorm()\n",
       "    )\n",
       "    (output_layer): Linear(in_features=4096, out_features=65024, bias=False)\n",
       "  )\n",
       ")"
      ]
     },
     "execution_count": 6,
     "metadata": {},
     "output_type": "execute_result"
    }
   ],
   "source": [
    "base_model.eval()"
   ]
  },
  {
   "cell_type": "code",
   "execution_count": 7,
   "id": "ba610209-cc1a-4211-96ca-2a11b926ecdc",
   "metadata": {
    "ExecutionIndicator": {
     "show": true
    },
    "execution": {
     "iopub.execute_input": "2023-07-15T13:13:58.642690Z",
     "iopub.status.busy": "2023-07-15T13:13:58.642097Z",
     "iopub.status.idle": "2023-07-15T13:14:13.324717Z",
     "shell.execute_reply": "2023-07-15T13:14:13.324059Z",
     "shell.execute_reply.started": "2023-07-15T13:13:58.642663Z"
    },
    "tags": []
   },
   "outputs": [],
   "source": [
    "response, history = base_model.chat(tokenizer, '输出一份黄山旅游的计划', history=[])"
   ]
  },
  {
   "cell_type": "code",
   "execution_count": 8,
   "id": "d8386574-c2c3-43d3-86dc-1468f871fc65",
   "metadata": {
    "execution": {
     "iopub.execute_input": "2023-07-15T13:14:15.501144Z",
     "iopub.status.busy": "2023-07-15T13:14:15.500552Z",
     "iopub.status.idle": "2023-07-15T13:14:15.505287Z",
     "shell.execute_reply": "2023-07-15T13:14:15.504652Z",
     "shell.execute_reply.started": "2023-07-15T13:14:15.501116Z"
    },
    "tags": []
   },
   "outputs": [
    {
     "data": {
      "text/plain": [
       "'以下是一份黄山旅游计划:\\n\\n第一天:\\n- 上午:到达黄山市,前往酒店办理入住手续并放下行李。\\n- 下午:前往黄山市区,游览黄山市政府广场和黄山市博物馆,了解黄山市的旅游文化和历史。\\n\\n第二天:\\n- 上午:前往黄山市区的黄山风景区,乘坐缆车上山。\\n- 下午:游览西海大峡谷、天都峰等著名景点,欣赏黄山的美丽景色。\\n\\n第三天:\\n- 上午:前往黄山市区的黄山市博物馆,了解黄山市的民俗文化和特色美食。\\n- 下午:前往黄山市的徽州区,游览潜口民宅、呈坎古镇等景点,体验徽派建筑和文化。\\n\\n第四天:\\n- 上午:前往黄山市的黄山区,游览黄山南屏景区、汤口镇等景点,了解黄山的自然风光和地理文化。\\n- 下午:前往黄山市的黄山风景区,乘坐缆车上山。\\n\\n第五天:\\n- 上午:游览黄山市的黄山风景区,欣赏黄山的美丽景色,乘坐缆车下山。\\n- 下午:前往黄山市的市区,游览黄山市区的景点,如黄山市体育馆、黄山市图书馆等。\\n\\n第六天:\\n- 上午:前往黄山市的机场,乘坐飞机返回原所在地。\\n\\n以上是一份五天四夜的黄山旅游计划,可以根据自己的需要和时间进行适当调整。希望这份计划能有所帮助!'"
      ]
     },
     "execution_count": 8,
     "metadata": {},
     "output_type": "execute_result"
    }
   ],
   "source": [
    "response"
   ]
  },
  {
   "cell_type": "code",
   "execution_count": 9,
   "id": "fc36899d-ef58-4e36-be1c-31385e932331",
   "metadata": {
    "execution": {
     "iopub.execute_input": "2023-07-15T13:15:03.428673Z",
     "iopub.status.busy": "2023-07-15T13:15:03.428102Z",
     "iopub.status.idle": "2023-07-15T13:15:03.436475Z",
     "shell.execute_reply": "2023-07-15T13:15:03.435951Z",
     "shell.execute_reply.started": "2023-07-15T13:15:03.428645Z"
    }
   },
   "outputs": [],
   "source": [
    "datasets = load_from_disk(dataset_path='data/Med_datasets.jsonl')"
   ]
  },
  {
   "cell_type": "code",
   "execution_count": 10,
   "id": "aee6c743-9a7d-4ce0-850b-b7f77f2f63f9",
   "metadata": {
    "execution": {
     "iopub.execute_input": "2023-07-15T13:15:17.091743Z",
     "iopub.status.busy": "2023-07-15T13:15:17.091043Z",
     "iopub.status.idle": "2023-07-15T13:15:17.096418Z",
     "shell.execute_reply": "2023-07-15T13:15:17.095798Z",
     "shell.execute_reply.started": "2023-07-15T13:15:17.091715Z"
    }
   },
   "outputs": [
    {
     "data": {
      "text/plain": [
       "{'context': '指令：下面是一个医学领域的问题，请根据你对医学领域的了解，严谨细致的回答，如果不清楚就回答不清楚，不许胡编乱造。\\n问题：患者孕14周，主诉右上腹部疼痛，伴随恶心、呕吐，BP 160/110 mmHg，体检腹肌紧张，有肝区压痛。请问可能患有什么疾病？\\n回答: ',\n",
       " 'target': '患者可能患有妊娠期高血压疾病引起的妊娠期肝血肿及破裂，需要进行B超检查、实验室检查等辅助检查，对症给予肝素、冻干人血浆等治疗方案。'}"
      ]
     },
     "execution_count": 10,
     "metadata": {},
     "output_type": "execute_result"
    }
   ],
   "source": [
    "datasets['train'][1]"
   ]
  },
  {
   "cell_type": "code",
   "execution_count": 11,
   "id": "5639990b-5f97-4142-afaa-b9f1152ce889",
   "metadata": {
    "execution": {
     "iopub.execute_input": "2023-07-15T13:15:43.716534Z",
     "iopub.status.busy": "2023-07-15T13:15:43.716146Z",
     "iopub.status.idle": "2023-07-15T13:15:43.720209Z",
     "shell.execute_reply": "2023-07-15T13:15:43.719558Z",
     "shell.execute_reply.started": "2023-07-15T13:15:43.716506Z"
    }
   },
   "outputs": [],
   "source": [
    "query = datasets['train'][1]['context']"
   ]
  },
  {
   "cell_type": "code",
   "execution_count": 12,
   "id": "ba168e20-3b5b-4605-9d3c-b789567843b4",
   "metadata": {
    "execution": {
     "iopub.execute_input": "2023-07-15T13:16:03.934358Z",
     "iopub.status.busy": "2023-07-15T13:16:03.933972Z",
     "iopub.status.idle": "2023-07-15T13:16:09.329542Z",
     "shell.execute_reply": "2023-07-15T13:16:09.328826Z",
     "shell.execute_reply.started": "2023-07-15T13:16:03.934332Z"
    }
   },
   "outputs": [],
   "source": [
    "response, history = base_model.chat(tokenizer, query=query, history=[])"
   ]
  },
  {
   "cell_type": "code",
   "execution_count": 13,
   "id": "0e0ddd07-4add-49a8-8017-44a10033b3e8",
   "metadata": {
    "execution": {
     "iopub.execute_input": "2023-07-15T13:16:16.572139Z",
     "iopub.status.busy": "2023-07-15T13:16:16.571748Z",
     "iopub.status.idle": "2023-07-15T13:16:16.576247Z",
     "shell.execute_reply": "2023-07-15T13:16:16.575686Z",
     "shell.execute_reply.started": "2023-07-15T13:16:16.572113Z"
    }
   },
   "outputs": [
    {
     "data": {
      "text/plain": [
       "'根据病史和体检结果,患者可能患有妊娠期高血压疾病(简称妊娠期高血压)。妊娠期高血压疾病是指妊娠期间发生的高血压疾病,是孕期最常见的并发症之一。其特点是高血压、蛋白尿、胎盘早剥和宫内并发症等。\\n\\n患者出现右上腹部疼痛、恶心、呕吐、高血压、肝区压痛等症状,提示可能存在腹部疾病。而根据体检结果,腹肌紧张和肝区压痛进一步支持了这一诊断。\\n\\n因此,患者可能患有妊娠期高血压疾病,需要及时就医并接受医生的进一步检查和治疗。'"
      ]
     },
     "execution_count": 13,
     "metadata": {},
     "output_type": "execute_result"
    }
   ],
   "source": [
    "response"
   ]
  },
  {
   "cell_type": "code",
   "execution_count": 15,
   "id": "42de50a2-0b99-415d-8473-7f254aa4a30b",
   "metadata": {
    "ExecutionIndicator": {
     "show": true
    },
    "execution": {
     "iopub.execute_input": "2023-07-15T13:16:59.553261Z",
     "iopub.status.busy": "2023-07-15T13:16:59.552606Z",
     "iopub.status.idle": "2023-07-15T13:16:59.558516Z",
     "shell.execute_reply": "2023-07-15T13:16:59.557772Z",
     "shell.execute_reply.started": "2023-07-15T13:16:59.553231Z"
    },
    "tags": []
   },
   "outputs": [
    {
     "data": {
      "text/plain": [
       "{'context': '指令：下面是一个医学领域的问题，请根据你对医学领域的了解，严谨细致的回答，如果不清楚就回答不清楚，不许胡编乱造。\\n问题：某女性患者出现敏感、水疱、皮损为对称性、水肿等症状，并伴有关节痛等症状，诊断结果为什么？\\n回答: ',\n",
       " 'target': '考虑为亚急性皮肤红斑狼疮，需进一步检查实验室检查如红细胞沉降率和免疫学检查，治疗方案可以包括组胺、氨苯砜、普鲁卡因、羟氯喹等。'}"
      ]
     },
     "execution_count": 15,
     "metadata": {},
     "output_type": "execute_result"
    }
   ],
   "source": [
    "datasets['valid'][158]"
   ]
  },
  {
   "cell_type": "code",
   "execution_count": 16,
   "id": "4b5eb4db-c94a-416b-be58-9781e751a12e",
   "metadata": {
    "execution": {
     "iopub.execute_input": "2023-07-15T13:17:21.121822Z",
     "iopub.status.busy": "2023-07-15T13:17:21.121423Z",
     "iopub.status.idle": "2023-07-15T13:17:21.125239Z",
     "shell.execute_reply": "2023-07-15T13:17:21.124713Z",
     "shell.execute_reply.started": "2023-07-15T13:17:21.121794Z"
    }
   },
   "outputs": [],
   "source": [
    "query = datasets['valid'][158]['context']"
   ]
  },
  {
   "cell_type": "code",
   "execution_count": 17,
   "id": "968966d8-b5f9-425b-b938-7a11eb0c71d5",
   "metadata": {
    "execution": {
     "iopub.execute_input": "2023-07-15T13:17:31.533446Z",
     "iopub.status.busy": "2023-07-15T13:17:31.533058Z",
     "iopub.status.idle": "2023-07-15T13:17:38.310017Z",
     "shell.execute_reply": "2023-07-15T13:17:38.309391Z",
     "shell.execute_reply.started": "2023-07-15T13:17:31.533418Z"
    }
   },
   "outputs": [],
   "source": [
    "response, history = base_model.chat(tokenizer, query=query, history=[])"
   ]
  },
  {
   "cell_type": "code",
   "execution_count": 18,
   "id": "553db0ce-e246-4202-95d1-238a340a9d6f",
   "metadata": {
    "execution": {
     "iopub.execute_input": "2023-07-15T13:17:44.825730Z",
     "iopub.status.busy": "2023-07-15T13:17:44.825338Z",
     "iopub.status.idle": "2023-07-15T13:17:44.830407Z",
     "shell.execute_reply": "2023-07-15T13:17:44.829654Z",
     "shell.execute_reply.started": "2023-07-15T13:17:44.825702Z"
    }
   },
   "outputs": [
    {
     "data": {
      "text/plain": [
       "'根据症状描述,该女性患者可能患有带状疱疹。带状疱疹是由水痘病毒引起的一种疾病,通常会在身体的一侧出现带状的皮疹、神经痛和局部肿胀等症状。如果病毒侵入到神经组织中,它可能会引起带状疱疹性神经痛,这种疼痛可能会持续数月。\\n\\n该女性的症状包括敏感、水疱、皮损为对称性、水肿和关节痛,这些症状与带状疱疹的特征相符合。此外,带状疱疹通常会在春季和秋季出现,因此这也是一个提示。\\n\\n综上所述,根据症状描述,我怀疑该女性患有带状疱疹。建议她立即就医,并进行病毒学检查以确认诊断,以便及时治疗。'"
      ]
     },
     "execution_count": 18,
     "metadata": {},
     "output_type": "execute_result"
    }
   ],
   "source": [
    "response"
   ]
  },
  {
   "cell_type": "code",
   "execution_count": 19,
   "id": "0f91450d-48d0-46f1-aa41-fac6747b3043",
   "metadata": {
    "ExecutionIndicator": {
     "show": true
    },
    "execution": {
     "iopub.execute_input": "2023-07-15T13:18:12.587924Z",
     "iopub.status.busy": "2023-07-15T13:18:12.587218Z",
     "iopub.status.idle": "2023-07-15T13:18:12.591205Z",
     "shell.execute_reply": "2023-07-15T13:18:12.590607Z",
     "shell.execute_reply.started": "2023-07-15T13:18:12.587896Z"
    },
    "tags": []
   },
   "outputs": [],
   "source": [
    "lora_config = LoraConfig.from_pretrained('Lora_Adapter_THUDM_chatglm2-6b/finally_adapter/LoraAdapter')"
   ]
  },
  {
   "cell_type": "code",
   "execution_count": 20,
   "id": "ec774f12-e36a-4d5e-aa2a-6bf0168e6971",
   "metadata": {
    "execution": {
     "iopub.execute_input": "2023-07-15T13:18:13.155606Z",
     "iopub.status.busy": "2023-07-15T13:18:13.155202Z",
     "iopub.status.idle": "2023-07-15T13:18:13.159392Z",
     "shell.execute_reply": "2023-07-15T13:18:13.158820Z",
     "shell.execute_reply.started": "2023-07-15T13:18:13.155586Z"
    },
    "tags": []
   },
   "outputs": [
    {
     "data": {
      "text/plain": [
       "LoraConfig(peft_type='LORA', base_model_name_or_path='THUDM/chatglm2-6b', revision=None, task_type='CAUSAL_LM', inference_mode=True, r=12, target_modules=['query_key_value'], lora_alpha=24, lora_dropout=0.05, fan_in_fan_out=False, bias='none', modules_to_save=None, init_lora_weights=True, layers_to_transform=None, layers_pattern=None)"
      ]
     },
     "execution_count": 20,
     "metadata": {},
     "output_type": "execute_result"
    }
   ],
   "source": [
    "lora_config"
   ]
  },
  {
   "cell_type": "code",
   "execution_count": 21,
   "id": "26ae2241-50ab-4f7a-b7b8-d37e0784546c",
   "metadata": {
    "execution": {
     "iopub.execute_input": "2023-07-15T13:18:15.162654Z",
     "iopub.status.busy": "2023-07-15T13:18:15.161957Z",
     "iopub.status.idle": "2023-07-15T13:18:19.890954Z",
     "shell.execute_reply": "2023-07-15T13:18:19.890310Z",
     "shell.execute_reply.started": "2023-07-15T13:18:15.162612Z"
    },
    "tags": []
   },
   "outputs": [],
   "source": [
    "model = PeftModelForCausalLM.from_pretrained(base_model, 'Lora_Adapter_THUDM_chatglm2-6b/finally_adapter/LoraAdapter', adapter_name='LoraAdapter')"
   ]
  },
  {
   "cell_type": "code",
   "execution_count": 22,
   "id": "96f388ed-44fa-4a61-b5a2-7426b6a0af5a",
   "metadata": {
    "ExecutionIndicator": {
     "show": true
    },
    "execution": {
     "iopub.execute_input": "2023-07-15T13:18:25.472155Z",
     "iopub.status.busy": "2023-07-15T13:18:25.471779Z",
     "iopub.status.idle": "2023-07-15T13:18:25.479568Z",
     "shell.execute_reply": "2023-07-15T13:18:25.479076Z",
     "shell.execute_reply.started": "2023-07-15T13:18:25.472132Z"
    },
    "tags": []
   },
   "outputs": [
    {
     "data": {
      "text/plain": [
       "Parameter containing:\n",
       "tensor([[-0.0010, -0.0133, -0.0148,  ..., -0.0097, -0.0126,  0.0098],\n",
       "        [-0.0066, -0.0118,  0.0112,  ..., -0.0013,  0.0085, -0.0175],\n",
       "        [-0.0032,  0.0003,  0.0143,  ...,  0.0143,  0.0175,  0.0184],\n",
       "        ...,\n",
       "        [-0.0042,  0.0138, -0.0155,  ...,  0.0193,  0.0089,  0.0157],\n",
       "        [ 0.0146,  0.0074,  0.0165,  ...,  0.0215, -0.0120,  0.0076],\n",
       "        [ 0.0036, -0.0030,  0.0110,  ...,  0.0192, -0.0008,  0.0101]],\n",
       "       device='cuda:0')"
      ]
     },
     "execution_count": 22,
     "metadata": {},
     "output_type": "execute_result"
    }
   ],
   "source": [
    "model.base_model.model.transformer.encoder.layers[0].self_attention.query_key_value.lora_A.LoraAdapter.weight"
   ]
  },
  {
   "cell_type": "code",
   "execution_count": null,
   "id": "d76dbbec-d533-4147-a01e-1f0b5dbb3fc2",
   "metadata": {},
   "outputs": [],
   "source": [
    "query = datasets['train'][1]['context']"
   ]
  },
  {
   "cell_type": "code",
   "execution_count": 29,
   "id": "dff28f75-c68f-4f7c-b1bc-0ca109c38637",
   "metadata": {
    "execution": {
     "iopub.execute_input": "2023-07-15T13:20:53.322166Z",
     "iopub.status.busy": "2023-07-15T13:20:53.321578Z",
     "iopub.status.idle": "2023-07-15T13:20:53.746667Z",
     "shell.execute_reply": "2023-07-15T13:20:53.746099Z",
     "shell.execute_reply.started": "2023-07-15T13:20:53.322141Z"
    },
    "tags": []
   },
   "outputs": [],
   "source": [
    "response, history = model.chat(tokenizer, query=query, history=[])"
   ]
  },
  {
   "cell_type": "code",
   "execution_count": 30,
   "id": "4db8bc0d-85d9-436f-a81d-324dfee9fcf1",
   "metadata": {
    "execution": {
     "iopub.execute_input": "2023-07-15T13:20:55.243562Z",
     "iopub.status.busy": "2023-07-15T13:20:55.243020Z",
     "iopub.status.idle": "2023-07-15T13:20:55.247899Z",
     "shell.execute_reply": "2023-07-15T13:20:55.247137Z",
     "shell.execute_reply.started": "2023-07-15T13:20:55.243536Z"
    },
    "tags": []
   },
   "outputs": [
    {
     "data": {
      "text/plain": [
       "'该女性患有皮炎。'"
      ]
     },
     "execution_count": 30,
     "metadata": {},
     "output_type": "execute_result"
    }
   ],
   "source": [
    "response"
   ]
  },
  {
   "cell_type": "code",
   "execution_count": null,
   "id": "212b42c1-4bda-46c2-8e7b-5cfd3f1987e1",
   "metadata": {},
   "outputs": [],
   "source": [
    "query = query = datasets['valid'][158]['context']"
   ]
  },
  {
   "cell_type": "code",
   "execution_count": 31,
   "id": "403b6e4f-82bb-4ec2-9349-7ba294f4ea22",
   "metadata": {
    "execution": {
     "iopub.execute_input": "2023-07-15T13:21:38.742644Z",
     "iopub.status.busy": "2023-07-15T13:21:38.741975Z",
     "iopub.status.idle": "2023-07-15T13:21:39.268860Z",
     "shell.execute_reply": "2023-07-15T13:21:39.268245Z",
     "shell.execute_reply.started": "2023-07-15T13:21:38.742611Z"
    }
   },
   "outputs": [],
   "source": [
    "response, history = model.chat(tokenizer, query=query, history=[])"
   ]
  },
  {
   "cell_type": "code",
   "execution_count": 32,
   "id": "a654838b-ea7c-4617-9861-c82bbce5ebfe",
   "metadata": {
    "execution": {
     "iopub.execute_input": "2023-07-15T13:21:46.460873Z",
     "iopub.status.busy": "2023-07-15T13:21:46.460473Z",
     "iopub.status.idle": "2023-07-15T13:21:46.465027Z",
     "shell.execute_reply": "2023-07-15T13:21:46.464463Z",
     "shell.execute_reply.started": "2023-07-15T13:21:46.460845Z"
    }
   },
   "outputs": [
    {
     "data": {
      "text/plain": [
       "'该患者可能患有皮肌炎。'"
      ]
     },
     "execution_count": 32,
     "metadata": {},
     "output_type": "execute_result"
    }
   ],
   "source": [
    "response"
   ]
  },
  {
   "cell_type": "code",
   "execution_count": 33,
   "id": "5175d394-2d6d-42f7-8685-c6781cfdbe7d",
   "metadata": {
    "execution": {
     "iopub.execute_input": "2023-07-15T13:22:28.020785Z",
     "iopub.status.busy": "2023-07-15T13:22:28.020162Z",
     "iopub.status.idle": "2023-07-15T13:22:28.023964Z",
     "shell.execute_reply": "2023-07-15T13:22:28.023307Z",
     "shell.execute_reply.started": "2023-07-15T13:22:28.020760Z"
    }
   },
   "outputs": [],
   "source": [
    "query = \"指令：下面是一个医学领域的问题，请根据你对医学领域的了解，严谨细致的回答，如果不清楚就回答不清楚，不许胡编乱造。\\n问题：患者反复出现反酸、烧心等症状，考虑为Barrett食管，需要注意哪些并发症？\\n回答: \""
   ]
  },
  {
   "cell_type": "code",
   "execution_count": 34,
   "id": "33200ccd-2e99-4df4-8bbf-dfb1feccbc7e",
   "metadata": {
    "execution": {
     "iopub.execute_input": "2023-07-15T13:22:36.559572Z",
     "iopub.status.busy": "2023-07-15T13:22:36.559016Z",
     "iopub.status.idle": "2023-07-15T13:22:37.684614Z",
     "shell.execute_reply": "2023-07-15T13:22:37.683936Z",
     "shell.execute_reply.started": "2023-07-15T13:22:36.559545Z"
    }
   },
   "outputs": [],
   "source": [
    "response, history = model.chat(tokenizer, query=query, history=[])"
   ]
  },
  {
   "cell_type": "code",
   "execution_count": 35,
   "id": "6d0e6af7-d73e-435a-80ef-0c4945de34b2",
   "metadata": {
    "execution": {
     "iopub.execute_input": "2023-07-15T13:22:45.031481Z",
     "iopub.status.busy": "2023-07-15T13:22:45.030804Z",
     "iopub.status.idle": "2023-07-15T13:22:45.035306Z",
     "shell.execute_reply": "2023-07-15T13:22:45.034802Z",
     "shell.execute_reply.started": "2023-07-15T13:22:45.031452Z"
    }
   },
   "outputs": [
    {
     "data": {
      "text/plain": [
       "'需要注意并发症，包括食管穿孔、下食管括约肌不全、食管梗阻等。'"
      ]
     },
     "execution_count": 35,
     "metadata": {},
     "output_type": "execute_result"
    }
   ],
   "source": [
    "response"
   ]
  },
  {
   "cell_type": "code",
   "execution_count": 47,
   "id": "a538233b-233f-4d4e-b6f0-83817df4d9bf",
   "metadata": {
    "ExecutionIndicator": {
     "show": true
    },
    "execution": {
     "iopub.execute_input": "2023-07-15T12:44:20.617162Z",
     "iopub.status.busy": "2023-07-15T12:44:20.616766Z",
     "iopub.status.idle": "2023-07-15T12:44:23.020882Z",
     "shell.execute_reply": "2023-07-15T12:44:23.020153Z",
     "shell.execute_reply.started": "2023-07-15T12:44:20.617137Z"
    },
    "tags": []
   },
   "outputs": [],
   "source": [
    "response, history = model.chat(tokenizer, '你会写python脚本吗', history=[])"
   ]
  },
  {
   "cell_type": "code",
   "execution_count": 48,
   "id": "c34a5fd3-ac70-43f2-8cb3-011f9a0ffe6b",
   "metadata": {
    "execution": {
     "iopub.execute_input": "2023-07-15T12:44:23.720835Z",
     "iopub.status.busy": "2023-07-15T12:44:23.720251Z",
     "iopub.status.idle": "2023-07-15T12:44:23.724891Z",
     "shell.execute_reply": "2023-07-15T12:44:23.724224Z",
     "shell.execute_reply.started": "2023-07-15T12:44:23.720807Z"
    },
    "tags": []
   },
   "outputs": [
    {
     "data": {
      "text/plain": [
       "'是的,我可以写Python脚本。Python是一种非常流行的编程语言,它的语法简洁易于理解,因此在各个领域中都有广泛的应用。你有什么特定的需求吗?我可以帮你写一个简单的Python脚本来帮助你开始。'"
      ]
     },
     "execution_count": 48,
     "metadata": {},
     "output_type": "execute_result"
    }
   ],
   "source": [
    "response"
   ]
  },
  {
   "cell_type": "code",
   "execution_count": 39,
   "id": "a9cd00b5-5bd4-48d0-9557-eb43523c8013",
   "metadata": {
    "execution": {
     "iopub.execute_input": "2023-07-15T12:42:06.975231Z",
     "iopub.status.busy": "2023-07-15T12:42:06.974845Z",
     "iopub.status.idle": "2023-07-15T12:42:06.978480Z",
     "shell.execute_reply": "2023-07-15T12:42:06.977947Z",
     "shell.execute_reply.started": "2023-07-15T12:42:06.975199Z"
    }
   },
   "outputs": [],
   "source": [
    "query = \"指令：下面是一个医学领域的问题，请根据你对医学领域的了解，严谨细致的回答，如果不清楚就回答不清楚，不许胡编乱造。\\n问题：患者反复出现反酸、烧心等症状，考虑为Barrett食管，需要注意哪些并发症？\\n回答: \""
   ]
  },
  {
   "cell_type": "code",
   "execution_count": 40,
   "id": "95112942-8060-4aa9-806e-794c4151775e",
   "metadata": {
    "execution": {
     "iopub.execute_input": "2023-07-15T12:42:09.777969Z",
     "iopub.status.busy": "2023-07-15T12:42:09.777558Z",
     "iopub.status.idle": "2023-07-15T12:42:09.781947Z",
     "shell.execute_reply": "2023-07-15T12:42:09.781408Z",
     "shell.execute_reply.started": "2023-07-15T12:42:09.777945Z"
    }
   },
   "outputs": [
    {
     "data": {
      "text/plain": [
       "'指令：下面是一个医学领域的问题，请根据你对医学领域的了解，严谨细致的回答，如果不清楚就回答不清楚，不许胡编乱造。\\n问题：患者反复出现反酸、烧心等症状，考虑为Barrett食管，需要注意哪些并发症？\\n回答: '"
      ]
     },
     "execution_count": 40,
     "metadata": {},
     "output_type": "execute_result"
    }
   ],
   "source": [
    "query"
   ]
  },
  {
   "cell_type": "code",
   "execution_count": 41,
   "id": "55ba2367-49cf-408c-8e5a-494f91b3537a",
   "metadata": {
    "execution": {
     "iopub.execute_input": "2023-07-15T12:42:28.772335Z",
     "iopub.status.busy": "2023-07-15T12:42:28.771615Z",
     "iopub.status.idle": "2023-07-15T12:42:30.330691Z",
     "shell.execute_reply": "2023-07-15T12:42:30.330055Z",
     "shell.execute_reply.started": "2023-07-15T12:42:28.772303Z"
    }
   },
   "outputs": [],
   "source": [
    "response, history = model.chat(tokenizer, query=query, history=[])"
   ]
  },
  {
   "cell_type": "code",
   "execution_count": 42,
   "id": "df84fa08-b82b-436f-9c6a-6569afcd8b1a",
   "metadata": {
    "execution": {
     "iopub.execute_input": "2023-07-15T12:42:34.290143Z",
     "iopub.status.busy": "2023-07-15T12:42:34.289747Z",
     "iopub.status.idle": "2023-07-15T12:42:34.294559Z",
     "shell.execute_reply": "2023-07-15T12:42:34.293850Z",
     "shell.execute_reply.started": "2023-07-15T12:42:34.290111Z"
    }
   },
   "outputs": [
    {
     "data": {
      "text/plain": [
       "'Barrett食管的并发症包括胃食管反流病、食管出血、溃疡、食管穿孔等。需要及时就医治疗，避免并发症的发生。'"
      ]
     },
     "execution_count": 42,
     "metadata": {},
     "output_type": "execute_result"
    }
   ],
   "source": [
    "response"
   ]
  },
  {
   "cell_type": "code",
   "execution_count": 50,
   "id": "a1c806bb-5da0-4db1-b886-5495930544a0",
   "metadata": {
    "execution": {
     "iopub.execute_input": "2023-07-15T12:45:55.937786Z",
     "iopub.status.busy": "2023-07-15T12:45:55.937392Z",
     "iopub.status.idle": "2023-07-15T12:45:55.947362Z",
     "shell.execute_reply": "2023-07-15T12:45:55.946851Z",
     "shell.execute_reply.started": "2023-07-15T12:45:55.937761Z"
    }
   },
   "outputs": [],
   "source": [
    "datasets = load_from_disk(dataset_path='data/Med_datasets.jsonl')"
   ]
  },
  {
   "cell_type": "code",
   "execution_count": 74,
   "id": "0fbeb4af-29bf-40eb-930c-f76104a1ea18",
   "metadata": {
    "ExecutionIndicator": {
     "show": true
    },
    "execution": {
     "iopub.execute_input": "2023-07-15T12:49:26.323943Z",
     "iopub.status.busy": "2023-07-15T12:49:26.323535Z",
     "iopub.status.idle": "2023-07-15T12:49:26.328290Z",
     "shell.execute_reply": "2023-07-15T12:49:26.327787Z",
     "shell.execute_reply.started": "2023-07-15T12:49:26.323915Z"
    },
    "tags": []
   },
   "outputs": [
    {
     "data": {
      "text/plain": [
       "{'context': '指令：下面是一个医学领域的问题，请根据你对医学领域的了解，严谨细致的回答，如果不清楚就回答不清楚，不许胡编乱造。\\n问题：患者孕14周，主诉右上腹部疼痛，伴随恶心、呕吐，BP 160/110 mmHg，体检腹肌紧张，有肝区压痛。请问可能患有什么疾病？\\n回答: ',\n",
       " 'target': '患者可能患有妊娠期高血压疾病引起的妊娠期肝血肿及破裂，需要进行B超检查、实验室检查等辅助检查，对症给予肝素、冻干人血浆等治疗方案。'}"
      ]
     },
     "execution_count": 74,
     "metadata": {},
     "output_type": "execute_result"
    }
   ],
   "source": [
    "datasets['train'][1]"
   ]
  },
  {
   "cell_type": "code",
   "execution_count": 75,
   "id": "89b0164a-03d7-4ad8-91d7-d440aac4fea2",
   "metadata": {
    "ExecutionIndicator": {
     "show": true
    },
    "execution": {
     "iopub.execute_input": "2023-07-15T12:49:32.134472Z",
     "iopub.status.busy": "2023-07-15T12:49:32.134088Z",
     "iopub.status.idle": "2023-07-15T12:49:32.137809Z",
     "shell.execute_reply": "2023-07-15T12:49:32.137270Z",
     "shell.execute_reply.started": "2023-07-15T12:49:32.134447Z"
    },
    "tags": []
   },
   "outputs": [],
   "source": [
    "query = datasets['train'][1]['context']"
   ]
  },
  {
   "cell_type": "code",
   "execution_count": 76,
   "id": "5fb273ac-06d1-48e7-a6d0-be701d669847",
   "metadata": {
    "execution": {
     "iopub.execute_input": "2023-07-15T12:49:32.656664Z",
     "iopub.status.busy": "2023-07-15T12:49:32.656075Z",
     "iopub.status.idle": "2023-07-15T12:49:32.660191Z",
     "shell.execute_reply": "2023-07-15T12:49:32.659618Z",
     "shell.execute_reply.started": "2023-07-15T12:49:32.656641Z"
    },
    "tags": []
   },
   "outputs": [
    {
     "data": {
      "text/plain": [
       "'指令：下面是一个医学领域的问题，请根据你对医学领域的了解，严谨细致的回答，如果不清楚就回答不清楚，不许胡编乱造。\\n问题：患者孕14周，主诉右上腹部疼痛，伴随恶心、呕吐，BP 160/110 mmHg，体检腹肌紧张，有肝区压痛。请问可能患有什么疾病？\\n回答: '"
      ]
     },
     "execution_count": 76,
     "metadata": {},
     "output_type": "execute_result"
    }
   ],
   "source": [
    "query"
   ]
  },
  {
   "cell_type": "code",
   "execution_count": 77,
   "id": "1dbca522-8f2d-4dec-8488-804b847cc70d",
   "metadata": {
    "execution": {
     "iopub.execute_input": "2023-07-15T12:49:35.304832Z",
     "iopub.status.busy": "2023-07-15T12:49:35.304135Z",
     "iopub.status.idle": "2023-07-15T12:49:37.235590Z",
     "shell.execute_reply": "2023-07-15T12:49:37.234672Z",
     "shell.execute_reply.started": "2023-07-15T12:49:35.304808Z"
    },
    "tags": []
   },
   "outputs": [],
   "source": [
    "response, history = model.chat(tokenizer, query=query, history=[])"
   ]
  },
  {
   "cell_type": "code",
   "execution_count": 78,
   "id": "4b9dedb2-7836-4c76-985d-82ec730590bd",
   "metadata": {
    "execution": {
     "iopub.execute_input": "2023-07-15T12:49:37.889233Z",
     "iopub.status.busy": "2023-07-15T12:49:37.888662Z",
     "iopub.status.idle": "2023-07-15T12:49:37.893463Z",
     "shell.execute_reply": "2023-07-15T12:49:37.892783Z",
     "shell.execute_reply.started": "2023-07-15T12:49:37.889208Z"
    },
    "tags": []
   },
   "outputs": [
    {
     "data": {
      "text/plain": [
       "'可能是妊娠期高血压综合征。建议进行B超检查和胎盘功能检查，以确定诊断。治疗方案包括降压、利尿剂、抗高血压药物、维生素A等。'"
      ]
     },
     "execution_count": 78,
     "metadata": {},
     "output_type": "execute_result"
    }
   ],
   "source": [
    "response"
   ]
  },
  {
   "cell_type": "code",
   "execution_count": 81,
   "id": "29407bd7-0698-42aa-b676-8cb270245988",
   "metadata": {
    "ExecutionIndicator": {
     "show": true
    },
    "execution": {
     "iopub.execute_input": "2023-07-15T12:53:24.627422Z",
     "iopub.status.busy": "2023-07-15T12:53:24.626708Z",
     "iopub.status.idle": "2023-07-15T12:53:24.631107Z",
     "shell.execute_reply": "2023-07-15T12:53:24.630579Z",
     "shell.execute_reply.started": "2023-07-15T12:53:24.627396Z"
    },
    "tags": []
   },
   "outputs": [
    {
     "data": {
      "text/plain": [
       "'LoraAdapter'"
      ]
     },
     "execution_count": 81,
     "metadata": {},
     "output_type": "execute_result"
    }
   ],
   "source": [
    "model.active_adapter"
   ]
  },
  {
   "cell_type": "code",
   "execution_count": 103,
   "id": "bd836de0-8713-4c16-ac84-0bb8a64d8ee0",
   "metadata": {
    "ExecutionIndicator": {
     "show": true
    },
    "execution": {
     "iopub.execute_input": "2023-07-15T13:05:36.736863Z",
     "iopub.status.busy": "2023-07-15T13:05:36.736172Z",
     "iopub.status.idle": "2023-07-15T13:05:36.741048Z",
     "shell.execute_reply": "2023-07-15T13:05:36.740410Z",
     "shell.execute_reply.started": "2023-07-15T13:05:36.736835Z"
    },
    "tags": []
   },
   "outputs": [
    {
     "data": {
      "text/plain": [
       "False"
      ]
     },
     "execution_count": 103,
     "metadata": {},
     "output_type": "execute_result"
    }
   ],
   "source": [
    "model.base_model.model.transformer.encoder.layers[0].self_attention.query_key_value.disable_adapters"
   ]
  },
  {
   "cell_type": "code",
   "execution_count": null,
   "id": "0866956a-d20e-4aa4-b500-a822cfb98aaa",
   "metadata": {},
   "outputs": [],
   "source": [
    "model.disable_adapter_layers()"
   ]
  },
  {
   "cell_type": "code",
   "execution_count": null,
   "id": "7b0692a4-1903-48c1-af61-49d6d9147f81",
   "metadata": {},
   "outputs": [],
   "source": []
  }
 ],
 "metadata": {
  "kernelspec": {
   "display_name": "llm",
   "language": "python",
   "name": "llm"
  },
  "language_info": {
   "codemirror_mode": {
    "name": "ipython",
    "version": 3
   },
   "file_extension": ".py",
   "mimetype": "text/x-python",
   "name": "python",
   "nbconvert_exporter": "python",
   "pygments_lexer": "ipython3",
   "version": "3.11.3"
  }
 },
 "nbformat": 4,
 "nbformat_minor": 5
}
