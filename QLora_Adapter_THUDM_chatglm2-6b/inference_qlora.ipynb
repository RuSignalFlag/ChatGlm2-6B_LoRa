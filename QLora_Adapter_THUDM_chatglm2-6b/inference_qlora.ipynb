{
 "cells": [
  {
   "cell_type": "code",
   "execution_count": 1,
   "id": "5d1895e9-75aa-47a1-a7c3-732d583e09f1",
   "metadata": {
    "ExecutionIndicator": {
     "show": false
    },
    "execution": {
     "iopub.status.idle": "2023-07-16T07:49:32.065924Z",
     "shell.execute_reply": "2023-07-16T07:49:32.065328Z",
     "shell.execute_reply.started": "2023-07-16T07:49:26.193661Z"
    },
    "tags": []
   },
   "outputs": [],
   "source": [
    "from transformers import AutoModel, AutoTokenizer, BitsAndBytesConfig\n",
    "import torch\n",
    "from peft import  PeftModelForCausalLM\n",
    "from datasets import load_from_disk"
   ]
  },
  {
   "cell_type": "code",
   "execution_count": 2,
   "id": "2ef578d6-79ff-4e76-847e-cff7a98b77ad",
   "metadata": {
    "ExecutionIndicator": {
     "show": true
    },
    "execution": {
     "iopub.execute_input": "2023-07-16T07:49:38.914533Z",
     "iopub.status.busy": "2023-07-16T07:49:38.913658Z",
     "iopub.status.idle": "2023-07-16T07:49:38.918675Z",
     "shell.execute_reply": "2023-07-16T07:49:38.918079Z",
     "shell.execute_reply.started": "2023-07-16T07:49:38.914497Z"
    },
    "tags": []
   },
   "outputs": [],
   "source": [
    "quantization_config = BitsAndBytesConfig(\n",
    "    load_in_4bit=True,\n",
    "    bnb_4bit_quant_type='nf4',\n",
    "    bnb_4bit_compute_dtype=torch.float32\n",
    ")"
   ]
  },
  {
   "cell_type": "code",
   "execution_count": 3,
   "id": "f929a68c-1419-4f47-aa81-fea9ae00e778",
   "metadata": {
    "ExecutionIndicator": {
     "show": true
    },
    "execution": {
     "iopub.execute_input": "2023-07-16T07:50:04.611284Z",
     "iopub.status.busy": "2023-07-16T07:50:04.610917Z",
     "iopub.status.idle": "2023-07-16T07:51:34.942638Z",
     "shell.execute_reply": "2023-07-16T07:51:34.941968Z",
     "shell.execute_reply.started": "2023-07-16T07:50:04.611257Z"
    },
    "tags": []
   },
   "outputs": [
    {
     "name": "stderr",
     "output_type": "stream",
     "text": [
      "A new version of the following files was downloaded from https://huggingface.co/THUDM/chatglm2-6b:\n",
      "- configuration_chatglm.py\n",
      ". Make sure to double-check they do not contain any added malicious code. To avoid downloading new versions of the code file, you can pin a revision.\n",
      "Downloading (…)/modeling_chatglm.py: 100%|██████████| 50.7k/50.7k [00:00<00:00, 319kB/s]\n",
      "A new version of the following files was downloaded from https://huggingface.co/THUDM/chatglm2-6b:\n",
      "- quantization.py\n",
      ". Make sure to double-check they do not contain any added malicious code. To avoid downloading new versions of the code file, you can pin a revision.\n",
      "A new version of the following files was downloaded from https://huggingface.co/THUDM/chatglm2-6b:\n",
      "- modeling_chatglm.py\n",
      "- quantization.py\n",
      ". Make sure to double-check they do not contain any added malicious code. To avoid downloading new versions of the code file, you can pin a revision.\n",
      "Downloading shards: 100%|██████████| 7/7 [00:03<00:00,  1.85it/s]\n",
      "The model weights are not tied. Please use the `tie_weights` method before using the `infer_auto_device` function.\n",
      "Loading checkpoint shards: 100%|██████████| 7/7 [01:09<00:00,  9.98s/it]\n"
     ]
    }
   ],
   "source": [
    "base_model = AutoModel.from_pretrained('THUDM/chatglm2-6b', trust_remote_code=True, device_map='auto', quantization_config=quantization_config)"
   ]
  },
  {
   "cell_type": "code",
   "execution_count": 4,
   "id": "0d6fb4b9-1403-463d-b737-1c1715d96106",
   "metadata": {
    "execution": {
     "iopub.execute_input": "2023-07-16T07:51:39.990789Z",
     "iopub.status.busy": "2023-07-16T07:51:39.990253Z",
     "iopub.status.idle": "2023-07-16T07:51:39.998499Z",
     "shell.execute_reply": "2023-07-16T07:51:39.997956Z",
     "shell.execute_reply.started": "2023-07-16T07:51:39.990761Z"
    },
    "tags": []
   },
   "outputs": [
    {
     "data": {
      "text/plain": [
       "ChatGLMForConditionalGeneration(\n",
       "  (transformer): ChatGLMModel(\n",
       "    (embedding): Embedding(\n",
       "      (word_embeddings): Embedding(65024, 4096)\n",
       "    )\n",
       "    (rotary_pos_emb): RotaryEmbedding()\n",
       "    (encoder): GLMTransformer(\n",
       "      (layers): ModuleList(\n",
       "        (0-27): 28 x GLMBlock(\n",
       "          (input_layernorm): RMSNorm()\n",
       "          (self_attention): SelfAttention(\n",
       "            (query_key_value): Linear4bit(in_features=4096, out_features=4608, bias=True)\n",
       "            (core_attention): CoreAttention(\n",
       "              (attention_dropout): Dropout(p=0.0, inplace=False)\n",
       "            )\n",
       "            (dense): Linear4bit(in_features=4096, out_features=4096, bias=False)\n",
       "          )\n",
       "          (post_attention_layernorm): RMSNorm()\n",
       "          (mlp): MLP(\n",
       "            (dense_h_to_4h): Linear4bit(in_features=4096, out_features=27392, bias=False)\n",
       "            (dense_4h_to_h): Linear4bit(in_features=13696, out_features=4096, bias=False)\n",
       "          )\n",
       "        )\n",
       "      )\n",
       "      (final_layernorm): RMSNorm()\n",
       "    )\n",
       "    (output_layer): Linear(in_features=4096, out_features=65024, bias=False)\n",
       "  )\n",
       ")"
      ]
     },
     "execution_count": 4,
     "metadata": {},
     "output_type": "execute_result"
    }
   ],
   "source": [
    "base_model"
   ]
  },
  {
   "cell_type": "code",
   "execution_count": 5,
   "id": "85e05fee-b56d-4ff9-86ac-c5b94ef3fb0e",
   "metadata": {
    "execution": {
     "iopub.execute_input": "2023-07-16T07:51:46.312901Z",
     "iopub.status.busy": "2023-07-16T07:51:46.312527Z",
     "iopub.status.idle": "2023-07-16T07:51:48.299733Z",
     "shell.execute_reply": "2023-07-16T07:51:48.298911Z",
     "shell.execute_reply.started": "2023-07-16T07:51:46.312874Z"
    },
    "tags": []
   },
   "outputs": [
    {
     "name": "stderr",
     "output_type": "stream",
     "text": [
      "Downloading (…)enization_chatglm.py: 100%|██████████| 10.0k/10.0k [00:00<00:00, 40.3MB/s]\n",
      "A new version of the following files was downloaded from https://huggingface.co/THUDM/chatglm2-6b:\n",
      "- tokenization_chatglm.py\n",
      ". Make sure to double-check they do not contain any added malicious code. To avoid downloading new versions of the code file, you can pin a revision.\n"
     ]
    }
   ],
   "source": [
    "tokenizer = AutoTokenizer.from_pretrained('THUDM/chatglm2-6b', trust_remote_code=True)"
   ]
  },
  {
   "cell_type": "code",
   "execution_count": 6,
   "id": "3bc19b57-9986-4fde-8ecc-bcfdf1f6b4af",
   "metadata": {
    "execution": {
     "iopub.execute_input": "2023-07-15T13:13:42.934875Z",
     "iopub.status.busy": "2023-07-15T13:13:42.934484Z",
     "iopub.status.idle": "2023-07-15T13:13:42.941989Z",
     "shell.execute_reply": "2023-07-15T13:13:42.941404Z",
     "shell.execute_reply.started": "2023-07-15T13:13:42.934848Z"
    },
    "tags": []
   },
   "outputs": [
    {
     "data": {
      "text/plain": [
       "ChatGLMForConditionalGeneration(\n",
       "  (transformer): ChatGLMModel(\n",
       "    (embedding): Embedding(\n",
       "      (word_embeddings): Embedding(65024, 4096)\n",
       "    )\n",
       "    (rotary_pos_emb): RotaryEmbedding()\n",
       "    (encoder): GLMTransformer(\n",
       "      (layers): ModuleList(\n",
       "        (0-27): 28 x GLMBlock(\n",
       "          (input_layernorm): RMSNorm()\n",
       "          (self_attention): SelfAttention(\n",
       "            (query_key_value): Linear4bit(in_features=4096, out_features=4608, bias=True)\n",
       "            (core_attention): CoreAttention(\n",
       "              (attention_dropout): Dropout(p=0.0, inplace=False)\n",
       "            )\n",
       "            (dense): Linear4bit(in_features=4096, out_features=4096, bias=False)\n",
       "          )\n",
       "          (post_attention_layernorm): RMSNorm()\n",
       "          (mlp): MLP(\n",
       "            (dense_h_to_4h): Linear4bit(in_features=4096, out_features=27392, bias=False)\n",
       "            (dense_4h_to_h): Linear4bit(in_features=13696, out_features=4096, bias=False)\n",
       "          )\n",
       "        )\n",
       "      )\n",
       "      (final_layernorm): RMSNorm()\n",
       "    )\n",
       "    (output_layer): Linear(in_features=4096, out_features=65024, bias=False)\n",
       "  )\n",
       ")"
      ]
     },
     "execution_count": 6,
     "metadata": {},
     "output_type": "execute_result"
    }
   ],
   "source": [
    "base_model.eval()"
   ]
  },
  {
   "cell_type": "code",
   "execution_count": 13,
   "id": "621d4a2e-ae27-4493-b909-a018e9f406a0",
   "metadata": {
    "execution": {
     "iopub.execute_input": "2023-07-16T07:59:06.117237Z",
     "iopub.status.busy": "2023-07-16T07:59:06.116689Z",
     "iopub.status.idle": "2023-07-16T07:59:06.140900Z",
     "shell.execute_reply": "2023-07-16T07:59:06.140337Z",
     "shell.execute_reply.started": "2023-07-16T07:59:06.117214Z"
    }
   },
   "outputs": [],
   "source": [
    "datasets = load_from_disk(dataset_path='data/Med_datasets.jsonl')"
   ]
  },
  {
   "cell_type": "markdown",
   "id": "86593440-5bac-4e1d-be07-c9984ce7d92a",
   "metadata": {
    "tags": []
   },
   "source": [
    "# quantize model and no lora"
   ]
  },
  {
   "cell_type": "markdown",
   "id": "5fca5960-ac63-4842-870c-44675a34a6ac",
   "metadata": {
    "tags": []
   },
   "source": [
    "## generally QA "
   ]
  },
  {
   "cell_type": "code",
   "execution_count": 6,
   "id": "ba610209-cc1a-4211-96ca-2a11b926ecdc",
   "metadata": {
    "ExecutionIndicator": {
     "show": true
    },
    "execution": {
     "iopub.execute_input": "2023-07-16T07:52:58.123643Z",
     "iopub.status.busy": "2023-07-16T07:52:58.123066Z",
     "iopub.status.idle": "2023-07-16T07:53:13.263837Z",
     "shell.execute_reply": "2023-07-16T07:53:13.263032Z",
     "shell.execute_reply.started": "2023-07-16T07:52:58.123615Z"
    },
    "tags": []
   },
   "outputs": [],
   "source": [
    "response, history = base_model.chat(tokenizer, '输出一份黄山旅游的计划', history=[])"
   ]
  },
  {
   "cell_type": "code",
   "execution_count": 7,
   "id": "d8386574-c2c3-43d3-86dc-1468f871fc65",
   "metadata": {
    "execution": {
     "iopub.execute_input": "2023-07-16T07:53:37.762259Z",
     "iopub.status.busy": "2023-07-16T07:53:37.761601Z",
     "iopub.status.idle": "2023-07-16T07:53:37.766388Z",
     "shell.execute_reply": "2023-07-16T07:53:37.765701Z",
     "shell.execute_reply.started": "2023-07-16T07:53:37.762230Z"
    },
    "tags": []
   },
   "outputs": [
    {
     "data": {
      "text/plain": [
       "'以下是一份黄山旅游计划:\\n\\n第一天:\\n到达黄山市,住宿在黄山市区。可以先游览黄山市政府广场和黄山市博物馆,了解黄山市的旅游文化和历史。\\n\\n第二天:\\n前往黄山市区的黄山风景区,乘坐缆车上山。可以游览西海大峡谷、天都峰等著名景点,欣赏美丽的山景。建议早上早早起床,因为黄山的日出非常美丽。\\n\\n第三天:\\n前往黄山市区的黄山市博物馆,了解黄山市的生态环境和旅游发展情况。下午前往黄山市区的黄山风景区,游览黄山谷、光明顶等景点。可以乘坐缆车前往光明顶,欣赏山顶的景色。\\n\\n第四天:\\n前往黄山市的徽州区,游览徽州古城、潜口民宅等景点。可以品尝当地的美食和徽州的特色茶。\\n\\n第五天:\\n前往黄山市的黄山区,游览黄山区的景点,如齐云山、黄山区古镇等。\\n\\n第六天:\\n在黄山市区游览,可以参观黄山市博物馆、安徽省博物馆等文化景点。\\n\\n第七天:\\n乘坐高铁离开黄山市,返回原地。\\n\\n以上是一份黄山旅游计划,可以根据自己的时间和需求进行适当的调整。希望这份计划能有所帮助!'"
      ]
     },
     "execution_count": 7,
     "metadata": {},
     "output_type": "execute_result"
    }
   ],
   "source": [
    "response"
   ]
  },
  {
   "cell_type": "code",
   "execution_count": 8,
   "id": "6da6b80b-dfd7-4b35-98e2-1bbb8699e5f8",
   "metadata": {
    "execution": {
     "iopub.execute_input": "2023-07-16T07:54:20.693439Z",
     "iopub.status.busy": "2023-07-16T07:54:20.692841Z",
     "iopub.status.idle": "2023-07-16T07:54:28.411670Z",
     "shell.execute_reply": "2023-07-16T07:54:28.411002Z",
     "shell.execute_reply.started": "2023-07-16T07:54:20.693413Z"
    }
   },
   "outputs": [],
   "source": [
    "response, history = base_model.chat(tokenizer, '大众汽车怎么样?', history=[])"
   ]
  },
  {
   "cell_type": "code",
   "execution_count": 9,
   "id": "75dbb7cd-11be-41ad-a856-a897a890535f",
   "metadata": {
    "execution": {
     "iopub.execute_input": "2023-07-16T07:54:30.625842Z",
     "iopub.status.busy": "2023-07-16T07:54:30.625451Z",
     "iopub.status.idle": "2023-07-16T07:54:30.630661Z",
     "shell.execute_reply": "2023-07-16T07:54:30.629832Z",
     "shell.execute_reply.started": "2023-07-16T07:54:30.625819Z"
    }
   },
   "outputs": [
    {
     "data": {
      "text/plain": [
       "'作为一家全球知名的汽车制造商,大众汽车在汽车制造技术、汽车安全性、可靠性以及汽车性能等方面都有着较高的声誉。大众汽车集团旗下拥有众多品牌,包括大众、斯柯达、西雅特、保时捷等,涵盖了轿车、SUV、MPV、新能源汽车、卡车等多个细分市场。\\n\\n近年来,大众汽车在电动汽车领域取得了较大的进展,推出了许多电动车型,如ID.4 crossover、E-Golf等,并计划在未来推出更多电动汽车。此外,大众汽车也在自动驾驶技术、车联网等方面进行投入和研发。\\n\\n当然,每个消费者对于汽车的需求和口味都不同,具体是否适合购买大众汽车还需要根据自己的实际需求和考虑做出判断。'"
      ]
     },
     "execution_count": 9,
     "metadata": {},
     "output_type": "execute_result"
    }
   ],
   "source": [
    "response"
   ]
  },
  {
   "cell_type": "code",
   "execution_count": 10,
   "id": "d5ce57f2-c0f0-45cb-a364-abe331f0b658",
   "metadata": {
    "execution": {
     "iopub.execute_input": "2023-07-16T07:55:24.066595Z",
     "iopub.status.busy": "2023-07-16T07:55:24.065916Z",
     "iopub.status.idle": "2023-07-16T07:55:33.217730Z",
     "shell.execute_reply": "2023-07-16T07:55:33.217090Z",
     "shell.execute_reply.started": "2023-07-16T07:55:24.066570Z"
    }
   },
   "outputs": [],
   "source": [
    "response, history = base_model.chat(tokenizer, '下雨天骑电瓶车有哪些需要注意的问题?', history=[])"
   ]
  },
  {
   "cell_type": "code",
   "execution_count": 12,
   "id": "41b87545-341c-4bca-b7da-28e5e100dc5a",
   "metadata": {
    "execution": {
     "iopub.execute_input": "2023-07-16T07:56:15.389611Z",
     "iopub.status.busy": "2023-07-16T07:56:15.389224Z",
     "iopub.status.idle": "2023-07-16T07:56:15.393865Z",
     "shell.execute_reply": "2023-07-16T07:56:15.393295Z",
     "shell.execute_reply.started": "2023-07-16T07:56:15.389586Z"
    },
    "tags": []
   },
   "outputs": [
    {
     "data": {
      "text/plain": [
       "'下雨天骑电瓶车需要注意以下问题:\\n\\n1. 防水:雨天骑电瓶车,需要做好防水处理,可以考虑在电机、车把、座垫等部位加防水罩,避免电机受潮、电路板受潮等问题。\\n\\n2. 防滑:雨天路面湿滑,需要加挂防滑链或者请有经验的骑手驾驶,以免滑行造成危险。\\n\\n3. 减速慢行:雨天路面湿滑,摩擦力减小,需要减速慢行,以免发生滑倒等意外事故。\\n\\n4. 避免涉水:遇到雨势较大的时候,需要避免电瓶车涉水,以免造成电机、电路等的损坏。\\n\\n5. 及时充电:在雨天行驶中,需要时刻关注电瓶电量,及时充电,以免因电量不足导致电动车无法行驶。\\n\\n6. 注意安全:雨天行驶中,需要时刻注意周围的环境,尤其是路况和交通情况,确保自己的安全。'"
      ]
     },
     "execution_count": 12,
     "metadata": {},
     "output_type": "execute_result"
    }
   ],
   "source": [
    "response"
   ]
  },
  {
   "cell_type": "markdown",
   "id": "be705da5-30de-4e86-9eef-717697583dff",
   "metadata": {
    "tags": []
   },
   "source": [
    "## Med QA"
   ]
  },
  {
   "cell_type": "code",
   "execution_count": 14,
   "id": "0fbeb4af-29bf-40eb-930c-f76104a1ea18",
   "metadata": {
    "ExecutionIndicator": {
     "show": true
    },
    "execution": {
     "iopub.execute_input": "2023-07-16T07:59:14.558617Z",
     "iopub.status.busy": "2023-07-16T07:59:14.558040Z",
     "iopub.status.idle": "2023-07-16T07:59:14.565624Z",
     "shell.execute_reply": "2023-07-16T07:59:14.564907Z",
     "shell.execute_reply.started": "2023-07-16T07:59:14.558589Z"
    },
    "tags": []
   },
   "outputs": [
    {
     "data": {
      "text/plain": [
       "{'context': '指令：下面是一个医学领域的问题，请根据你对医学领域的了解，严谨细致的回答，如果不清楚就回答不清楚，不许胡编乱造。\\n问题：患者孕14周，主诉右上腹部疼痛，伴随恶心、呕吐，BP 160/110 mmHg，体检腹肌紧张，有肝区压痛。请问可能患有什么疾病？\\n回答: ',\n",
       " 'target': '患者可能患有妊娠期高血压疾病引起的妊娠期肝血肿及破裂，需要进行B超检查、实验室检查等辅助检查，对症给予肝素、冻干人血浆等治疗方案。'}"
      ]
     },
     "execution_count": 14,
     "metadata": {},
     "output_type": "execute_result"
    }
   ],
   "source": [
    "datasets['train'][1]"
   ]
  },
  {
   "cell_type": "code",
   "execution_count": 23,
   "id": "89b0164a-03d7-4ad8-91d7-d440aac4fea2",
   "metadata": {
    "ExecutionIndicator": {
     "show": true
    },
    "execution": {
     "iopub.execute_input": "2023-07-16T08:01:18.293727Z",
     "iopub.status.busy": "2023-07-16T08:01:18.292938Z",
     "iopub.status.idle": "2023-07-16T08:01:18.297591Z",
     "shell.execute_reply": "2023-07-16T08:01:18.296847Z",
     "shell.execute_reply.started": "2023-07-16T08:01:18.293690Z"
    },
    "tags": []
   },
   "outputs": [],
   "source": [
    "query1 = datasets['train'][1]['context']"
   ]
  },
  {
   "cell_type": "code",
   "execution_count": 24,
   "id": "5fb273ac-06d1-48e7-a6d0-be701d669847",
   "metadata": {
    "ExecutionIndicator": {
     "show": true
    },
    "execution": {
     "iopub.execute_input": "2023-07-16T08:01:18.872346Z",
     "iopub.status.busy": "2023-07-16T08:01:18.871795Z",
     "iopub.status.idle": "2023-07-16T08:01:18.875882Z",
     "shell.execute_reply": "2023-07-16T08:01:18.875055Z",
     "shell.execute_reply.started": "2023-07-16T08:01:18.872303Z"
    },
    "tags": []
   },
   "outputs": [],
   "source": [
    "target1 = datasets['train'][1]['target']"
   ]
  },
  {
   "cell_type": "code",
   "execution_count": 25,
   "id": "2c028560-91c2-4bca-89a3-6c30f75fa24d",
   "metadata": {
    "ExecutionIndicator": {
     "show": true
    },
    "execution": {
     "iopub.execute_input": "2023-07-16T08:01:19.442998Z",
     "iopub.status.busy": "2023-07-16T08:01:19.442465Z",
     "iopub.status.idle": "2023-07-16T08:01:19.446812Z",
     "shell.execute_reply": "2023-07-16T08:01:19.446256Z",
     "shell.execute_reply.started": "2023-07-16T08:01:19.442975Z"
    },
    "tags": []
   },
   "outputs": [
    {
     "data": {
      "text/plain": [
       "'指令：下面是一个医学领域的问题，请根据你对医学领域的了解，严谨细致的回答，如果不清楚就回答不清楚，不许胡编乱造。\\n问题：患者孕14周，主诉右上腹部疼痛，伴随恶心、呕吐，BP 160/110 mmHg，体检腹肌紧张，有肝区压痛。请问可能患有什么疾病？\\n回答: '"
      ]
     },
     "execution_count": 25,
     "metadata": {},
     "output_type": "execute_result"
    }
   ],
   "source": [
    "query1"
   ]
  },
  {
   "cell_type": "code",
   "execution_count": 26,
   "id": "09021369-6d64-45a3-a454-8bc8caf8912c",
   "metadata": {
    "ExecutionIndicator": {
     "show": true
    },
    "execution": {
     "iopub.execute_input": "2023-07-16T08:01:20.016743Z",
     "iopub.status.busy": "2023-07-16T08:01:20.016069Z",
     "iopub.status.idle": "2023-07-16T08:01:20.020784Z",
     "shell.execute_reply": "2023-07-16T08:01:20.020062Z",
     "shell.execute_reply.started": "2023-07-16T08:01:20.016717Z"
    },
    "tags": []
   },
   "outputs": [
    {
     "data": {
      "text/plain": [
       "'患者可能患有妊娠期高血压疾病引起的妊娠期肝血肿及破裂，需要进行B超检查、实验室检查等辅助检查，对症给予肝素、冻干人血浆等治疗方案。'"
      ]
     },
     "execution_count": 26,
     "metadata": {},
     "output_type": "execute_result"
    }
   ],
   "source": [
    "target1"
   ]
  },
  {
   "cell_type": "code",
   "execution_count": 27,
   "id": "1dbca522-8f2d-4dec-8488-804b847cc70d",
   "metadata": {
    "ExecutionIndicator": {
     "show": true
    },
    "execution": {
     "iopub.execute_input": "2023-07-16T08:01:20.532428Z",
     "iopub.status.busy": "2023-07-16T08:01:20.531853Z",
     "iopub.status.idle": "2023-07-16T08:01:26.776060Z",
     "shell.execute_reply": "2023-07-16T08:01:26.775426Z",
     "shell.execute_reply.started": "2023-07-16T08:01:20.532403Z"
    },
    "tags": []
   },
   "outputs": [],
   "source": [
    "response1, history = base_model.chat(tokenizer, query=query1, history=[])"
   ]
  },
  {
   "cell_type": "code",
   "execution_count": 28,
   "id": "4b9dedb2-7836-4c76-985d-82ec730590bd",
   "metadata": {
    "ExecutionIndicator": {
     "show": true
    },
    "execution": {
     "iopub.execute_input": "2023-07-16T08:01:28.601007Z",
     "iopub.status.busy": "2023-07-16T08:01:28.600613Z",
     "iopub.status.idle": "2023-07-16T08:01:28.605739Z",
     "shell.execute_reply": "2023-07-16T08:01:28.605015Z",
     "shell.execute_reply.started": "2023-07-16T08:01:28.600983Z"
    },
    "tags": []
   },
   "outputs": [
    {
     "data": {
      "text/plain": [
       "'根据病史和体检结果,患者可能患有妊娠期高血压疾病( pre-eclampsia,PE )。\\n\\nPE是一种妊娠并发症,其特征是高血压、蛋白尿和水肿,通常在怀孕20周后发生,但在孕24-28周达到高峰。患者的血压升高和肝区压痛也支持这一诊断。恶心、呕吐等症状可能与高血压引起的消化系统问题有关。\\n\\n其他可能的疾病包括肝疾病、胆囊炎、胃炎等,但这些疾病通常不会伴随妊娠期高血压的典型症状,因此可以排除。建议患者尽快到医院就诊,接受进一步的检查和治疗,包括 blood pressure monitoring, urine analysis, and imaging tests if necessary.'"
      ]
     },
     "execution_count": 28,
     "metadata": {},
     "output_type": "execute_result"
    }
   ],
   "source": [
    "response1"
   ]
  },
  {
   "cell_type": "code",
   "execution_count": 29,
   "id": "7b0692a4-1903-48c1-af61-49d6d9147f81",
   "metadata": {
    "execution": {
     "iopub.execute_input": "2023-07-16T08:02:03.927475Z",
     "iopub.status.busy": "2023-07-16T08:02:03.926882Z",
     "iopub.status.idle": "2023-07-16T08:02:03.932573Z",
     "shell.execute_reply": "2023-07-16T08:02:03.931815Z",
     "shell.execute_reply.started": "2023-07-16T08:02:03.927444Z"
    }
   },
   "outputs": [
    {
     "data": {
      "text/plain": [
       "{'context': '指令：下面是一个医学领域的问题，请根据你对医学领域的了解，严谨细致的回答，如果不清楚就回答不清楚，不许胡编乱造。\\n问题：小孙，男性，23岁，肌肤油腻，面部出现多处粉刺，想要彻底改善肤质，该怎么处理？\\n回答: ',\n",
       " 'target': '建议小孙注意面部皮肤的清洁卫生，睡前洗面，避免长时间接触手机和电脑，减少紫外线暴晒。同时，可采用多西环素、金霉素等口服抗生素消炎，也可以使用物理治疗方法，如光子嫩肤、超声刀、微针等，帮助去除粉刺并调整肌肤的水油平衡。'}"
      ]
     },
     "execution_count": 29,
     "metadata": {},
     "output_type": "execute_result"
    }
   ],
   "source": [
    "datasets['valid'][1]"
   ]
  },
  {
   "cell_type": "code",
   "execution_count": 30,
   "id": "321240dc-3987-4175-933b-cc6f36bd1fe0",
   "metadata": {
    "execution": {
     "iopub.execute_input": "2023-07-16T08:02:23.508009Z",
     "iopub.status.busy": "2023-07-16T08:02:23.507442Z",
     "iopub.status.idle": "2023-07-16T08:02:23.511341Z",
     "shell.execute_reply": "2023-07-16T08:02:23.510735Z",
     "shell.execute_reply.started": "2023-07-16T08:02:23.507984Z"
    }
   },
   "outputs": [],
   "source": [
    "query2 = datasets['valid'][1]['context']"
   ]
  },
  {
   "cell_type": "code",
   "execution_count": 31,
   "id": "38626d1b-b09b-4bc9-8f65-cf1a39bb3dfb",
   "metadata": {
    "execution": {
     "iopub.execute_input": "2023-07-16T08:02:38.843093Z",
     "iopub.status.busy": "2023-07-16T08:02:38.842535Z",
     "iopub.status.idle": "2023-07-16T08:02:38.847066Z",
     "shell.execute_reply": "2023-07-16T08:02:38.846110Z",
     "shell.execute_reply.started": "2023-07-16T08:02:38.843068Z"
    }
   },
   "outputs": [],
   "source": [
    "target2 = datasets['valid'][1]['target']"
   ]
  },
  {
   "cell_type": "code",
   "execution_count": 32,
   "id": "e5140996-5332-4a55-bab6-eb9e92ebd8cb",
   "metadata": {
    "execution": {
     "iopub.execute_input": "2023-07-16T08:02:42.218189Z",
     "iopub.status.busy": "2023-07-16T08:02:42.217634Z",
     "iopub.status.idle": "2023-07-16T08:02:42.222711Z",
     "shell.execute_reply": "2023-07-16T08:02:42.221939Z",
     "shell.execute_reply.started": "2023-07-16T08:02:42.218167Z"
    }
   },
   "outputs": [
    {
     "data": {
      "text/plain": [
       "'指令：下面是一个医学领域的问题，请根据你对医学领域的了解，严谨细致的回答，如果不清楚就回答不清楚，不许胡编乱造。\\n问题：小孙，男性，23岁，肌肤油腻，面部出现多处粉刺，想要彻底改善肤质，该怎么处理？\\n回答: '"
      ]
     },
     "execution_count": 32,
     "metadata": {},
     "output_type": "execute_result"
    }
   ],
   "source": [
    "query2"
   ]
  },
  {
   "cell_type": "code",
   "execution_count": 33,
   "id": "465b6f56-2f9b-411c-ac28-d20312bdc8ea",
   "metadata": {
    "execution": {
     "iopub.execute_input": "2023-07-16T08:02:48.233643Z",
     "iopub.status.busy": "2023-07-16T08:02:48.233082Z",
     "iopub.status.idle": "2023-07-16T08:02:48.237593Z",
     "shell.execute_reply": "2023-07-16T08:02:48.237021Z",
     "shell.execute_reply.started": "2023-07-16T08:02:48.233618Z"
    }
   },
   "outputs": [
    {
     "data": {
      "text/plain": [
       "'建议小孙注意面部皮肤的清洁卫生，睡前洗面，避免长时间接触手机和电脑，减少紫外线暴晒。同时，可采用多西环素、金霉素等口服抗生素消炎，也可以使用物理治疗方法，如光子嫩肤、超声刀、微针等，帮助去除粉刺并调整肌肤的水油平衡。'"
      ]
     },
     "execution_count": 33,
     "metadata": {},
     "output_type": "execute_result"
    }
   ],
   "source": [
    "target2"
   ]
  },
  {
   "cell_type": "code",
   "execution_count": 34,
   "id": "127fc887-c2d5-4239-83ad-e21a2725da51",
   "metadata": {
    "execution": {
     "iopub.execute_input": "2023-07-16T08:03:22.567303Z",
     "iopub.status.busy": "2023-07-16T08:03:22.566744Z",
     "iopub.status.idle": "2023-07-16T08:03:34.522835Z",
     "shell.execute_reply": "2023-07-16T08:03:34.522176Z",
     "shell.execute_reply.started": "2023-07-16T08:03:22.567276Z"
    }
   },
   "outputs": [],
   "source": [
    "response2, history = base_model.chat(tokenizer, query=query2, history=[])"
   ]
  },
  {
   "cell_type": "code",
   "execution_count": 35,
   "id": "371042e9-5bed-4aeb-a046-8db630f4419d",
   "metadata": {
    "execution": {
     "iopub.execute_input": "2023-07-16T08:05:20.556399Z",
     "iopub.status.busy": "2023-07-16T08:05:20.555848Z",
     "iopub.status.idle": "2023-07-16T08:05:20.560980Z",
     "shell.execute_reply": "2023-07-16T08:05:20.560215Z",
     "shell.execute_reply.started": "2023-07-16T08:05:20.556376Z"
    }
   },
   "outputs": [
    {
     "data": {
      "text/plain": [
       "'根据小孙的描述，他可能患有痤疮，这是一种常见的皮肤疾病，通常在青春期时发生，但也可能在成年时期出现。痤疮的发生与皮肤油脂分泌过多、阻塞毛孔、细菌感染等因素有关。\\n\\n以下是一些可能有助于改善小孙肤质的方法:\\n\\n1. 温和清洁：小孙应该每天用温和的洁面产品轻轻地清洗面部，以减少皮肤油脂和污垢的积累。\\n\\n2. 保持皮肤清洁：使用温和的保湿产品，保持皮肤干燥，这有助于减少皮肤油脂的分泌。\\n\\n3. 避免摸脸：避免经常触摸面部，因为手指上的细菌可能会传到脸上，引起痤疮。\\n\\n4. 饮食健康：小孙应该避免摄入高糖、高脂肪、高盐、高咖啡因等不健康的食物，多摄取富含维生素和蛋白质的食物，如水果、蔬菜、鱼类等。\\n\\n5. 注意休息：保持良好的作息时间，避免过度疲劳，有利于改善皮肤状况。\\n\\n6. 使用外用药物：根据医生的建议，小孙可以考虑使用外用药物，如含有水杨酸、苯甲酸等成分的外用药物，有助于缓解痤疮的症状。\\n\\n请注意，以上回答仅供参考，如果小孙的病情较为严重，建议尽快就医，寻求专业医生的帮助。'"
      ]
     },
     "execution_count": 35,
     "metadata": {},
     "output_type": "execute_result"
    }
   ],
   "source": [
    "response2"
   ]
  },
  {
   "cell_type": "markdown",
   "id": "884fe8f5-3234-4795-966f-ab1a93a1252a",
   "metadata": {
    "tags": []
   },
   "source": [
    "# quantize model and lora adapter "
   ]
  },
  {
   "cell_type": "markdown",
   "id": "d2fcb1d7-1a34-49d5-a925-06bb884fb7b8",
   "metadata": {
    "tags": []
   },
   "source": [
    "## Med QA "
   ]
  },
  {
   "cell_type": "code",
   "execution_count": 36,
   "id": "3714808a-1456-411c-a6c4-43a59218f3e3",
   "metadata": {
    "execution": {
     "iopub.execute_input": "2023-07-16T08:07:02.737092Z",
     "iopub.status.busy": "2023-07-16T08:07:02.736700Z",
     "iopub.status.idle": "2023-07-16T08:07:07.484585Z",
     "shell.execute_reply": "2023-07-16T08:07:07.483958Z",
     "shell.execute_reply.started": "2023-07-16T08:07:02.737068Z"
    }
   },
   "outputs": [],
   "source": [
    "lora_model = PeftModelForCausalLM.from_pretrained(base_model, 'Lora_Adapter_THUDM_chatglm2-6b/finally_adapter/LoraAdapter')"
   ]
  },
  {
   "cell_type": "code",
   "execution_count": 37,
   "id": "2d183d8a-7359-4c6e-b17b-5b2830ff7117",
   "metadata": {
    "execution": {
     "iopub.execute_input": "2023-07-16T08:07:13.699927Z",
     "iopub.status.busy": "2023-07-16T08:07:13.699550Z",
     "iopub.status.idle": "2023-07-16T08:07:13.707062Z",
     "shell.execute_reply": "2023-07-16T08:07:13.706508Z",
     "shell.execute_reply.started": "2023-07-16T08:07:13.699903Z"
    }
   },
   "outputs": [
    {
     "data": {
      "text/plain": [
       "PeftModelForCausalLM(\n",
       "  (base_model): LoraModel(\n",
       "    (model): ChatGLMForConditionalGeneration(\n",
       "      (transformer): ChatGLMModel(\n",
       "        (embedding): Embedding(\n",
       "          (word_embeddings): Embedding(65024, 4096)\n",
       "        )\n",
       "        (rotary_pos_emb): RotaryEmbedding()\n",
       "        (encoder): GLMTransformer(\n",
       "          (layers): ModuleList(\n",
       "            (0-27): 28 x GLMBlock(\n",
       "              (input_layernorm): RMSNorm()\n",
       "              (self_attention): SelfAttention(\n",
       "                (query_key_value): Linear4bit(\n",
       "                  in_features=4096, out_features=4608, bias=True\n",
       "                  (lora_dropout): ModuleDict(\n",
       "                    (default): Dropout(p=0.05, inplace=False)\n",
       "                  )\n",
       "                  (lora_A): ModuleDict(\n",
       "                    (default): Linear(in_features=4096, out_features=12, bias=False)\n",
       "                  )\n",
       "                  (lora_B): ModuleDict(\n",
       "                    (default): Linear(in_features=12, out_features=4608, bias=False)\n",
       "                  )\n",
       "                  (lora_embedding_A): ParameterDict()\n",
       "                  (lora_embedding_B): ParameterDict()\n",
       "                )\n",
       "                (core_attention): CoreAttention(\n",
       "                  (attention_dropout): Dropout(p=0.0, inplace=False)\n",
       "                )\n",
       "                (dense): Linear4bit(in_features=4096, out_features=4096, bias=False)\n",
       "              )\n",
       "              (post_attention_layernorm): RMSNorm()\n",
       "              (mlp): MLP(\n",
       "                (dense_h_to_4h): Linear4bit(in_features=4096, out_features=27392, bias=False)\n",
       "                (dense_4h_to_h): Linear4bit(in_features=13696, out_features=4096, bias=False)\n",
       "              )\n",
       "            )\n",
       "          )\n",
       "          (final_layernorm): RMSNorm()\n",
       "        )\n",
       "        (output_layer): Linear(in_features=4096, out_features=65024, bias=False)\n",
       "      )\n",
       "    )\n",
       "  )\n",
       ")"
      ]
     },
     "execution_count": 37,
     "metadata": {},
     "output_type": "execute_result"
    }
   ],
   "source": [
    "lora_model"
   ]
  },
  {
   "cell_type": "code",
   "execution_count": 38,
   "id": "5b221cd9-36ed-4128-bbb6-0f67b9461b8e",
   "metadata": {
    "execution": {
     "iopub.execute_input": "2023-07-16T08:07:29.156596Z",
     "iopub.status.busy": "2023-07-16T08:07:29.155904Z",
     "iopub.status.idle": "2023-07-16T08:07:29.160768Z",
     "shell.execute_reply": "2023-07-16T08:07:29.160107Z",
     "shell.execute_reply.started": "2023-07-16T08:07:29.156572Z"
    }
   },
   "outputs": [
    {
     "data": {
      "text/plain": [
       "{'default': LoraConfig(peft_type='LORA', base_model_name_or_path='THUDM/chatglm2-6b', revision=None, task_type='CAUSAL_LM', inference_mode=True, r=12, target_modules=['query_key_value'], lora_alpha=24, lora_dropout=0.05, fan_in_fan_out=False, bias='none', modules_to_save=None, init_lora_weights=True, layers_to_transform=None, layers_pattern=None)}"
      ]
     },
     "execution_count": 38,
     "metadata": {},
     "output_type": "execute_result"
    }
   ],
   "source": [
    "lora_model.peft_config"
   ]
  },
  {
   "cell_type": "code",
   "execution_count": 39,
   "id": "3048b422-a7d5-4ec5-a9d8-3202f44fc783",
   "metadata": {
    "execution": {
     "iopub.execute_input": "2023-07-16T08:08:22.538631Z",
     "iopub.status.busy": "2023-07-16T08:08:22.538239Z",
     "iopub.status.idle": "2023-07-16T08:08:24.535719Z",
     "shell.execute_reply": "2023-07-16T08:08:24.535100Z",
     "shell.execute_reply.started": "2023-07-16T08:08:22.538606Z"
    }
   },
   "outputs": [],
   "source": [
    "response1_q, history = lora_model.chat(tokenizer, query=query1, history=[])"
   ]
  },
  {
   "cell_type": "code",
   "execution_count": 40,
   "id": "476bafa8-6795-4f07-be84-6f188d8eaf77",
   "metadata": {
    "execution": {
     "iopub.execute_input": "2023-07-16T08:08:30.716607Z",
     "iopub.status.busy": "2023-07-16T08:08:30.715893Z",
     "iopub.status.idle": "2023-07-16T08:08:30.720497Z",
     "shell.execute_reply": "2023-07-16T08:08:30.719853Z",
     "shell.execute_reply.started": "2023-07-16T08:08:30.716583Z"
    }
   },
   "outputs": [
    {
     "data": {
      "text/plain": [
       "'患者可能患有妊娠期高血压疾病引起的妊娠期肝血肿及破裂，需要进行B超检查、实验室检查等辅助检查，对症给予肝素、冻干人血浆等治疗方案。'"
      ]
     },
     "execution_count": 40,
     "metadata": {},
     "output_type": "execute_result"
    }
   ],
   "source": [
    "target1"
   ]
  },
  {
   "cell_type": "code",
   "execution_count": 41,
   "id": "25275cc0-8288-4ee9-858e-7d9102e52095",
   "metadata": {
    "execution": {
     "iopub.execute_input": "2023-07-16T08:08:36.708010Z",
     "iopub.status.busy": "2023-07-16T08:08:36.707597Z",
     "iopub.status.idle": "2023-07-16T08:08:36.711990Z",
     "shell.execute_reply": "2023-07-16T08:08:36.711451Z",
     "shell.execute_reply.started": "2023-07-16T08:08:36.707982Z"
    }
   },
   "outputs": [
    {
     "data": {
      "text/plain": [
       "'该患者可能患有妊娠期肝内胆管炎，建议进行超声检查、B超检查和CT检查等辅助检查，同时需要及时就医，进行治疗和护理。'"
      ]
     },
     "execution_count": 41,
     "metadata": {},
     "output_type": "execute_result"
    }
   ],
   "source": [
    "response1_q"
   ]
  },
  {
   "cell_type": "code",
   "execution_count": 45,
   "id": "831a3e4d-6025-4bb2-bfea-510bad63b783",
   "metadata": {
    "execution": {
     "iopub.execute_input": "2023-07-16T08:09:49.261431Z",
     "iopub.status.busy": "2023-07-16T08:09:49.260748Z",
     "iopub.status.idle": "2023-07-16T08:09:49.265540Z",
     "shell.execute_reply": "2023-07-16T08:09:49.264836Z",
     "shell.execute_reply.started": "2023-07-16T08:09:49.261405Z"
    }
   },
   "outputs": [
    {
     "data": {
      "text/plain": [
       "'根据病史和体检结果,患者可能患有妊娠期高血压疾病( pre-eclampsia,PE )。\\n\\nPE是一种妊娠并发症,其特征是高血压、蛋白尿和水肿,通常在怀孕20周后发生,但在孕24-28周达到高峰。患者的血压升高和肝区压痛也支持这一诊断。恶心、呕吐等症状可能与高血压引起的消化系统问题有关。\\n\\n其他可能的疾病包括肝疾病、胆囊炎、胃炎等,但这些疾病通常不会伴随妊娠期高血压的典型症状,因此可以排除。建议患者尽快到医院就诊,接受进一步的检查和治疗,包括 blood pressure monitoring, urine analysis, and imaging tests if necessary.'"
      ]
     },
     "execution_count": 45,
     "metadata": {},
     "output_type": "execute_result"
    }
   ],
   "source": [
    "response1"
   ]
  },
  {
   "cell_type": "code",
   "execution_count": 42,
   "id": "f3c7601c-06fb-4882-b742-e7f14e865014",
   "metadata": {
    "execution": {
     "iopub.execute_input": "2023-07-16T08:09:13.218244Z",
     "iopub.status.busy": "2023-07-16T08:09:13.217697Z",
     "iopub.status.idle": "2023-07-16T08:09:15.095946Z",
     "shell.execute_reply": "2023-07-16T08:09:15.095333Z",
     "shell.execute_reply.started": "2023-07-16T08:09:13.218221Z"
    }
   },
   "outputs": [],
   "source": [
    "response2_q, history = lora_model.chat(tokenizer, query=query2, history=[])"
   ]
  },
  {
   "cell_type": "code",
   "execution_count": 43,
   "id": "a1480e9a-7949-4555-a5cb-6da90dd0b2cc",
   "metadata": {
    "execution": {
     "iopub.execute_input": "2023-07-16T08:09:17.380763Z",
     "iopub.status.busy": "2023-07-16T08:09:17.380385Z",
     "iopub.status.idle": "2023-07-16T08:09:17.384858Z",
     "shell.execute_reply": "2023-07-16T08:09:17.384264Z",
     "shell.execute_reply.started": "2023-07-16T08:09:17.380741Z"
    }
   },
   "outputs": [
    {
     "data": {
      "text/plain": [
       "'建议小孙注意面部皮肤的清洁卫生，睡前洗面，避免长时间接触手机和电脑，减少紫外线暴晒。同时，可采用多西环素、金霉素等口服抗生素消炎，也可以使用物理治疗方法，如光子嫩肤、超声刀、微针等，帮助去除粉刺并调整肌肤的水油平衡。'"
      ]
     },
     "execution_count": 43,
     "metadata": {},
     "output_type": "execute_result"
    }
   ],
   "source": [
    "target2"
   ]
  },
  {
   "cell_type": "code",
   "execution_count": 44,
   "id": "5ce69374-be3f-4f2e-b2dc-6bdb0f7e1909",
   "metadata": {
    "execution": {
     "iopub.execute_input": "2023-07-16T08:09:23.420281Z",
     "iopub.status.busy": "2023-07-16T08:09:23.419922Z",
     "iopub.status.idle": "2023-07-16T08:09:23.424356Z",
     "shell.execute_reply": "2023-07-16T08:09:23.423759Z",
     "shell.execute_reply.started": "2023-07-16T08:09:23.420255Z"
    }
   },
   "outputs": [
    {
     "data": {
      "text/plain": [
       "'建议小孙到皮肤科就诊，医生会根据病情进行相应的检查和治疗，同时建议注意皮肤卫生，避免过度清洁，避免使用刺激性化妆品等。'"
      ]
     },
     "execution_count": 44,
     "metadata": {},
     "output_type": "execute_result"
    }
   ],
   "source": [
    "response2_q"
   ]
  },
  {
   "cell_type": "code",
   "execution_count": 46,
   "id": "3efe3e7e-5c1d-4bff-a834-83c099c327b8",
   "metadata": {
    "execution": {
     "iopub.execute_input": "2023-07-16T08:10:13.492330Z",
     "iopub.status.busy": "2023-07-16T08:10:13.491656Z",
     "iopub.status.idle": "2023-07-16T08:10:13.496098Z",
     "shell.execute_reply": "2023-07-16T08:10:13.495494Z",
     "shell.execute_reply.started": "2023-07-16T08:10:13.492294Z"
    }
   },
   "outputs": [
    {
     "data": {
      "text/plain": [
       "'根据小孙的描述，他可能患有痤疮，这是一种常见的皮肤疾病，通常在青春期时发生，但也可能在成年时期出现。痤疮的发生与皮肤油脂分泌过多、阻塞毛孔、细菌感染等因素有关。\\n\\n以下是一些可能有助于改善小孙肤质的方法:\\n\\n1. 温和清洁：小孙应该每天用温和的洁面产品轻轻地清洗面部，以减少皮肤油脂和污垢的积累。\\n\\n2. 保持皮肤清洁：使用温和的保湿产品，保持皮肤干燥，这有助于减少皮肤油脂的分泌。\\n\\n3. 避免摸脸：避免经常触摸面部，因为手指上的细菌可能会传到脸上，引起痤疮。\\n\\n4. 饮食健康：小孙应该避免摄入高糖、高脂肪、高盐、高咖啡因等不健康的食物，多摄取富含维生素和蛋白质的食物，如水果、蔬菜、鱼类等。\\n\\n5. 注意休息：保持良好的作息时间，避免过度疲劳，有利于改善皮肤状况。\\n\\n6. 使用外用药物：根据医生的建议，小孙可以考虑使用外用药物，如含有水杨酸、苯甲酸等成分的外用药物，有助于缓解痤疮的症状。\\n\\n请注意，以上回答仅供参考，如果小孙的病情较为严重，建议尽快就医，寻求专业医生的帮助。'"
      ]
     },
     "execution_count": 46,
     "metadata": {},
     "output_type": "execute_result"
    }
   ],
   "source": [
    "response2"
   ]
  },
  {
   "cell_type": "markdown",
   "id": "37b1e8bc-8366-4aaf-b7c9-eb21e06c3a00",
   "metadata": {},
   "source": [
    "## generally QA "
   ]
  },
  {
   "cell_type": "code",
   "execution_count": 48,
   "id": "a9344495-682a-498c-83c0-581b6eec83b0",
   "metadata": {
    "execution": {
     "iopub.execute_input": "2023-07-16T08:23:12.176479Z",
     "iopub.status.busy": "2023-07-16T08:23:12.176115Z",
     "iopub.status.idle": "2023-07-16T08:23:26.148680Z",
     "shell.execute_reply": "2023-07-16T08:23:26.147893Z",
     "shell.execute_reply.started": "2023-07-16T08:23:12.176458Z"
    },
    "tags": []
   },
   "outputs": [],
   "source": [
    "response, history = lora_model.chat(tokenizer, '输出一份黄山旅游的计划', history=[])"
   ]
  },
  {
   "cell_type": "code",
   "execution_count": 49,
   "id": "cc9e2b3e-268e-4f37-b4f9-9cef3fc8039e",
   "metadata": {
    "execution": {
     "iopub.execute_input": "2023-07-16T08:23:37.541952Z",
     "iopub.status.busy": "2023-07-16T08:23:37.541231Z",
     "iopub.status.idle": "2023-07-16T08:23:37.546168Z",
     "shell.execute_reply": "2023-07-16T08:23:37.545515Z",
     "shell.execute_reply.started": "2023-07-16T08:23:37.541924Z"
    }
   },
   "outputs": [
    {
     "data": {
      "text/plain": [
       "'以下是一份黄山旅游计划:\\n\\n第一天:\\n1. 黄山风景区出发,乘坐缆车上山。\\n2. 到达山顶,欣赏壮丽的山景。\\n3. 参观黄山的地质博物馆,了解黄山的地质背景和自然形成过程。\\n4. 在山上午餐,品尝当地的美食。\\n5. 前往光明顶,欣赏黄山著名的阳光房和云海。\\n6. 在光明顶拍照留念,等待下午的行程。\\n\\n第二天:\\n1. 前往黄山的始信峰,欣赏山间美景。\\n2. 参观始信峰的黄山风景区博物馆,了解黄山的景区历史和文化。\\n3. 在始信峰午餐,品尝当地美食。\\n4. 前往黄山的卧佛峰,欣赏山间美景。\\n5. 在卧佛峰午餐,品尝当地美食。\\n6. 前往黄山的始新峰,欣赏山间美景。\\n7. 在始新峰午餐,品尝当地美食。\\n8. 返回黄山的酒店,结束愉快的黄山之旅。\\n\\n以上是一份黄山旅游计划,希望能够帮助到您。'"
      ]
     },
     "execution_count": 49,
     "metadata": {},
     "output_type": "execute_result"
    }
   ],
   "source": [
    "response"
   ]
  },
  {
   "cell_type": "code",
   "execution_count": 53,
   "id": "e2907e0c-c1fa-4440-88e1-7a7f4c9d12a6",
   "metadata": {
    "ExecutionIndicator": {
     "show": true
    },
    "execution": {
     "iopub.execute_input": "2023-07-16T08:24:50.397360Z",
     "iopub.status.busy": "2023-07-16T08:24:50.396656Z",
     "iopub.status.idle": "2023-07-16T08:24:57.172526Z",
     "shell.execute_reply": "2023-07-16T08:24:57.171867Z",
     "shell.execute_reply.started": "2023-07-16T08:24:50.397335Z"
    },
    "tags": []
   },
   "outputs": [],
   "source": [
    "response, history = lora_model.chat(tokenizer, '大众汽车怎么样?', history=[])"
   ]
  },
  {
   "cell_type": "code",
   "execution_count": 54,
   "id": "ae52ce9d-9ebc-489e-9514-fe8cf75d5ed3",
   "metadata": {
    "execution": {
     "iopub.execute_input": "2023-07-16T08:24:58.968643Z",
     "iopub.status.busy": "2023-07-16T08:24:58.967921Z",
     "iopub.status.idle": "2023-07-16T08:24:58.973096Z",
     "shell.execute_reply": "2023-07-16T08:24:58.972365Z",
     "shell.execute_reply.started": "2023-07-16T08:24:58.968617Z"
    },
    "tags": []
   },
   "outputs": [
    {
     "data": {
      "text/plain": [
       "'作为一家德国汽车制造商,大众汽车在全球范围内享有广泛的品牌知名度和销售网络,是一家规模庞大、经验丰富的汽车制造商。\\n\\n近年来,大众汽车在电动汽车和自动驾驶技术方面取得了重要进展,并加大了在电动汽车市场的投入。此外,大众汽车也致力于改善环境性能,并采取了一系列措施,如开发更环保的发动机和车辆,以及推广可持续驾驶等。\\n\\n当然,每个消费者对于汽车的需求和口味都不同,因此,对于大众汽车是否适合你,你需要根据自己的具体需求和喜好进行评估。'"
      ]
     },
     "execution_count": 54,
     "metadata": {},
     "output_type": "execute_result"
    }
   ],
   "source": [
    "response"
   ]
  },
  {
   "cell_type": "code",
   "execution_count": 55,
   "id": "ff9cecee-ce8b-4855-b2f9-47c502c194ff",
   "metadata": {
    "ExecutionIndicator": {
     "show": true
    },
    "execution": {
     "iopub.execute_input": "2023-07-16T08:25:10.529199Z",
     "iopub.status.busy": "2023-07-16T08:25:10.528609Z",
     "iopub.status.idle": "2023-07-16T08:25:21.753774Z",
     "shell.execute_reply": "2023-07-16T08:25:21.753129Z",
     "shell.execute_reply.started": "2023-07-16T08:25:10.529171Z"
    },
    "tags": []
   },
   "outputs": [],
   "source": [
    "response, history = lora_model.chat(tokenizer, '下雨天骑电瓶车有哪些需要注意的问题?', history=[])"
   ]
  },
  {
   "cell_type": "code",
   "execution_count": 56,
   "id": "ad39f5d6-1a36-425a-9b00-79a2b6958639",
   "metadata": {
    "execution": {
     "iopub.execute_input": "2023-07-16T08:25:30.194957Z",
     "iopub.status.busy": "2023-07-16T08:25:30.194247Z",
     "iopub.status.idle": "2023-07-16T08:25:30.198848Z",
     "shell.execute_reply": "2023-07-16T08:25:30.198207Z",
     "shell.execute_reply.started": "2023-07-16T08:25:30.194932Z"
    }
   },
   "outputs": [
    {
     "data": {
      "text/plain": [
       "'下雨天骑电瓶车需要注意以下问题:\\n\\n1. 防水:电瓶车淋雨后可能会漏电,需要确保车辆和骑行者的安全。可以考虑购买带有防水功能的电瓶车。\\n\\n2. 防滑:雨天路滑,需要采取防滑措施,如加防滑链或轮子加宽等。\\n\\n3. 避免行驶在积水中:不要在积水中行驶,以免车辆被泡坏。\\n\\n4. 提高可见度:穿戴雨衣或雨披等雨具,提高行车可见度。\\n\\n5. 注意电瓶防水:可以考虑在电瓶上涂抹防水剂,以保护电瓶不受雨水侵蚀。 \\n\\n6. 注意充电安全:不要在雨天露天充电,应选择安全的地方进行充电。\\n\\n7. 注意骑行安全:在雨天骑行时,要减速慢行,注意避开障碍物和危险路段。'"
      ]
     },
     "execution_count": 56,
     "metadata": {},
     "output_type": "execute_result"
    }
   ],
   "source": [
    "response"
   ]
  },
  {
   "cell_type": "markdown",
   "id": "e270f920-3f46-46d6-bf49-05afe5d1b383",
   "metadata": {
    "tags": []
   },
   "source": [
    "# Note\n",
    "- After instructions-tuning, we have observed that the outputs of the model indeed underwent certain changes\n",
    "- For medical dialogues, prior to fine-tuning, the model's outputs tended to be lengthy. However, post fine-tuning, the model's outputs became more concise, aligning closely with the length of our dataset. Considering the sampling strategy employed during model output, although the outputs may not be entirely identical to the data in the dataset in terms of content, a careful analysis reveals that the outputs do align reasonably well with the data in the dataset. This indicates the effectiveness of our fine-tuning process.\n",
    "- For general conversations, we have discovered that after meticulous instruction fine-tuning, the model did not exhibit severe catastrophic forgetting. It is still capable of providing decent answers to general questions. However, the length of the output content is shorter and more concise compared to the pre-fine-tuning stage. This indicates that our fine-tuning process indeed aligns the model's output more closely with the length of the data in the dataset.\n",
    "- Given our training parameters, although we set the rank of our Lora parameter matrix to 12, which is generally a relatively large value, we have reduced the alpha parameter. The alpha parameter is used to scale the values computed from the Lora matrix. Typically, the alpha parameter is four times the rank, indicating that the computed Lora results are multiplied by four and added to the results of the original parameter matrix. In our case, we have set the alpha parameter to 24, so we are only amplifying the computed Lora results by a factor of two. Further adjustments to the parameters may help align the model's output with the data used for training.\n",
    "- We will now modify the temperature parameter used in the output sampling process to achieve a more consistent output result. This adjustment is intended to observe and assess any potential impact it may have on the results."
   ]
  },
  {
   "cell_type": "code",
   "execution_count": null,
   "id": "58b73af8-7505-4e8d-bb89-f687782eb471",
   "metadata": {
    "ExecutionIndicator": {
     "show": true
    },
    "tags": []
   },
   "outputs": [],
   "source": [
    "response1_q_p, history = lora_model.chat(tokenizer, query=query1, history=[], temperature=0.5)"
   ]
  },
  {
   "cell_type": "code",
   "execution_count": 61,
   "id": "620fa19a-f640-44d3-8a65-05fbd6ef66a0",
   "metadata": {
    "execution": {
     "iopub.execute_input": "2023-07-16T08:53:23.873138Z",
     "iopub.status.busy": "2023-07-16T08:53:23.872738Z",
     "iopub.status.idle": "2023-07-16T08:53:23.877401Z",
     "shell.execute_reply": "2023-07-16T08:53:23.876751Z",
     "shell.execute_reply.started": "2023-07-16T08:53:23.873112Z"
    }
   },
   "outputs": [
    {
     "data": {
      "text/plain": [
       "'指令：下面是一个医学领域的问题，请根据你对医学领域的了解，严谨细致的回答，如果不清楚就回答不清楚，不许胡编乱造。\\n问题：患者孕14周，主诉右上腹部疼痛，伴随恶心、呕吐，BP 160/110 mmHg，体检腹肌紧张，有肝区压痛。请问可能患有什么疾病？\\n回答: '"
      ]
     },
     "execution_count": 61,
     "metadata": {},
     "output_type": "execute_result"
    }
   ],
   "source": [
    "query1"
   ]
  },
  {
   "cell_type": "code",
   "execution_count": 58,
   "id": "f02cb098-ba46-4b99-acae-3273772a0efb",
   "metadata": {
    "execution": {
     "iopub.execute_input": "2023-07-16T08:52:50.054211Z",
     "iopub.status.busy": "2023-07-16T08:52:50.053630Z",
     "iopub.status.idle": "2023-07-16T08:52:50.058222Z",
     "shell.execute_reply": "2023-07-16T08:52:50.057682Z",
     "shell.execute_reply.started": "2023-07-16T08:52:50.054187Z"
    }
   },
   "outputs": [
    {
     "data": {
      "text/plain": [
       "'可能患有妊娠期肝内胆汁淤积症，需要进行超声检查、B超检查、肝功能检查等辅助检查，同时进行治疗，如口服胆酸钠、硫酸镁等药物，以及进行手术治疗。'"
      ]
     },
     "execution_count": 58,
     "metadata": {},
     "output_type": "execute_result"
    }
   ],
   "source": [
    "response1_q_p"
   ]
  },
  {
   "cell_type": "code",
   "execution_count": 59,
   "id": "3a427077-0634-4222-a179-c55aaaa079d0",
   "metadata": {
    "execution": {
     "iopub.execute_input": "2023-07-16T08:53:04.183149Z",
     "iopub.status.busy": "2023-07-16T08:53:04.182736Z",
     "iopub.status.idle": "2023-07-16T08:53:04.187432Z",
     "shell.execute_reply": "2023-07-16T08:53:04.186834Z",
     "shell.execute_reply.started": "2023-07-16T08:53:04.183123Z"
    }
   },
   "outputs": [
    {
     "data": {
      "text/plain": [
       "'患者可能患有妊娠期高血压疾病引起的妊娠期肝血肿及破裂，需要进行B超检查、实验室检查等辅助检查，对症给予肝素、冻干人血浆等治疗方案。'"
      ]
     },
     "execution_count": 59,
     "metadata": {},
     "output_type": "execute_result"
    }
   ],
   "source": [
    "target1"
   ]
  },
  {
   "cell_type": "code",
   "execution_count": 60,
   "id": "65270152-2060-46d2-8aba-1568f909f4c6",
   "metadata": {
    "execution": {
     "iopub.execute_input": "2023-07-16T08:53:10.460797Z",
     "iopub.status.busy": "2023-07-16T08:53:10.460426Z",
     "iopub.status.idle": "2023-07-16T08:53:10.464918Z",
     "shell.execute_reply": "2023-07-16T08:53:10.464333Z",
     "shell.execute_reply.started": "2023-07-16T08:53:10.460773Z"
    }
   },
   "outputs": [
    {
     "data": {
      "text/plain": [
       "'该患者可能患有妊娠期肝内胆管炎，建议进行超声检查、B超检查和CT检查等辅助检查，同时需要及时就医，进行治疗和护理。'"
      ]
     },
     "execution_count": 60,
     "metadata": {},
     "output_type": "execute_result"
    }
   ],
   "source": [
    "response1_q"
   ]
  },
  {
   "cell_type": "code",
   "execution_count": 67,
   "id": "e26983ab-08aa-40c6-90df-6339b5104e84",
   "metadata": {
    "ExecutionIndicator": {
     "show": true
    },
    "execution": {
     "iopub.execute_input": "2023-07-16T08:59:02.726464Z",
     "iopub.status.busy": "2023-07-16T08:59:02.726074Z",
     "iopub.status.idle": "2023-07-16T08:59:04.990206Z",
     "shell.execute_reply": "2023-07-16T08:59:04.989503Z",
     "shell.execute_reply.started": "2023-07-16T08:59:02.726438Z"
    },
    "tags": []
   },
   "outputs": [],
   "source": [
    "response2_q_p, history = lora_model.chat(tokenizer, query=query2, history=[], temperature=0.1)"
   ]
  },
  {
   "cell_type": "code",
   "execution_count": 64,
   "id": "8168b718-8175-496c-aa80-504f03699c26",
   "metadata": {
    "execution": {
     "iopub.execute_input": "2023-07-16T08:57:57.180941Z",
     "iopub.status.busy": "2023-07-16T08:57:57.180554Z",
     "iopub.status.idle": "2023-07-16T08:57:57.185094Z",
     "shell.execute_reply": "2023-07-16T08:57:57.184519Z",
     "shell.execute_reply.started": "2023-07-16T08:57:57.180906Z"
    }
   },
   "outputs": [
    {
     "data": {
      "text/plain": [
       "'建议小孙注意面部皮肤的清洁卫生，睡前洗面，避免长时间接触手机和电脑，减少紫外线暴晒。同时，可采用多西环素、金霉素等口服抗生素消炎，也可以使用物理治疗方法，如光子嫩肤、超声刀、微针等，帮助去除粉刺并调整肌肤的水油平衡。'"
      ]
     },
     "execution_count": 64,
     "metadata": {},
     "output_type": "execute_result"
    }
   ],
   "source": [
    "target2"
   ]
  },
  {
   "cell_type": "code",
   "execution_count": 68,
   "id": "bc36914b-1533-4d69-b772-ce5575594f1e",
   "metadata": {
    "execution": {
     "iopub.execute_input": "2023-07-16T08:59:08.271110Z",
     "iopub.status.busy": "2023-07-16T08:59:08.270726Z",
     "iopub.status.idle": "2023-07-16T08:59:08.275266Z",
     "shell.execute_reply": "2023-07-16T08:59:08.274677Z",
     "shell.execute_reply.started": "2023-07-16T08:59:08.271089Z"
    },
    "tags": []
   },
   "outputs": [
    {
     "data": {
      "text/plain": [
       "'建议小孙到皮肤科就诊，医生会根据病情进行诊断，并给出相应的治疗方案。同时，小孙也需要注意饮食、生活作息等生活习惯，避免过度油腻、熬夜等不良习惯。'"
      ]
     },
     "execution_count": 68,
     "metadata": {},
     "output_type": "execute_result"
    }
   ],
   "source": [
    "response2_q_p"
   ]
  },
  {
   "cell_type": "code",
   "execution_count": 66,
   "id": "7bb235c2-00cd-4345-8f8c-709421a5f3d5",
   "metadata": {
    "execution": {
     "iopub.execute_input": "2023-07-16T08:58:14.812372Z",
     "iopub.status.busy": "2023-07-16T08:58:14.811976Z",
     "iopub.status.idle": "2023-07-16T08:58:14.816673Z",
     "shell.execute_reply": "2023-07-16T08:58:14.815968Z",
     "shell.execute_reply.started": "2023-07-16T08:58:14.812346Z"
    }
   },
   "outputs": [
    {
     "data": {
      "text/plain": [
       "'建议小孙到皮肤科就诊，医生会根据病情进行相应的检查和治疗，同时建议注意皮肤卫生，避免过度清洁，避免使用刺激性化妆品等。'"
      ]
     },
     "execution_count": 66,
     "metadata": {},
     "output_type": "execute_result"
    }
   ],
   "source": [
    "response2_q"
   ]
  },
  {
   "cell_type": "markdown",
   "id": "ee671cfa-a9a2-4f9b-bb75-05a06429dee8",
   "metadata": {},
   "source": [
    "## temperature\n",
    "- After reducing the temperature parameter, there was no significant impact on the output results. However, for the first question, there was a vague sense that the alignment with the training data seemed to have improved to some extent."
   ]
  },
  {
   "cell_type": "code",
   "execution_count": null,
   "id": "c21156b3-9921-4906-abd5-1b5041058d5e",
   "metadata": {},
   "outputs": [],
   "source": []
  }
 ],
 "metadata": {
  "kernelspec": {
   "display_name": "llm",
   "language": "python",
   "name": "llm"
  },
  "language_info": {
   "codemirror_mode": {
    "name": "ipython",
    "version": 3
   },
   "file_extension": ".py",
   "mimetype": "text/x-python",
   "name": "python",
   "nbconvert_exporter": "python",
   "pygments_lexer": "ipython3",
   "version": "3.11.3"
  }
 },
 "nbformat": 4,
 "nbformat_minor": 5
}
